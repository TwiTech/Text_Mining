{
  "nbformat": 4,
  "nbformat_minor": 0,
  "metadata": {
    "colab": {
      "name": "Copy of Dealing_with_text_Naive_Bayes_2017.ipynb",
      "version": "0.3.2",
      "provenance": [],
      "toc_visible": true,
      "include_colab_link": true
    },
    "language_info": {
      "codemirror_mode": {
        "name": "ipython",
        "version": 2
      },
      "file_extension": ".py",
      "mimetype": "text/x-python",
      "name": "python",
      "nbconvert_exporter": "python",
      "pygments_lexer": "ipython2",
      "version": "2.7.13"
    },
    "kernelspec": {
      "display_name": "Python 2",
      "language": "python",
      "name": "python2"
    }
  },
  "cells": [
    {
      "cell_type": "markdown",
      "metadata": {
        "id": "view-in-github",
        "colab_type": "text"
      },
      "source": [
        "<a href=\"https://colab.research.google.com/github/lauramoraes/Text_Mining/blob/master/4%20-%20Dealing%20with%20text%20Naive%20Bayes.ipynb\" target=\"_parent\"><img src=\"https://colab.research.google.com/assets/colab-badge.svg\" alt=\"Open In Colab\"/></a>"
      ]
    },
    {
      "cell_type": "markdown",
      "metadata": {
        "id": "H7biqTAqEXGG",
        "colab_type": "text"
      },
      "source": [
        "# Dealing with text and Naive Bayes\n",
        "\n",
        "Spring 2017 - Prof. Foster Provost\n",
        "\n",
        "Teacher Assistant: Maria L Zamora Maass\n",
        "\n",
        "***\n",
        "\n"
      ]
    },
    {
      "cell_type": "markdown",
      "metadata": {
        "id": "vWYtlXoUEXGM",
        "colab_type": "text"
      },
      "source": [
        "Read in some packages."
      ]
    },
    {
      "cell_type": "code",
      "metadata": {
        "id": "A8_ijulrEXGQ",
        "colab_type": "code",
        "colab": {}
      },
      "source": [
        "# Import the libraries we will be using\n",
        "import numpy as np\n",
        "import pandas as pd\n",
        "from sklearn.linear_model import LogisticRegression\n",
        "from sklearn import metrics\n",
        "from sklearn.model_selection import train_test_split\n",
        "from sklearn.feature_extraction.text import CountVectorizer\n",
        "from sklearn.feature_extraction.text import TfidfVectorizer\n",
        "\n",
        "import matplotlib.pylab as plt\n",
        "%matplotlib inline\n",
        "plt.rcParams['figure.figsize'] = 10, 8\n",
        "\n",
        "np.random.seed(36)\n",
        "\n",
        "# We will want to keep track of some different roc curves, lets do that here\n",
        "tprs = []\n",
        "fprs = []\n",
        "roc_labels = []\n"
      ],
      "execution_count": 0,
      "outputs": []
    },
    {
      "cell_type": "markdown",
      "metadata": {
        "id": "skUWGpvcEXGc",
        "colab_type": "text"
      },
      "source": [
        "### Data\n",
        "For this class, we have a new data set in `data/spam_ham.csv`. Let's take a look at what it contains.\n",
        "\n",
        "Let's remember how to use the terminal (UNIX) commands for quick queries."
      ]
    },
    {
      "cell_type": "code",
      "metadata": {
        "id": "t993sIAjGTub",
        "colab_type": "code",
        "colab": {}
      },
      "source": [
        "import requests\n",
        "\n",
        "output_file = 'spam_ham.csv'\n",
        "url = \"https://raw.githubusercontent.com/mariazm/Spring2017_ProfFosterProvost/master/Module6_Text_NaiveBayes/data/spam_ham.csv\"\n",
        "r = requests.get(url)\n",
        "\n",
        "with open(output_file, 'wb') as f: #open as block write.\n",
        "  for chunk in r.iter_content(chunk_size=4096): \n",
        "      if chunk: # filter out keep-alive new chunks\n",
        "          f.write(chunk)\n",
        "  f.flush() #Afterall, force data flush into output file (optional)"
      ],
      "execution_count": 0,
      "outputs": []
    },
    {
      "cell_type": "code",
      "metadata": {
        "id": "9SrPsPGHEXGg",
        "colab_type": "code",
        "outputId": "b862e5f9-4c3c-472f-a70c-e7dd48b36fd3",
        "colab": {
          "base_uri": "https://localhost:8080/",
          "height": 72
        }
      },
      "source": [
        "!head -2 spam_ham.csv"
      ],
      "execution_count": 0,
      "outputs": [
        {
          "output_type": "stream",
          "text": [
            "text,spam\n",
            "'Hi...I have to use R to find out the 90\\% confidence-interval for the sensitivityand specificity of the following diagnostic test:A particular diagnostic test for multiple sclerosis was conducted on 20 MSpatients and 20 healthy subjects, 6 MS patients were classified as healthyand 8 healthy subjects were classified as suffering from the MS.Furthermore, I need to find the number of MS patients required for asensitivity of 1\\%...Is there a simple R-command which can do that for me?I am completely new to R...Help please!Jochen-- View this message in context: http://www.nabble.com/Confidence-Intervals....-help...-tf3544217.html#a9894014Sent from the R help mailing list archive at Nabble.com.______________________________________________R-help@stat.math.ethz.ch mailing listhttps://stat.ethz.ch/mailman/listinfo/r-helpPLEASE do read the posting guide http://www.R-project.org/posting-guide.html',ham\n"
          ],
          "name": "stdout"
        }
      ]
    },
    {
      "cell_type": "code",
      "metadata": {
        "id": "RYFFCGDhEXGu",
        "colab_type": "code",
        "outputId": "80532647-c30a-4eca-b8a1-0e687287ae07",
        "colab": {
          "base_uri": "https://localhost:8080/",
          "height": 89
        }
      },
      "source": [
        "!head -3 spam_ham.csv"
      ],
      "execution_count": 0,
      "outputs": [
        {
          "output_type": "stream",
          "text": [
            "text,spam\n",
            "'Hi...I have to use R to find out the 90\\% confidence-interval for the sensitivityand specificity of the following diagnostic test:A particular diagnostic test for multiple sclerosis was conducted on 20 MSpatients and 20 healthy subjects, 6 MS patients were classified as healthyand 8 healthy subjects were classified as suffering from the MS.Furthermore, I need to find the number of MS patients required for asensitivity of 1\\%...Is there a simple R-command which can do that for me?I am completely new to R...Help please!Jochen-- View this message in context: http://www.nabble.com/Confidence-Intervals....-help...-tf3544217.html#a9894014Sent from the R help mailing list archive at Nabble.com.______________________________________________R-help@stat.math.ethz.ch mailing listhttps://stat.ethz.ch/mailman/listinfo/r-helpPLEASE do read the posting guide http://www.R-project.org/posting-guide.html',ham\n",
            "'Francesco Poli wrote:> On Sun, 15 Apr 2007 21:24:00 +0200 Arnoud Engelfriet wrote:> > The sign [X] (hereafter \\\"the Mark\\\") is a trademark, rights to which> > are held by [Y], representing [Z] if applicable (hereafter \\\"the> > Mark Holder\\\").> > Wait, the \\\"Mark Holder\\\" would be [Y], I think.I thought you used Y and Z for cases where Y is licensing Z\\'strademark (if Y is Z\\'s subsidiary or authorized licensee for example).Then the trademark holder is Z but Y has certain rights to the mark.The \\\"if applicable\\\" means if there is a Z. Perhaps the whole Z thingshould be taken out. \\\"Rights to which are held by Y\\\", and in thedocument where you define Y you can explain that Y is a subsidiaryof Z or whatever.> | If the Mark qualifies as an original work of authorship under> | copyright law, then the Mark Holder hereby also grants you a copyright> | license, but that is not a trademark license and should not be> | construed as one.That\\'s what I meant. If you\\'re separating the two, I don\\'t think the word \\\"also\\\" in theabove is appropriate. I guess in such a case you don\\'t want to saymore than \\\"there\\'s also a copyright license, go read that one, butremember it\\'s not a trademark license.\\\" | If the Mark qualifies as an original work of authorship under| copyright law, then the Mark Holder SEPARATELY grants you a copyright| license, but that is not a trademark license and should not be| construed as one.That word \\'separately\\' makes it clear that this sentence is merelyan explanation and not by itself a copyright license.Arnoud-- Arnoud Engelfriet, Dutch & European patent attorney - Speaking only for myselfPatents, copyright and IPR explained for techies: http://www.iusmentis.com/-- To UNSUBSCRIBE, email to debian-legal-REQUEST@lists.debian.org',ham\n"
          ],
          "name": "stdout"
        }
      ]
    },
    {
      "cell_type": "markdown",
      "metadata": {
        "id": "bcpyAu8JEXG6",
        "colab_type": "text"
      },
      "source": [
        "Looks like we have two features: some text (looks like an email), and a label for spam or ham. What is the distribution of the target variable?"
      ]
    },
    {
      "cell_type": "code",
      "metadata": {
        "id": "rULVPW0HEXG7",
        "colab_type": "code",
        "outputId": "b117a926-fcc4-45e9-97fa-cb3bf10d9e36",
        "colab": {
          "base_uri": "https://localhost:8080/",
          "height": 208
        }
      },
      "source": [
        "!cut -f2 -d',' spam_ham.csv | sort | uniq -c | head"
      ],
      "execution_count": 0,
      "outputs": [
        {
          "output_type": "stream",
          "text": [
            "      1 \n",
            "     12  '\n",
            "      6  \\'<\\'\n",
            "      2  \\\"<\\\"\n",
            "      1  \\\" \\\"\n",
            "     12 '\n",
            "      1 \\\"\n",
            "      3 \\\"<\\\"\n",
            "      1 \\\">\\\"\n",
            "      2 0\n",
            "uniq: write error: Broken pipe\n"
          ],
          "name": "stdout"
        }
      ]
    },
    {
      "cell_type": "markdown",
      "metadata": {
        "id": "CoJyAr0IEXHQ",
        "colab_type": "text"
      },
      "source": [
        "It doesn't look like that did what we wanted. Can you see why?\n",
        "\n",
        "The data in this file is **text data**. The text data in the first column can have commas. The command line will have some issues reading this data since it will try to split on all instances of the delimeter. Ideally, we would like to have a way of **encapsulating** the first column. Note that we actually have something like this in the data. The first column is wrapped in single quotes. Python (and pandas) have more explicit ways of dealing with this:"
      ]
    },
    {
      "cell_type": "code",
      "metadata": {
        "id": "BI4GqQNwEXHS",
        "colab_type": "code",
        "colab": {}
      },
      "source": [
        "data = pd.read_csv(\"spam_ham.csv\", quotechar=\"'\", escapechar=\"\\\\\")"
      ],
      "execution_count": 0,
      "outputs": []
    },
    {
      "cell_type": "markdown",
      "metadata": {
        "id": "jXZ8pMHeEXHb",
        "colab_type": "text"
      },
      "source": [
        "Above, we specify that fields that need to be encapsulated are done so with single quotes (`quotechar`). But, what if the text in this field uses single quotes? For example, apostrophes in words like \"can't\" would break the encapsulation. To overcome this, we **escape** single quotes that are actually just text. Here, we specify the escape character as a backslash (`escapechar`). So now, for example, \"can't\" would be written as \"can\\'t\".\n",
        "\n",
        "(Normally, this would involve slightly painful process of going through, finding the extra quotes, and escaping them.  A common way to find them would be to try to load the data, see where it breaks, fix the problem, and then iterate.  If there are just a few issues to fix, this can be effective.)\n",
        "\n",
        "Let's take another look at our data."
      ]
    },
    {
      "cell_type": "code",
      "metadata": {
        "id": "vZjt5NcMEXHe",
        "colab_type": "code",
        "outputId": "1cac64f5-ef38-4002-8dfc-310e14186823",
        "colab": {
          "base_uri": "https://localhost:8080/",
          "height": 206
        }
      },
      "source": [
        "data.head()"
      ],
      "execution_count": 0,
      "outputs": [
        {
          "output_type": "execute_result",
          "data": {
            "text/html": [
              "<div>\n",
              "<style scoped>\n",
              "    .dataframe tbody tr th:only-of-type {\n",
              "        vertical-align: middle;\n",
              "    }\n",
              "\n",
              "    .dataframe tbody tr th {\n",
              "        vertical-align: top;\n",
              "    }\n",
              "\n",
              "    .dataframe thead th {\n",
              "        text-align: right;\n",
              "    }\n",
              "</style>\n",
              "<table border=\"1\" class=\"dataframe\">\n",
              "  <thead>\n",
              "    <tr style=\"text-align: right;\">\n",
              "      <th></th>\n",
              "      <th>text</th>\n",
              "      <th>spam</th>\n",
              "    </tr>\n",
              "  </thead>\n",
              "  <tbody>\n",
              "    <tr>\n",
              "      <th>0</th>\n",
              "      <td>Hi...I have to use R to find out the 90% confi...</td>\n",
              "      <td>ham</td>\n",
              "    </tr>\n",
              "    <tr>\n",
              "      <th>1</th>\n",
              "      <td>Francesco Poli wrote:&gt; On Sun, 15 Apr 2007 21:...</td>\n",
              "      <td>ham</td>\n",
              "    </tr>\n",
              "    <tr>\n",
              "      <th>2</th>\n",
              "      <td>Stephen Thorne wrote:&gt; What I was thinking was...</td>\n",
              "      <td>ham</td>\n",
              "    </tr>\n",
              "    <tr>\n",
              "      <th>3</th>\n",
              "      <td>Hi,I have this site that auto generates an ind...</td>\n",
              "      <td>ham</td>\n",
              "    </tr>\n",
              "    <tr>\n",
              "      <th>4</th>\n",
              "      <td>Author: metzeDate: 2007-04-16 08:20:13 +0000 (...</td>\n",
              "      <td>ham</td>\n",
              "    </tr>\n",
              "  </tbody>\n",
              "</table>\n",
              "</div>"
            ],
            "text/plain": [
              "                                                text spam\n",
              "0  Hi...I have to use R to find out the 90% confi...  ham\n",
              "1  Francesco Poli wrote:> On Sun, 15 Apr 2007 21:...  ham\n",
              "2  Stephen Thorne wrote:> What I was thinking was...  ham\n",
              "3  Hi,I have this site that auto generates an ind...  ham\n",
              "4  Author: metzeDate: 2007-04-16 08:20:13 +0000 (...  ham"
            ]
          },
          "metadata": {
            "tags": []
          },
          "execution_count": 14
        }
      ]
    },
    {
      "cell_type": "markdown",
      "metadata": {
        "id": "33CnfL20EXHp",
        "colab_type": "text"
      },
      "source": [
        "Here, the target is whether or not a record should be considered as spam. This is recorded as the string 'spam' or 'ham'. To make it a little easier for our classifier, let's recode it as `0` or `1`."
      ]
    },
    {
      "cell_type": "code",
      "metadata": {
        "id": "_jwLoiZJEXHr",
        "colab_type": "code",
        "colab": {}
      },
      "source": [
        "data['spam'] = pd.Series(data['spam'] == 'spam', dtype=int)"
      ],
      "execution_count": 0,
      "outputs": []
    },
    {
      "cell_type": "code",
      "metadata": {
        "id": "Gq8Nj4dkEXHy",
        "colab_type": "code",
        "outputId": "49e136de-e020-445f-8f59-eb76941810ae",
        "colab": {
          "base_uri": "https://localhost:8080/",
          "height": 206
        }
      },
      "source": [
        "data.head()"
      ],
      "execution_count": 0,
      "outputs": [
        {
          "output_type": "execute_result",
          "data": {
            "text/html": [
              "<div>\n",
              "<style scoped>\n",
              "    .dataframe tbody tr th:only-of-type {\n",
              "        vertical-align: middle;\n",
              "    }\n",
              "\n",
              "    .dataframe tbody tr th {\n",
              "        vertical-align: top;\n",
              "    }\n",
              "\n",
              "    .dataframe thead th {\n",
              "        text-align: right;\n",
              "    }\n",
              "</style>\n",
              "<table border=\"1\" class=\"dataframe\">\n",
              "  <thead>\n",
              "    <tr style=\"text-align: right;\">\n",
              "      <th></th>\n",
              "      <th>text</th>\n",
              "      <th>spam</th>\n",
              "    </tr>\n",
              "  </thead>\n",
              "  <tbody>\n",
              "    <tr>\n",
              "      <th>0</th>\n",
              "      <td>Hi...I have to use R to find out the 90% confi...</td>\n",
              "      <td>0</td>\n",
              "    </tr>\n",
              "    <tr>\n",
              "      <th>1</th>\n",
              "      <td>Francesco Poli wrote:&gt; On Sun, 15 Apr 2007 21:...</td>\n",
              "      <td>0</td>\n",
              "    </tr>\n",
              "    <tr>\n",
              "      <th>2</th>\n",
              "      <td>Stephen Thorne wrote:&gt; What I was thinking was...</td>\n",
              "      <td>0</td>\n",
              "    </tr>\n",
              "    <tr>\n",
              "      <th>3</th>\n",
              "      <td>Hi,I have this site that auto generates an ind...</td>\n",
              "      <td>0</td>\n",
              "    </tr>\n",
              "    <tr>\n",
              "      <th>4</th>\n",
              "      <td>Author: metzeDate: 2007-04-16 08:20:13 +0000 (...</td>\n",
              "      <td>0</td>\n",
              "    </tr>\n",
              "  </tbody>\n",
              "</table>\n",
              "</div>"
            ],
            "text/plain": [
              "                                                text  spam\n",
              "0  Hi...I have to use R to find out the 90% confi...     0\n",
              "1  Francesco Poli wrote:> On Sun, 15 Apr 2007 21:...     0\n",
              "2  Stephen Thorne wrote:> What I was thinking was...     0\n",
              "3  Hi,I have this site that auto generates an ind...     0\n",
              "4  Author: metzeDate: 2007-04-16 08:20:13 +0000 (...     0"
            ]
          },
          "metadata": {
            "tags": []
          },
          "execution_count": 16
        }
      ]
    },
    {
      "cell_type": "markdown",
      "metadata": {
        "id": "Dm4_2otTEXH8",
        "colab_type": "text"
      },
      "source": [
        "Since we are going to do some modeling, we should split our data into a training and test set."
      ]
    },
    {
      "cell_type": "code",
      "metadata": {
        "id": "icJAW8JGEXH9",
        "colab_type": "code",
        "outputId": "cd707eb6-c021-4190-bca7-a0e04b75eb85",
        "colab": {
          "base_uri": "https://localhost:8080/",
          "height": 72
        }
      },
      "source": [
        "X = data['text']\n",
        "Y = data['spam']\n",
        "\n",
        "X_train, X_test, Y_train, Y_test = train_test_split(X, Y, train_size=.75)"
      ],
      "execution_count": 0,
      "outputs": [
        {
          "output_type": "stream",
          "text": [
            "/usr/local/lib/python2.7/dist-packages/sklearn/model_selection/_split.py:2179: FutureWarning: From version 0.21, test_size will always complement train_size unless both are specified.\n",
            "  FutureWarning)\n"
          ],
          "name": "stderr"
        }
      ]
    },
    {
      "cell_type": "markdown",
      "metadata": {
        "id": "ePj8PykdEXID",
        "colab_type": "text"
      },
      "source": [
        "### Text as features\n",
        "How can we turn the large amount of text for each record into useful features?\n",
        "\n",
        "\n",
        "#### Binary representation\n",
        "One way is to create a matrix that uses each word as a feature and keeps track of whether or not a word appears in a document/record. You can do this in sklearn with a `CountVectorizer()` and setting `binary` to `true`. The process is very similar to how you fit a model: you will fit a `CounterVectorizer()`. This will figure out what words exist in your data."
      ]
    },
    {
      "cell_type": "code",
      "metadata": {
        "id": "bngm5ta2EXIG",
        "colab_type": "code",
        "outputId": "458998a6-6264-4270-bd9d-fd083f9638d4",
        "colab": {
          "base_uri": "https://localhost:8080/",
          "height": 121
        }
      },
      "source": [
        "binary_vectorizer = CountVectorizer(binary=True)\n",
        "binary_vectorizer.fit(X_train)"
      ],
      "execution_count": 0,
      "outputs": [
        {
          "output_type": "execute_result",
          "data": {
            "text/plain": [
              "CountVectorizer(analyzer=u'word', binary=True, decode_error=u'strict',\n",
              "        dtype=<type 'numpy.int64'>, encoding=u'utf-8', input=u'content',\n",
              "        lowercase=True, max_df=1.0, max_features=None, min_df=1,\n",
              "        ngram_range=(1, 1), preprocessor=None, stop_words=None,\n",
              "        strip_accents=None, token_pattern=u'(?u)\\\\b\\\\w\\\\w+\\\\b',\n",
              "        tokenizer=None, vocabulary=None)"
            ]
          },
          "metadata": {
            "tags": []
          },
          "execution_count": 18
        }
      ]
    },
    {
      "cell_type": "markdown",
      "metadata": {
        "id": "BsopeQ7uEXIN",
        "colab_type": "text"
      },
      "source": [
        "Let's look at the vocabulary the `CountVectorizer()` learned."
      ]
    },
    {
      "cell_type": "code",
      "metadata": {
        "id": "6SWN1SPHEXIQ",
        "colab_type": "code",
        "outputId": "13dcea89-8191-4d95-810d-cdc96c7b2558",
        "colab": {
          "base_uri": "https://localhost:8080/",
          "height": 191
        }
      },
      "source": [
        "vocabulary_list = list(zip( binary_vectorizer.vocabulary_.keys(), binary_vectorizer.vocabulary_.values()) )\n",
        "\n",
        "vocabulary_list[0:10]"
      ],
      "execution_count": 0,
      "outputs": [
        {
          "output_type": "execute_result",
          "data": {
            "text/plain": [
              "[(u'fawn', 27996),\n",
              " (u'somegovernments', 57156),\n",
              " (u'localstatedir', 39335),\n",
              " (u'sonja', 57228),\n",
              " (u'woods', 69328),\n",
              " (u'spiders', 57574),\n",
              " (u'hanging', 31861),\n",
              " (u'woody', 69332),\n",
              " (u'ksh_command', 37609),\n",
              " (u'localized', 39331)]"
            ]
          },
          "metadata": {
            "tags": []
          },
          "execution_count": 19
        }
      ]
    },
    {
      "cell_type": "markdown",
      "metadata": {
        "id": "ZFHhi_uGEXIY",
        "colab_type": "text"
      },
      "source": [
        "Now that we know what words are in the data, we can transform our blobs of text into a clean matrix. Simply `.transform()` the raw data using our fitted `CountVectorizer()`. You will do this for the training and test data. What do you think happens if there are new words in the test data that were not seen in the training data?"
      ]
    },
    {
      "cell_type": "code",
      "metadata": {
        "id": "sE7n73ZLEXIc",
        "colab_type": "code",
        "colab": {}
      },
      "source": [
        "X_train_binary = binary_vectorizer.transform(X_train)\n",
        "X_test_binary = binary_vectorizer.transform(X_test)"
      ],
      "execution_count": 0,
      "outputs": []
    },
    {
      "cell_type": "markdown",
      "metadata": {
        "id": "B3tFupxmEXIh",
        "colab_type": "text"
      },
      "source": [
        "We can take a look at our new `X_test_counts`."
      ]
    },
    {
      "cell_type": "code",
      "metadata": {
        "id": "IfBCYfSmEXIi",
        "colab_type": "code",
        "outputId": "d32e83bd-98cf-4ade-8ad3-3ef748eae35a",
        "colab": {
          "base_uri": "https://localhost:8080/",
          "height": 52
        }
      },
      "source": [
        "X_test_binary"
      ],
      "execution_count": 0,
      "outputs": [
        {
          "output_type": "execute_result",
          "data": {
            "text/plain": [
              "<2028x71157 sparse matrix of type '<type 'numpy.int64'>'\n",
              "\twith 225416 stored elements in Compressed Sparse Row format>"
            ]
          },
          "metadata": {
            "tags": []
          },
          "execution_count": 21
        }
      ]
    },
    {
      "cell_type": "markdown",
      "metadata": {
        "id": "ZIe9AOKMEXIq",
        "colab_type": "text"
      },
      "source": [
        "Sparse matrix? Where is our data?\n",
        "\n",
        "If you look at the output above, you will see that it is being stored in a *sparse* matrix (as opposed to the typical dense matrix) that is ~2k rows long and ~70k columns. The rows here are records in the original data and the columns are words. Given the shape, this means there are ~140m cells that should have values. However, from the above, we can see that only ~220k cells (~0.15%) of the cells have values! Why is this?\n",
        "\n",
        "To save space, sklearn uses a sparse matrix. This means that only values that are not zero are stored! This saves a ton of space! This also means that visualizing the data is a little trickier. Let's look at a very small chunk."
      ]
    },
    {
      "cell_type": "code",
      "metadata": {
        "id": "OP2IqX_nEXIs",
        "colab_type": "code",
        "outputId": "eb8257ca-c872-43f9-f903-4f3e14a59a10",
        "colab": {
          "base_uri": "https://localhost:8080/",
          "height": 364
        }
      },
      "source": [
        "X_test_binary[0:20, 0:20].todense()"
      ],
      "execution_count": 0,
      "outputs": [
        {
          "output_type": "execute_result",
          "data": {
            "text/plain": [
              "matrix([[0, 0, 1, 0, 0, 0, 0, 0, 0, 0, 0, 0, 0, 0, 0, 0, 0, 0, 0, 0],\n",
              "        [0, 0, 0, 0, 0, 0, 0, 0, 0, 0, 0, 0, 0, 0, 0, 0, 0, 0, 0, 0],\n",
              "        [0, 0, 0, 0, 0, 0, 0, 0, 0, 0, 0, 0, 0, 0, 0, 0, 0, 0, 0, 0],\n",
              "        [0, 0, 0, 0, 0, 0, 0, 0, 0, 0, 0, 0, 0, 0, 0, 0, 0, 0, 0, 0],\n",
              "        [0, 0, 0, 0, 0, 0, 0, 0, 0, 0, 0, 0, 0, 0, 0, 0, 0, 0, 0, 0],\n",
              "        [0, 0, 0, 0, 0, 0, 0, 0, 0, 0, 0, 0, 0, 0, 0, 0, 0, 0, 0, 0],\n",
              "        [0, 0, 0, 0, 0, 0, 0, 0, 0, 0, 0, 0, 0, 0, 0, 0, 0, 0, 0, 0],\n",
              "        [0, 0, 0, 0, 0, 0, 0, 0, 0, 0, 0, 0, 0, 0, 0, 0, 0, 0, 0, 0],\n",
              "        [1, 0, 0, 0, 0, 0, 0, 0, 0, 0, 0, 0, 0, 0, 0, 0, 0, 0, 0, 0],\n",
              "        [0, 0, 0, 0, 0, 0, 0, 0, 0, 0, 0, 0, 0, 0, 0, 0, 0, 0, 0, 0],\n",
              "        [0, 0, 0, 0, 0, 0, 0, 0, 0, 0, 0, 0, 0, 0, 0, 0, 0, 0, 0, 0],\n",
              "        [0, 0, 0, 0, 0, 0, 0, 0, 0, 0, 0, 0, 0, 0, 0, 0, 0, 0, 0, 0],\n",
              "        [1, 1, 0, 0, 0, 0, 0, 0, 0, 0, 0, 0, 0, 0, 0, 0, 0, 0, 0, 0],\n",
              "        [0, 0, 0, 0, 0, 0, 0, 0, 0, 0, 0, 0, 0, 0, 0, 0, 0, 0, 0, 0],\n",
              "        [1, 0, 1, 0, 0, 0, 0, 0, 0, 0, 0, 0, 0, 0, 0, 0, 0, 0, 0, 0],\n",
              "        [0, 0, 0, 0, 0, 0, 0, 0, 0, 0, 0, 0, 0, 0, 0, 0, 0, 0, 0, 0],\n",
              "        [0, 0, 0, 0, 0, 0, 0, 0, 0, 0, 0, 0, 0, 0, 0, 0, 0, 0, 0, 0],\n",
              "        [0, 0, 0, 0, 0, 0, 0, 0, 0, 0, 0, 0, 0, 0, 0, 0, 0, 0, 0, 0],\n",
              "        [0, 0, 0, 0, 0, 0, 0, 0, 0, 0, 0, 0, 0, 0, 0, 0, 0, 0, 0, 0],\n",
              "        [0, 1, 0, 0, 0, 0, 0, 0, 0, 0, 0, 0, 0, 0, 0, 0, 0, 0, 0, 0]])"
            ]
          },
          "metadata": {
            "tags": []
          },
          "execution_count": 22
        }
      ]
    },
    {
      "cell_type": "markdown",
      "metadata": {
        "id": "39pAzITiEXIx",
        "colab_type": "text"
      },
      "source": [
        "#### Applying a model\n",
        "Now that we have a ton of features (since we have a ton of words!) let's try using a logistic regression model to predict spam/ham."
      ]
    },
    {
      "cell_type": "code",
      "metadata": {
        "id": "FpynZgcJEXI0",
        "colab_type": "code",
        "outputId": "abbc5198-8714-4801-f012-aa1960418c74",
        "colab": {
          "base_uri": "https://localhost:8080/",
          "height": 89
        }
      },
      "source": [
        "model = LogisticRegression()\n",
        "model.fit(X_train_binary, Y_train)\n",
        "\n",
        "print (\"Area under the ROC curve on test data = %.3f\" % metrics.roc_auc_score(model.predict(X_test_binary), Y_test))"
      ],
      "execution_count": 0,
      "outputs": [
        {
          "output_type": "stream",
          "text": [
            "/usr/local/lib/python2.7/dist-packages/sklearn/linear_model/logistic.py:433: FutureWarning: Default solver will be changed to 'lbfgs' in 0.22. Specify a solver to silence this warning.\n",
            "  FutureWarning)\n"
          ],
          "name": "stderr"
        },
        {
          "output_type": "stream",
          "text": [
            "Area under the ROC curve on test data = 0.996\n"
          ],
          "name": "stdout"
        }
      ]
    },
    {
      "cell_type": "markdown",
      "metadata": {
        "id": "ypOHzZAjEXI-",
        "colab_type": "text"
      },
      "source": [
        "Is this any good? What do we care about in this case? Let's take a look at our ROC measure in more detail by looking at the actual ROC curve."
      ]
    },
    {
      "cell_type": "code",
      "metadata": {
        "id": "6pYQGSLJEXI_",
        "colab_type": "code",
        "outputId": "975166bf-a2bf-4be4-cbc0-f6d18792b1ed",
        "colab": {
          "base_uri": "https://localhost:8080/",
          "height": 513
        }
      },
      "source": [
        "fpr, tpr, thresholds = metrics.roc_curve(Y_test, model.predict_proba(X_test_binary)[:,1])\n",
        "\n",
        "#tprs.append(tpr)\n",
        "#fprs.append(fpr)\n",
        "#roc_labels.append(\"Default Binary\")\n",
        "\n",
        "ax = plt.subplot()\n",
        "plt.plot(fpr, tpr)\n",
        "plt.xlabel(\"fpr\")\n",
        "plt.ylabel(\"tpr\")\n",
        "plt.title(\"ROC Curve\")\n",
        "#plt.yscale('log')\n",
        "#plt.xscale('log')\n",
        "plt.show()"
      ],
      "execution_count": 0,
      "outputs": [
        {
          "output_type": "display_data",
          "data": {
            "image/png": "[encoded data removed]",
            "text/plain": [
              "<Figure size 720x576 with 1 Axes>"
            ]
          },
          "metadata": {
            "tags": []
          }
        }
      ]
    },
    {
      "cell_type": "markdown",
      "metadata": {
        "id": "j7kOotCREXJL",
        "colab_type": "text"
      },
      "source": [
        " **Yikes! That looks perfect.  Let's zoom in!**\n"
      ]
    },
    {
      "cell_type": "code",
      "metadata": {
        "id": "X_i3pIFtEXJM",
        "colab_type": "code",
        "outputId": "d16c0857-6488-4253-f4d1-a597106d9550",
        "colab": {
          "base_uri": "https://localhost:8080/",
          "height": 513
        }
      },
      "source": [
        "fpr, tpr, thresholds = metrics.roc_curve(Y_test, model.predict_proba(X_test_binary)[:,1])\n",
        "\n",
        "tprs.append(tpr)\n",
        "fprs.append(fpr)\n",
        "roc_labels.append(\"Default Binary\")\n",
        "\n",
        "ax = plt.subplot()\n",
        "plt.plot(fpr, tpr)\n",
        "plt.xlabel(\"fpr\")\n",
        "plt.ylabel(\"tpr\")\n",
        "plt.title(\"ROC Curve\")\n",
        "plt.xlim([0, .07])\n",
        "plt.ylim([.98, 1.001])\n",
        "plt.show()"
      ],
      "execution_count": 0,
      "outputs": [
        {
          "output_type": "display_data",
          "data": {
            "image/png": "[encoded data removed]",
            "text/plain": [
              "<Figure size 720x576 with 1 Axes>"
            ]
          },
          "metadata": {
            "tags": []
          }
        }
      ]
    },
    {
      "cell_type": "markdown",
      "metadata": {
        "id": "jhzoUXYREXJS",
        "colab_type": "text"
      },
      "source": [
        "#### Counts instead of binary\n",
        "Instead of using a 0 or 1 to represent the occurence of a word, we can use the actual counts. We do this the same way as before, but now we leave `binary` set to `false` (the default value)."
      ]
    },
    {
      "cell_type": "code",
      "metadata": {
        "id": "BGvq2eqIEXJT",
        "colab_type": "code",
        "outputId": "bde82c45-b6c0-487c-fa38-0b8ba159b365",
        "colab": {
          "base_uri": "https://localhost:8080/",
          "height": 34
        }
      },
      "source": [
        "# Fit a counter\n",
        "count_vectorizer = CountVectorizer()\n",
        "count_vectorizer.fit(X_train)\n",
        "\n",
        "# Transform to counter\n",
        "X_train_counts = count_vectorizer.transform(X_train)\n",
        "X_test_counts = count_vectorizer.transform(X_test)\n",
        "\n",
        "# Model\n",
        "model = LogisticRegression()\n",
        "model.fit(X_train_counts, Y_train)\n",
        "\n",
        "print (\"Area under the ROC curve on test data = %.3f\" % metrics.roc_auc_score(model.predict(X_test_counts), Y_test))"
      ],
      "execution_count": 0,
      "outputs": [
        {
          "output_type": "stream",
          "text": [
            "Area under the ROC curve on test data = 0.995\n"
          ],
          "name": "stdout"
        }
      ]
    },
    {
      "cell_type": "markdown",
      "metadata": {
        "id": "BcsstNbzEXJZ",
        "colab_type": "text"
      },
      "source": [
        "We can also take a look at the ROC curve."
      ]
    },
    {
      "cell_type": "code",
      "metadata": {
        "id": "XbxuZDWsEXJa",
        "colab_type": "code",
        "outputId": "dc1894cd-a24d-4932-9a6f-e62d737a08e0",
        "colab": {
          "base_uri": "https://localhost:8080/",
          "height": 513
        }
      },
      "source": [
        "fpr, tpr, thresholds = metrics.roc_curve(Y_test, model.predict_proba(X_test_counts)[:,1])\n",
        "\n",
        "tprs.append(tpr)\n",
        "fprs.append(fpr)\n",
        "roc_labels.append(\"Default Counts\")\n",
        "\n",
        "ax = plt.subplot()\n",
        "plt.plot(fpr, tpr)\n",
        "plt.xlabel(\"fpr\")\n",
        "plt.ylabel(\"tpr\")\n",
        "plt.title(\"ROC Curve\")\n",
        "plt.xlim([0, .07])\n",
        "plt.ylim([.96, 1.001])\n",
        "\n",
        "plt.show()"
      ],
      "execution_count": 0,
      "outputs": [
        {
          "output_type": "display_data",
          "data": {
            "image/png": "[encoded data removed]",
            "text/plain": [
              "<Figure size 720x576 with 1 Axes>"
            ]
          },
          "metadata": {
            "tags": []
          }
        }
      ]
    },
    {
      "cell_type": "markdown",
      "metadata": {
        "id": "JM9RuwA3EXJi",
        "colab_type": "text"
      },
      "source": [
        "#### Tf-idf\n",
        "Another popular technique when dealing with text is to use the term frequency - inverse document frequency (tf-idf) measure instead of just counts as the feature values (see text)."
      ]
    },
    {
      "cell_type": "code",
      "metadata": {
        "id": "gj5Mtr7GEXJj",
        "colab_type": "code",
        "outputId": "d537e60a-91c4-4f0d-e9d5-69ff5dd6152b",
        "colab": {
          "base_uri": "https://localhost:8080/",
          "height": 34
        }
      },
      "source": [
        "# Fit a counter\n",
        "tfidf_vectorizer = TfidfVectorizer()\n",
        "tfidf_vectorizer.fit(X_train)\n",
        "\n",
        "# Transform to a counter\n",
        "X_train_tfidf = tfidf_vectorizer.transform(X_train)\n",
        "X_test_tfidf = tfidf_vectorizer.transform(X_test)\n",
        "\n",
        "# Model\n",
        "model = LogisticRegression()\n",
        "model.fit(X_train_tfidf, Y_train)\n",
        "\n",
        "print (\"Area under the ROC curve on test data = %.3f\" % metrics.roc_auc_score(model.predict(X_test_counts), Y_test))"
      ],
      "execution_count": 0,
      "outputs": [
        {
          "output_type": "stream",
          "text": [
            "Area under the ROC curve on test data = 0.986\n"
          ],
          "name": "stdout"
        }
      ]
    },
    {
      "cell_type": "markdown",
      "metadata": {
        "id": "vHed6eolEXJp",
        "colab_type": "text"
      },
      "source": [
        "Once again, we can look at the ROC curve."
      ]
    },
    {
      "cell_type": "code",
      "metadata": {
        "id": "PEAjBTbfEXJq",
        "colab_type": "code",
        "outputId": "b0c5cfa9-022a-4835-967f-e8b165cacdcf",
        "colab": {
          "base_uri": "https://localhost:8080/",
          "height": 513
        }
      },
      "source": [
        "fpr, tpr, thresholds = metrics.roc_curve(Y_test, model.predict_proba(X_test_tfidf)[:,1])\n",
        "\n",
        "tprs.append(tpr)\n",
        "fprs.append(fpr)\n",
        "roc_labels.append(\"Default Tfidf\")\n",
        "\n",
        "ax = plt.subplot()\n",
        "plt.plot(fpr, tpr)\n",
        "plt.xlabel(\"fpr\")\n",
        "plt.ylabel(\"tpr\")\n",
        "plt.title(\"ROC Curve\")\n",
        "\n",
        "plt.xlim([0, .07])\n",
        "plt.ylim([.96, 1.001])\n",
        "\n",
        "plt.show()"
      ],
      "execution_count": 0,
      "outputs": [
        {
          "output_type": "display_data",
          "data": {
            "image/png": "[encoded data removed]",
            "text/plain": [
              "<Figure size 720x576 with 1 Axes>"
            ]
          },
          "metadata": {
            "tags": []
          }
        }
      ]
    },
    {
      "cell_type": "markdown",
      "metadata": {
        "id": "ObgsEzPsEXJz",
        "colab_type": "text"
      },
      "source": [
        "The `CountVectorizer()` and `TfidfVectorizer()` functions have many options. You can restrict the words you would like in the vocabulary. You can add n-grams. You can use stop word lists. Which options you should use generally depend on the type of data you are dealing with. We can discuss and try some of them now."
      ]
    },
    {
      "cell_type": "markdown",
      "metadata": {
        "id": "gFi2kMQuEXJ1",
        "colab_type": "text"
      },
      "source": [
        "Now that we have a few different feature sets and models, let's look at all of our ROC curves."
      ]
    },
    {
      "cell_type": "code",
      "metadata": {
        "id": "milZzVktEXJ1",
        "colab_type": "code",
        "outputId": "a077d816-6b29-4132-974b-63ae3404d8e9",
        "colab": {
          "base_uri": "https://localhost:8080/",
          "height": 513
        }
      },
      "source": [
        "for fpr, tpr, roc_label in zip(fprs, tprs, roc_labels):\n",
        "    plt.plot(fpr, tpr, label=roc_label)\n",
        "\n",
        "plt.xlabel(\"fpr\")\n",
        "plt.ylabel(\"tpr\")\n",
        "plt.title(\"ROC Curves\")\n",
        "plt.legend()\n",
        "\n",
        "plt.xlim([0, .07])\n",
        "plt.ylim([.98, 1.001])\n",
        "\n",
        "plt.show()"
      ],
      "execution_count": 0,
      "outputs": [
        {
          "output_type": "display_data",
          "data": {
            "image/png": "[encoded data removed]",
            "text/plain": [
              "<Figure size 720x576 with 1 Axes>"
            ]
          },
          "metadata": {
            "tags": []
          }
        }
      ]
    },
    {
      "cell_type": "markdown",
      "metadata": {
        "id": "dXZxyYzREXJ6",
        "colab_type": "text"
      },
      "source": [
        "### Modeling with another technique: Naive Bayes\n",
        "\n",
        "So far we have been exposed to tree classifiers and logistic regression in class. We have also seen SVM model in the homework. Now, it's time for another popular modeling technique of supervised learning(especially in text classification): the Naive Bayes (NB) classifier. In particular, we are using a Bernoulli Naive Bayes (BNB) for our binary classification. (Bernoulli NB is the model described in the book; there are other versions of NB, see below.)\n",
        "\n",
        "As described in your text, the Naive Bayes model is a **probabilistic approach which assumes conditional independence between features** (in this case, each word is a feature, the conditioning is on the true class). It assigns class labels (e.g. spam = 1 or spam = 0). In other words, Naive Bayes models the probabilities of the presence of each _word_, given that we have a spam email, and given that we have a non-spam email.  Then it combines them using Bayes Theorem (again, as described in the book).\n",
        "\n",
        "Using this model in sklearn works just the same as the others we've seen ([More details here..](http://scikit-learn.org/stable/modules/naive_bayes.html))\n",
        "\n",
        "- Choose the model\n",
        "- Fit the model (Train)\n",
        "- Predict with the model (Train or Test or Use data)"
      ]
    },
    {
      "cell_type": "code",
      "metadata": {
        "id": "kWqBsR_8EXJ7",
        "colab_type": "code",
        "outputId": "4efa28bb-476e-4982-eb49-6425efa98d7a",
        "colab": {
          "base_uri": "https://localhost:8080/",
          "height": 34
        }
      },
      "source": [
        "from sklearn.naive_bayes import BernoulliNB\n",
        "\n",
        "model = BernoulliNB()\n",
        "model.fit(X_train_binary, Y_train)\n"
      ],
      "execution_count": 0,
      "outputs": [
        {
          "output_type": "execute_result",
          "data": {
            "text/plain": [
              "BernoulliNB(alpha=1.0, binarize=0.0, class_prior=None, fit_prior=True)"
            ]
          },
          "metadata": {
            "tags": []
          },
          "execution_count": 31
        }
      ]
    },
    {
      "cell_type": "code",
      "metadata": {
        "id": "a8JUNkIREXKA",
        "colab_type": "code",
        "outputId": "f2aff492-a2c0-49bf-b230-653c757e4773",
        "colab": {
          "base_uri": "https://localhost:8080/",
          "height": 52
        }
      },
      "source": [
        "print (\"AUC on the count TRAIN data = %.3f\" % metrics.roc_auc_score(model.predict(X_train_binary), Y_train))\n",
        "print (\"AUC on the count TEST data = %.3f\" % metrics.roc_auc_score(model.predict(X_test_binary), Y_test))"
      ],
      "execution_count": 0,
      "outputs": [
        {
          "output_type": "stream",
          "text": [
            "AUC on the count TRAIN data = 0.981\n",
            "AUC on the count TEST data = 0.976\n"
          ],
          "name": "stdout"
        }
      ]
    },
    {
      "cell_type": "markdown",
      "metadata": {
        "id": "bKtdL6yFEXKE",
        "colab_type": "text"
      },
      "source": [
        "The past few weeks we have seen that many of the models we are using have different complexity control parameters that can be tweaked. In naive Bayes, the parameter that is typically tuned is the Laplace smoothing value **`alpha`**.\n",
        "\n",
        "Also, there are other versions of naive Bayes:\n",
        "\n",
        "1. **Multinomial naive Bayes (MNB):** This model handles count features and not just binary features. Sometimes MNB is used with binary presence/absence variables anyway (like word presence), even though that violates the model assumptions, because in practice it works well anyway.\n",
        "2. **Gaussian Naive Bayes (GNB):** This model considers likelihood of the features as Gaussian--and thus we can use it for continuous features.  Sometimes GNB and Bernoulli NB are combined when one has features of mixed types.  "
      ]
    },
    {
      "cell_type": "code",
      "metadata": {
        "id": "S2x1EfaiEXKH",
        "colab_type": "code",
        "outputId": "d2da9e2e-6d33-40b1-aafa-37829eb43a55",
        "colab": {
          "base_uri": "https://localhost:8080/",
          "height": 513
        }
      },
      "source": [
        "\n",
        "## Include the false positives and true positives to the previous list\n",
        "\n",
        "fpr, tpr, thresholds = metrics.roc_curve(Y_test, model.predict_proba(X_test_tfidf)[:,1])\n",
        "\n",
        "tprs.append(tpr)\n",
        "fprs.append(fpr)\n",
        "roc_labels.append(\"Default BNB\")\n",
        "\n",
        "\n",
        "\n",
        "## Plot the list again: 3 Logistic Regressions vs Naive Bayes\n",
        "\n",
        "for fpr, tpr, roc_label in zip(fprs, tprs, roc_labels):\n",
        "    plt.plot(fpr, tpr, label=roc_label)\n",
        "\n",
        "plt.xlabel(\"fpr\")\n",
        "plt.ylabel(\"tpr\")\n",
        "plt.title(\"ROC Curves\")\n",
        "plt.legend()\n",
        "\n",
        "plt.xlim([0, .07])\n",
        "plt.ylim([.97, 1.001])\n",
        "\n",
        "plt.show()"
      ],
      "execution_count": 0,
      "outputs": [
        {
          "output_type": "display_data",
          "data": {
            "image/png": "[encoded data removed]",
            "text/plain": [
              "<Figure size 720x576 with 1 Axes>"
            ]
          },
          "metadata": {
            "tags": []
          }
        }
      ]
    },
    {
      "cell_type": "code",
      "metadata": {
        "id": "429yBcxuHXff",
        "colab_type": "code",
        "colab": {}
      },
      "source": [
        ""
      ],
      "execution_count": 0,
      "outputs": []
    }
  ]
}
