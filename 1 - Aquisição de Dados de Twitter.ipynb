{
  "nbformat": 4,
  "nbformat_minor": 0,
  "metadata": {
    "colab": {
      "name": "1 - Aquisição de Dados de Twitter",
      "version": "0.3.2",
      "provenance": [],
      "toc_visible": true,
      "include_colab_link": true
    },
    "language_info": {
      "codemirror_mode": "r",
      "file_extension": ".r",
      "mimetype": "text/x-r-source",
      "name": "R",
      "pygments_lexer": "r",
      "version": "3.3.1"
    },
    "kernelspec": {
      "display_name": "R",
      "language": "R",
      "name": "ir"
    }
  },
  "cells": [
    {
      "cell_type": "markdown",
      "metadata": {
        "id": "view-in-github",
        "colab_type": "text"
      },
      "source": [
        "<a href=\"https://colab.research.google.com/github/lauramoraes/Text_Mining/blob/master/1%20-%20Aquisi%C3%A7%C3%A3o%20de%20Dados%20de%20Twitter.ipynb\" target=\"_parent\"><img src=\"https://colab.research.google.com/assets/colab-badge.svg\" alt=\"Open In Colab\"/></a>"
      ]
    },
    {
      "cell_type": "markdown",
      "metadata": {
        "id": "wn9t4aUDQH2z",
        "colab_type": "text"
      },
      "source": [
        "# Aquisição de Dados\n",
        "\n",
        "O primeiro processo da Mineração de Texto, é garantir que temos os dados necessários para análise. A mineração de texto é muito dinâmica e provavelmente temos que montar um **fluxo contínuo** de aquisição dos dados necessário. Neste notebook vamos exemplificar como recuperar dados de Tweets."
      ]
    },
    {
      "cell_type": "markdown",
      "metadata": {
        "id": "UixQ-Y9VKjwy",
        "colab_type": "text"
      },
      "source": [
        "### Importando bibliotecas a serem usadas"
      ]
    },
    {
      "cell_type": "code",
      "metadata": {
        "id": "SvGJ9AF0OH45",
        "colab_type": "code",
        "outputId": "e0103d04-04fc-4e8c-a447-b4662730e4d9",
        "colab": {
          "base_uri": "https://localhost:8080/",
          "height": 52
        }
      },
      "source": [
        "install.packages(\"rtweet\")"
      ],
      "execution_count": 1,
      "outputs": [
        {
          "output_type": "stream",
          "text": [
            "Installing package into ‘/usr/local/lib/R/site-library’\n",
            "(as ‘lib’ is unspecified)\n"
          ],
          "name": "stderr"
        }
      ]
    },
    {
      "cell_type": "code",
      "metadata": {
        "id": "Unsb8k4MKWgb",
        "colab_type": "code",
        "colab": {}
      },
      "source": [
        "suppressMessages(suppressWarnings(library(rtweet)))\n",
        "suppressMessages(suppressWarnings(library(dplyr)))"
      ],
      "execution_count": 0,
      "outputs": []
    },
    {
      "cell_type": "markdown",
      "metadata": {
        "id": "me356USlWBlT",
        "colab_type": "text"
      },
      "source": [
        "### Pedindo autorização"
      ]
    },
    {
      "cell_type": "code",
      "metadata": {
        "id": "xbdkk5TeWvhx",
        "colab_type": "code",
        "colab": {}
      },
      "source": [
        "consumer_key <- \"\"\n",
        "consumer_secret <-\"\"\n",
        "access_token <- \"\"\n",
        "access_secret <- \"\""
      ],
      "execution_count": 0,
      "outputs": []
    },
    {
      "cell_type": "code",
      "metadata": {
        "id": "imug0FQIWuc0",
        "colab_type": "code",
        "colab": {}
      },
      "source": [
        "## authenticate via access token\n",
        "token <- create_token(\n",
        "  app = \"FGV MBA\",\n",
        "  consumer_key = consumer_key,\n",
        "  consumer_secret = consumer_secret,\n",
        "  access_token = access_token,\n",
        "  access_secret = access_secret)"
      ],
      "execution_count": 0,
      "outputs": []
    },
    {
      "cell_type": "code",
      "metadata": {
        "id": "HzGp5zgabby3",
        "colab_type": "code",
        "colab": {
          "base_uri": "https://localhost:8080/",
          "height": 191
        },
        "outputId": "48898f01-f855-4998-fcc1-14e7588a6297"
      },
      "source": [
        "token"
      ],
      "execution_count": 7,
      "outputs": [
        {
          "output_type": "display_data",
          "data": {
            "text/plain": [
              "<Token>\n",
              "<oauth_endpoint>\n",
              " request:   https://api.twitter.com/oauth/request_token\n",
              " authorize: https://api.twitter.com/oauth/authenticate\n",
              " access:    https://api.twitter.com/oauth/access_token\n",
              "<oauth_app> FGV MBA\n",
              "  key:    ZZEano8Nn9W4UVJaHiaV6cRzO\n",
              "  secret: <hidden>\n",
              "<credentials> oauth_token, oauth_token_secret\n",
              "---"
            ]
          },
          "metadata": {
            "tags": []
          }
        }
      ]
    },
    {
      "cell_type": "markdown",
      "metadata": {
        "id": "J2pa0m1z05Om",
        "colab_type": "text"
      },
      "source": [
        "### Download dos dados\n",
        "Veja o que esse biblioteca pode fazer em: https://rtweet.info/"
      ]
    },
    {
      "cell_type": "code",
      "metadata": {
        "id": "Hq3wcLq-axpx",
        "colab_type": "code",
        "colab": {
          "base_uri": "https://localhost:8080/",
          "height": 69
        },
        "outputId": "30eaf790-a757-4e83-cea4-e75282382509"
      },
      "source": [
        "## search for 200 tweets using the rstats hashtag\n",
        "tweets <- search_tweets(\n",
        "  \"FGV\", n = 200, include_rts = FALSE, retryonratelimit = TRUE\n",
        ")\n",
        "tweets"
      ],
      "execution_count": 13,
      "outputs": [
        {
          "output_type": "stream",
          "text": [
            "Warning message:\n",
            "“Rate limit exceeded - 88”Warning message:\n",
            "“Rate limit exceeded”"
          ],
          "name": "stderr"
        },
        {
          "output_type": "display_data",
          "data": {
            "text/plain": [
              "<0 x 0 matrix>"
            ],
            "text/latex": "",
            "text/markdown": "",
            "text/html": [
              ""
            ]
          },
          "metadata": {
            "tags": []
          }
        }
      ]
    },
    {
      "cell_type": "code",
      "metadata": {
        "id": "SOxXOU4Dc9wn",
        "colab_type": "code",
        "colab": {
          "base_uri": "https://localhost:8080/",
          "height": 857
        },
        "outputId": "08b25818-a86c-4daa-e046-f8dc61b80a8a"
      },
      "source": [
        "## plot time series of tweets\n",
        "tweets %>%\n",
        "  ts_plot(\"3 hours\") +\n",
        "  ggplot2::theme_minimal() +\n",
        "  ggplot2::theme(plot.title = ggplot2::element_text(face = \"bold\")) +\n",
        "  ggplot2::labs(\n",
        "    x = NULL, y = NULL,\n",
        "    title = \"Frequency of #rstats Twitter statuses from past 9 days\",\n",
        "    subtitle = \"Twitter status (tweet) counts aggregated using three-hour intervals\",\n",
        "    caption = \"\\nSource: Data collected from Twitter's REST API via rtweet\"\n",
        "  )"
      ],
      "execution_count": 12,
      "outputs": [
        {
          "output_type": "display_data",
          "data": {
            "image/png": "[encoded data removed]",
            "text/plain": [
              "plot without title"
            ]
          },
          "metadata": {
            "tags": []
          }
        }
      ]
    },
    {
      "cell_type": "markdown",
      "metadata": {
        "id": "pjzc-XK9e2lQ",
        "colab_type": "text"
      },
      "source": [
        "### Verificando nosso limites de quota"
      ]
    },
    {
      "cell_type": "code",
      "metadata": {
        "id": "ep4isNk_e1aV",
        "colab_type": "code",
        "colab": {
          "base_uri": "https://localhost:8080/",
          "height": 184
        },
        "outputId": "7074d5e6-b76b-4e92-f4fb-8839c32315a8"
      },
      "source": [
        "## get all rate_limit information for default token\n",
        "# rate_limit()\n",
        "rate_limit(token, \"search_tweets\")\n",
        "rate_limit(token, \"get_trends\")"
      ],
      "execution_count": 56,
      "outputs": [
        {
          "output_type": "display_data",
          "data": {
            "text/plain": [
              "  query         limit remaining reset         reset_at           \n",
              "1 search/tweets 180   180       15.00546 mins 2019-06-04 17:46:03\n",
              "  timestamp           app    \n",
              "1 2019-06-04 17:31:03 FGV MBA"
            ],
            "text/latex": "A tibble: 1 × 7\n\\begin{tabular}{r|lllllll}\n query & limit & remaining & reset & reset\\_at & timestamp & app\\\\\n <chr> & <int> & <int> & <drtn> & <dttm> & <dttm> & <chr>\\\\\n\\hline\n\t search/tweets & 180 & 180 & 15.00546 mins & 2019-06-04 17:46:03 & 2019-06-04 17:31:03 & FGV MBA\\\\\n\\end{tabular}\n",
            "text/markdown": "\nA tibble: 1 × 7\n\n| query &lt;chr&gt; | limit &lt;int&gt; | remaining &lt;int&gt; | reset &lt;drtn&gt; | reset_at &lt;dttm&gt; | timestamp &lt;dttm&gt; | app &lt;chr&gt; |\n|---|---|---|---|---|---|---|\n| search/tweets | 180 | 180 | 15.00546 mins | 2019-06-04 17:46:03 | 2019-06-04 17:31:03 | FGV MBA |\n\n",
            "text/html": [
              "<table>\n",
              "<caption>A tibble: 1 × 7</caption>\n",
              "<thead>\n",
              "\t<tr><th scope=col>query</th><th scope=col>limit</th><th scope=col>remaining</th><th scope=col>reset</th><th scope=col>reset_at</th><th scope=col>timestamp</th><th scope=col>app</th></tr>\n",
              "\t<tr><th scope=col>&lt;chr&gt;</th><th scope=col>&lt;int&gt;</th><th scope=col>&lt;int&gt;</th><th scope=col>&lt;drtn&gt;</th><th scope=col>&lt;dttm&gt;</th><th scope=col>&lt;dttm&gt;</th><th scope=col>&lt;chr&gt;</th></tr>\n",
              "</thead>\n",
              "<tbody>\n",
              "\t<tr><td>search/tweets</td><td>180</td><td>180</td><td>15.00546 mins</td><td>2019-06-04 17:46:03</td><td>2019-06-04 17:31:03</td><td>FGV MBA</td></tr>\n",
              "</tbody>\n",
              "</table>\n"
            ]
          },
          "metadata": {
            "tags": []
          }
        },
        {
          "output_type": "display_data",
          "data": {
            "text/plain": [
              "  query        limit remaining reset        reset_at           \n",
              "1 trends/place 75    73        14.6374 mins 2019-06-04 17:45:41\n",
              "  timestamp           app    \n",
              "1 2019-06-04 17:31:03 FGV MBA"
            ],
            "text/latex": "A tibble: 1 × 7\n\\begin{tabular}{r|lllllll}\n query & limit & remaining & reset & reset\\_at & timestamp & app\\\\\n <chr> & <int> & <int> & <drtn> & <dttm> & <dttm> & <chr>\\\\\n\\hline\n\t trends/place & 75 & 73 & 14.6374 mins & 2019-06-04 17:45:41 & 2019-06-04 17:31:03 & FGV MBA\\\\\n\\end{tabular}\n",
            "text/markdown": "\nA tibble: 1 × 7\n\n| query &lt;chr&gt; | limit &lt;int&gt; | remaining &lt;int&gt; | reset &lt;drtn&gt; | reset_at &lt;dttm&gt; | timestamp &lt;dttm&gt; | app &lt;chr&gt; |\n|---|---|---|---|---|---|---|\n| trends/place | 75 | 73 | 14.6374 mins | 2019-06-04 17:45:41 | 2019-06-04 17:31:03 | FGV MBA |\n\n",
            "text/html": [
              "<table>\n",
              "<caption>A tibble: 1 × 7</caption>\n",
              "<thead>\n",
              "\t<tr><th scope=col>query</th><th scope=col>limit</th><th scope=col>remaining</th><th scope=col>reset</th><th scope=col>reset_at</th><th scope=col>timestamp</th><th scope=col>app</th></tr>\n",
              "\t<tr><th scope=col>&lt;chr&gt;</th><th scope=col>&lt;int&gt;</th><th scope=col>&lt;int&gt;</th><th scope=col>&lt;drtn&gt;</th><th scope=col>&lt;dttm&gt;</th><th scope=col>&lt;dttm&gt;</th><th scope=col>&lt;chr&gt;</th></tr>\n",
              "</thead>\n",
              "<tbody>\n",
              "\t<tr><td>trends/place</td><td>75</td><td>73</td><td>14.6374 mins</td><td>2019-06-04 17:45:41</td><td>2019-06-04 17:31:03</td><td>FGV MBA</td></tr>\n",
              "</tbody>\n",
              "</table>\n"
            ]
          },
          "metadata": {
            "tags": []
          }
        }
      ]
    },
    {
      "cell_type": "markdown",
      "metadata": {
        "id": "fAZTT3MwfwPu",
        "colab_type": "text"
      },
      "source": [
        "### Buscando trends"
      ]
    },
    {
      "cell_type": "code",
      "metadata": {
        "id": "w8TrXO5nfuwh",
        "colab_type": "code",
        "colab": {}
      },
      "source": [
        "trends_codes <- trends_available()"
      ],
      "execution_count": 0,
      "outputs": []
    },
    {
      "cell_type": "code",
      "metadata": {
        "id": "Ky8yAezsgdLk",
        "colab_type": "code",
        "colab": {
          "base_uri": "https://localhost:8080/",
          "height": 421
        },
        "outputId": "e2dc107f-2eed-4dd2-8707-8c35400b42ca"
      },
      "source": [
        "filter(trends_codes, countryCode == \"BR\")"
      ],
      "execution_count": 42,
      "outputs": [
        {
          "output_type": "display_data",
          "data": {
            "text/plain": [
              "   name           url                                          parentid country\n",
              "1  Brasília       http://where.yahooapis.com/v1/place/455819   23424768 Brazil \n",
              "2  Belém          http://where.yahooapis.com/v1/place/455820   23424768 Brazil \n",
              "3  Belo Horizonte http://where.yahooapis.com/v1/place/455821   23424768 Brazil \n",
              "4  Curitiba       http://where.yahooapis.com/v1/place/455822   23424768 Brazil \n",
              "5  Porto Alegre   http://where.yahooapis.com/v1/place/455823   23424768 Brazil \n",
              "6  Recife         http://where.yahooapis.com/v1/place/455824   23424768 Brazil \n",
              "7  Rio de Janeiro http://where.yahooapis.com/v1/place/455825   23424768 Brazil \n",
              "8  Salvador       http://where.yahooapis.com/v1/place/455826   23424768 Brazil \n",
              "9  São Paulo      http://where.yahooapis.com/v1/place/455827   23424768 Brazil \n",
              "10 Campinas       http://where.yahooapis.com/v1/place/455828   23424768 Brazil \n",
              "11 Fortaleza      http://where.yahooapis.com/v1/place/455830   23424768 Brazil \n",
              "12 Goiânia        http://where.yahooapis.com/v1/place/455831   23424768 Brazil \n",
              "13 Manaus         http://where.yahooapis.com/v1/place/455833   23424768 Brazil \n",
              "14 São Luís       http://where.yahooapis.com/v1/place/455834   23424768 Brazil \n",
              "15 Guarulhos      http://where.yahooapis.com/v1/place/455867   23424768 Brazil \n",
              "16 Brazil         http://where.yahooapis.com/v1/place/23424768        1 Brazil \n",
              "   woeid    countryCode code place_type\n",
              "1    455819 BR           7   Town      \n",
              "2    455820 BR           7   Town      \n",
              "3    455821 BR           7   Town      \n",
              "4    455822 BR           7   Town      \n",
              "5    455823 BR           7   Town      \n",
              "6    455824 BR           7   Town      \n",
              "7    455825 BR           7   Town      \n",
              "8    455826 BR           7   Town      \n",
              "9    455827 BR           7   Town      \n",
              "10   455828 BR           7   Town      \n",
              "11   455830 BR           7   Town      \n",
              "12   455831 BR           7   Town      \n",
              "13   455833 BR           7   Town      \n",
              "14   455834 BR           7   Town      \n",
              "15   455867 BR           7   Town      \n",
              "16 23424768 BR          12   Country   "
            ],
            "text/latex": "A tibble: 16 × 8\n\\begin{tabular}{r|llllllll}\n name & url & parentid & country & woeid & countryCode & code & place\\_type\\\\\n <chr> & <chr> & <int> & <chr> & <int> & <chr> & <int> & <chr>\\\\\n\\hline\n\t Brasília       & http://where.yahooapis.com/v1/place/455819   & 23424768 & Brazil &   455819 & BR &  7 & Town   \\\\\n\t Belém          & http://where.yahooapis.com/v1/place/455820   & 23424768 & Brazil &   455820 & BR &  7 & Town   \\\\\n\t Belo Horizonte & http://where.yahooapis.com/v1/place/455821   & 23424768 & Brazil &   455821 & BR &  7 & Town   \\\\\n\t Curitiba       & http://where.yahooapis.com/v1/place/455822   & 23424768 & Brazil &   455822 & BR &  7 & Town   \\\\\n\t Porto Alegre   & http://where.yahooapis.com/v1/place/455823   & 23424768 & Brazil &   455823 & BR &  7 & Town   \\\\\n\t Recife         & http://where.yahooapis.com/v1/place/455824   & 23424768 & Brazil &   455824 & BR &  7 & Town   \\\\\n\t Rio de Janeiro & http://where.yahooapis.com/v1/place/455825   & 23424768 & Brazil &   455825 & BR &  7 & Town   \\\\\n\t Salvador       & http://where.yahooapis.com/v1/place/455826   & 23424768 & Brazil &   455826 & BR &  7 & Town   \\\\\n\t São Paulo      & http://where.yahooapis.com/v1/place/455827   & 23424768 & Brazil &   455827 & BR &  7 & Town   \\\\\n\t Campinas       & http://where.yahooapis.com/v1/place/455828   & 23424768 & Brazil &   455828 & BR &  7 & Town   \\\\\n\t Fortaleza      & http://where.yahooapis.com/v1/place/455830   & 23424768 & Brazil &   455830 & BR &  7 & Town   \\\\\n\t Goiânia        & http://where.yahooapis.com/v1/place/455831   & 23424768 & Brazil &   455831 & BR &  7 & Town   \\\\\n\t Manaus         & http://where.yahooapis.com/v1/place/455833   & 23424768 & Brazil &   455833 & BR &  7 & Town   \\\\\n\t São Luís       & http://where.yahooapis.com/v1/place/455834   & 23424768 & Brazil &   455834 & BR &  7 & Town   \\\\\n\t Guarulhos      & http://where.yahooapis.com/v1/place/455867   & 23424768 & Brazil &   455867 & BR &  7 & Town   \\\\\n\t Brazil         & http://where.yahooapis.com/v1/place/23424768 &        1 & Brazil & 23424768 & BR & 12 & Country\\\\\n\\end{tabular}\n",
            "text/markdown": "\nA tibble: 16 × 8\n\n| name &lt;chr&gt; | url &lt;chr&gt; | parentid &lt;int&gt; | country &lt;chr&gt; | woeid &lt;int&gt; | countryCode &lt;chr&gt; | code &lt;int&gt; | place_type &lt;chr&gt; |\n|---|---|---|---|---|---|---|---|\n| Brasília       | http://where.yahooapis.com/v1/place/455819   | 23424768 | Brazil |   455819 | BR |  7 | Town    |\n| Belém          | http://where.yahooapis.com/v1/place/455820   | 23424768 | Brazil |   455820 | BR |  7 | Town    |\n| Belo Horizonte | http://where.yahooapis.com/v1/place/455821   | 23424768 | Brazil |   455821 | BR |  7 | Town    |\n| Curitiba       | http://where.yahooapis.com/v1/place/455822   | 23424768 | Brazil |   455822 | BR |  7 | Town    |\n| Porto Alegre   | http://where.yahooapis.com/v1/place/455823   | 23424768 | Brazil |   455823 | BR |  7 | Town    |\n| Recife         | http://where.yahooapis.com/v1/place/455824   | 23424768 | Brazil |   455824 | BR |  7 | Town    |\n| Rio de Janeiro | http://where.yahooapis.com/v1/place/455825   | 23424768 | Brazil |   455825 | BR |  7 | Town    |\n| Salvador       | http://where.yahooapis.com/v1/place/455826   | 23424768 | Brazil |   455826 | BR |  7 | Town    |\n| São Paulo      | http://where.yahooapis.com/v1/place/455827   | 23424768 | Brazil |   455827 | BR |  7 | Town    |\n| Campinas       | http://where.yahooapis.com/v1/place/455828   | 23424768 | Brazil |   455828 | BR |  7 | Town    |\n| Fortaleza      | http://where.yahooapis.com/v1/place/455830   | 23424768 | Brazil |   455830 | BR |  7 | Town    |\n| Goiânia        | http://where.yahooapis.com/v1/place/455831   | 23424768 | Brazil |   455831 | BR |  7 | Town    |\n| Manaus         | http://where.yahooapis.com/v1/place/455833   | 23424768 | Brazil |   455833 | BR |  7 | Town    |\n| São Luís       | http://where.yahooapis.com/v1/place/455834   | 23424768 | Brazil |   455834 | BR |  7 | Town    |\n| Guarulhos      | http://where.yahooapis.com/v1/place/455867   | 23424768 | Brazil |   455867 | BR |  7 | Town    |\n| Brazil         | http://where.yahooapis.com/v1/place/23424768 |        1 | Brazil | 23424768 | BR | 12 | Country |\n\n",
            "text/html": [
              "<table>\n",
              "<caption>A tibble: 16 × 8</caption>\n",
              "<thead>\n",
              "\t<tr><th scope=col>name</th><th scope=col>url</th><th scope=col>parentid</th><th scope=col>country</th><th scope=col>woeid</th><th scope=col>countryCode</th><th scope=col>code</th><th scope=col>place_type</th></tr>\n",
              "\t<tr><th scope=col>&lt;chr&gt;</th><th scope=col>&lt;chr&gt;</th><th scope=col>&lt;int&gt;</th><th scope=col>&lt;chr&gt;</th><th scope=col>&lt;int&gt;</th><th scope=col>&lt;chr&gt;</th><th scope=col>&lt;int&gt;</th><th scope=col>&lt;chr&gt;</th></tr>\n",
              "</thead>\n",
              "<tbody>\n",
              "\t<tr><td>Brasília      </td><td>http://where.yahooapis.com/v1/place/455819  </td><td>23424768</td><td>Brazil</td><td>  455819</td><td>BR</td><td> 7</td><td>Town   </td></tr>\n",
              "\t<tr><td>Belém         </td><td>http://where.yahooapis.com/v1/place/455820  </td><td>23424768</td><td>Brazil</td><td>  455820</td><td>BR</td><td> 7</td><td>Town   </td></tr>\n",
              "\t<tr><td>Belo Horizonte</td><td>http://where.yahooapis.com/v1/place/455821  </td><td>23424768</td><td>Brazil</td><td>  455821</td><td>BR</td><td> 7</td><td>Town   </td></tr>\n",
              "\t<tr><td>Curitiba      </td><td>http://where.yahooapis.com/v1/place/455822  </td><td>23424768</td><td>Brazil</td><td>  455822</td><td>BR</td><td> 7</td><td>Town   </td></tr>\n",
              "\t<tr><td>Porto Alegre  </td><td>http://where.yahooapis.com/v1/place/455823  </td><td>23424768</td><td>Brazil</td><td>  455823</td><td>BR</td><td> 7</td><td>Town   </td></tr>\n",
              "\t<tr><td>Recife        </td><td>http://where.yahooapis.com/v1/place/455824  </td><td>23424768</td><td>Brazil</td><td>  455824</td><td>BR</td><td> 7</td><td>Town   </td></tr>\n",
              "\t<tr><td>Rio de Janeiro</td><td>http://where.yahooapis.com/v1/place/455825  </td><td>23424768</td><td>Brazil</td><td>  455825</td><td>BR</td><td> 7</td><td>Town   </td></tr>\n",
              "\t<tr><td>Salvador      </td><td>http://where.yahooapis.com/v1/place/455826  </td><td>23424768</td><td>Brazil</td><td>  455826</td><td>BR</td><td> 7</td><td>Town   </td></tr>\n",
              "\t<tr><td>São Paulo     </td><td>http://where.yahooapis.com/v1/place/455827  </td><td>23424768</td><td>Brazil</td><td>  455827</td><td>BR</td><td> 7</td><td>Town   </td></tr>\n",
              "\t<tr><td>Campinas      </td><td>http://where.yahooapis.com/v1/place/455828  </td><td>23424768</td><td>Brazil</td><td>  455828</td><td>BR</td><td> 7</td><td>Town   </td></tr>\n",
              "\t<tr><td>Fortaleza     </td><td>http://where.yahooapis.com/v1/place/455830  </td><td>23424768</td><td>Brazil</td><td>  455830</td><td>BR</td><td> 7</td><td>Town   </td></tr>\n",
              "\t<tr><td>Goiânia       </td><td>http://where.yahooapis.com/v1/place/455831  </td><td>23424768</td><td>Brazil</td><td>  455831</td><td>BR</td><td> 7</td><td>Town   </td></tr>\n",
              "\t<tr><td>Manaus        </td><td>http://where.yahooapis.com/v1/place/455833  </td><td>23424768</td><td>Brazil</td><td>  455833</td><td>BR</td><td> 7</td><td>Town   </td></tr>\n",
              "\t<tr><td>São Luís      </td><td>http://where.yahooapis.com/v1/place/455834  </td><td>23424768</td><td>Brazil</td><td>  455834</td><td>BR</td><td> 7</td><td>Town   </td></tr>\n",
              "\t<tr><td>Guarulhos     </td><td>http://where.yahooapis.com/v1/place/455867  </td><td>23424768</td><td>Brazil</td><td>  455867</td><td>BR</td><td> 7</td><td>Town   </td></tr>\n",
              "\t<tr><td>Brazil        </td><td>http://where.yahooapis.com/v1/place/23424768</td><td>       1</td><td>Brazil</td><td>23424768</td><td>BR</td><td>12</td><td>Country</td></tr>\n",
              "</tbody>\n",
              "</table>\n"
            ]
          },
          "metadata": {
            "tags": []
          }
        }
      ]
    },
    {
      "cell_type": "code",
      "metadata": {
        "id": "LhqAu-vWhr20",
        "colab_type": "code",
        "colab": {
          "base_uri": "https://localhost:8080/",
          "height": 34
        },
        "outputId": "96dd574e-aa5c-47be-d2e0-59255e1827e1"
      },
      "source": [
        "location <-  pull(filter(trends_codes, name == \"Rio de Janeiro\")[\"woeid\"])\n",
        "location"
      ],
      "execution_count": 53,
      "outputs": [
        {
          "output_type": "display_data",
          "data": {
            "text/plain": [
              "[1] 455825"
            ],
            "text/latex": "455825",
            "text/markdown": "455825",
            "text/html": [
              "455825"
            ]
          },
          "metadata": {
            "tags": []
          }
        }
      ]
    },
    {
      "cell_type": "code",
      "metadata": {
        "id": "1xewjqAZgQyJ",
        "colab_type": "code",
        "colab": {
          "base_uri": "https://localhost:8080/",
          "height": 2016
        },
        "outputId": "b8d7adbb-ed04-4e33-8cea-35d20357fe92"
      },
      "source": [
        "trends <- get_trends(woeid = location)\n",
        "trends"
      ],
      "execution_count": 55,
      "outputs": [
        {
          "output_type": "display_data",
          "data": {
            "text/plain": [
              "   trend                       \n",
              "1  Neymar                      \n",
              "2  Flamengo                    \n",
              "3  #THISNIGHTbyJIN             \n",
              "4  #ByJinIsComing              \n",
              "5  #QueReformaÉEssa            \n",
              "6  #TonightByJinOutNow         \n",
              "7  CNN Brasil                  \n",
              "8  #이밤ByJin                  \n",
              "9  Kratos                      \n",
              "10 William Waack               \n",
              "11 NOW UNITED                  \n",
              "12 Kim Seokjin                 \n",
              "13 JIN of BTS de BTS           \n",
              "14 FEDAL                       \n",
              "15 Federer x Nadal             \n",
              "16 Presidente da CBF           \n",
              "17 Obrigada Jin                \n",
              "18 Jovic                       \n",
              "19 Moonchild by RM             \n",
              "20 VOCAL DA NAÇÃO              \n",
              "21 Transpetro                  \n",
              "22 Hypermarcas                 \n",
              "23 Romero Jucá                 \n",
              "24 Previdência de Bolsonaro    \n",
              "25 tirei tu                    \n",
              "26 Grécia Antiga               \n",
              "27 Skylab                      \n",
              "28 Everton Felipe              \n",
              "29 Riascos                     \n",
              "30 #EuFiqueiSabendo            \n",
              "31 #NASAMoonTunes              \n",
              "32 #VergonhaCBF                \n",
              "33 #SenadoAprovePL3261         \n",
              "34 #TercaDetremuraSDV          \n",
              "35 #SelecaoSportv              \n",
              "36 #BBdebate                   \n",
              "37 #tocomeboli                 \n",
              "38 #fsradiobrasil              \n",
              "39 #ByJinIsHere                \n",
              "40 #JaEhMetadeDoAnoEEu         \n",
              "41 #StrangerThings             \n",
              "42 #lucamanobanday             \n",
              "43 #Número1doFutebolÉ          \n",
              "44 #ObrigadoSenadoBrasileiro   \n",
              "45 #ThankYouJin                \n",
              "46 #ProgressistasXConservadores\n",
              "47 #ChoiceSummerMovie          \n",
              "48 #Apollo50th                 \n",
              "49 #FLAxCOR                    \n",
              "50 #PLN4AprojaJa               \n",
              "   url                                                            \n",
              "1  http://twitter.com/search?q=Neymar                             \n",
              "2  http://twitter.com/search?q=Flamengo                           \n",
              "3  http://twitter.com/search?q=%23THISNIGHTbyJIN                  \n",
              "4  http://twitter.com/search?q=%23ByJinIsComing                   \n",
              "5  http://twitter.com/search?q=%23QueReforma%C3%89Essa            \n",
              "6  http://twitter.com/search?q=%23TonightByJinOutNow              \n",
              "7  http://twitter.com/search?q=%22CNN+Brasil%22                   \n",
              "8  http://twitter.com/search?q=%23%EC%9D%B4%EB%B0%A4ByJin         \n",
              "9  http://twitter.com/search?q=Kratos                             \n",
              "10 http://twitter.com/search?q=%22William+Waack%22                \n",
              "11 http://twitter.com/search?q=%22NOW+UNITED%22                   \n",
              "12 http://twitter.com/search?q=%22Kim+Seokjin%22                  \n",
              "13 http://twitter.com/search?q=%22JIN+of+BTS+de+BTS%22            \n",
              "14 http://twitter.com/search?q=FEDAL                              \n",
              "15 http://twitter.com/search?q=%22Federer+x+Nadal%22              \n",
              "16 http://twitter.com/search?q=%22Presidente+da+CBF%22            \n",
              "17 http://twitter.com/search?q=%22Obrigada+Jin%22                 \n",
              "18 http://twitter.com/search?q=Jovic                              \n",
              "19 http://twitter.com/search?q=%22Moonchild+by+RM%22              \n",
              "20 http://twitter.com/search?q=%22VOCAL+DA+NA%C3%87%C3%83O%22     \n",
              "21 http://twitter.com/search?q=Transpetro                         \n",
              "22 http://twitter.com/search?q=Hypermarcas                        \n",
              "23 http://twitter.com/search?q=%22Romero+Juc%C3%A1%22             \n",
              "24 http://twitter.com/search?q=%22Previd%C3%AAncia+de+Bolsonaro%22\n",
              "25 http://twitter.com/search?q=%22tirei+tu%22                     \n",
              "26 http://twitter.com/search?q=%22Gr%C3%A9cia+Antiga%22           \n",
              "27 http://twitter.com/search?q=Skylab                             \n",
              "28 http://twitter.com/search?q=%22Everton+Felipe%22               \n",
              "29 http://twitter.com/search?q=Riascos                            \n",
              "30 http://twitter.com/search?q=%23EuFiqueiSabendo                 \n",
              "31 http://twitter.com/search?q=%23NASAMoonTunes                   \n",
              "32 http://twitter.com/search?q=%23VergonhaCBF                     \n",
              "33 http://twitter.com/search?q=%23SenadoAprovePL3261              \n",
              "34 http://twitter.com/search?q=%23TercaDetremuraSDV               \n",
              "35 http://twitter.com/search?q=%23SelecaoSportv                   \n",
              "36 http://twitter.com/search?q=%23BBdebate                        \n",
              "37 http://twitter.com/search?q=%23tocomeboli                      \n",
              "38 http://twitter.com/search?q=%23fsradiobrasil                   \n",
              "39 http://twitter.com/search?q=%23ByJinIsHere                     \n",
              "40 http://twitter.com/search?q=%23JaEhMetadeDoAnoEEu              \n",
              "41 http://twitter.com/search?q=%23StrangerThings                  \n",
              "42 http://twitter.com/search?q=%23lucamanobanday                  \n",
              "43 http://twitter.com/search?q=%23N%C3%BAmero1doFutebol%C3%89     \n",
              "44 http://twitter.com/search?q=%23ObrigadoSenadoBrasileiro        \n",
              "45 http://twitter.com/search?q=%23ThankYouJin                     \n",
              "46 http://twitter.com/search?q=%23ProgressistasXConservadores     \n",
              "47 http://twitter.com/search?q=%23ChoiceSummerMovie               \n",
              "48 http://twitter.com/search?q=%23Apollo50th                      \n",
              "49 http://twitter.com/search?q=%23FLAxCOR                         \n",
              "50 http://twitter.com/search?q=%23PLN4AprojaJa                    \n",
              "   promoted_content query                               tweet_volume\n",
              "1  NA               Neymar                              499676      \n",
              "2  NA               Flamengo                            108117      \n",
              "3  NA               %23THISNIGHTbyJIN                   564352      \n",
              "4  NA               %23ByJinIsComing                    639061      \n",
              "5  NA               %23QueReforma%C3%89Essa              14525      \n",
              "6  NA               %23TonightByJinOutNow               184774      \n",
              "7  NA               %22CNN+Brasil%22                        NA      \n",
              "8  NA               %23%EC%9D%B4%EB%B0%A4ByJin          334830      \n",
              "9  NA               Kratos                                  NA      \n",
              "10 NA               %22William+Waack%22                     NA      \n",
              "11 NA               %22NOW+UNITED%22                     43714      \n",
              "12 NA               %22Kim+Seokjin%22                   111934      \n",
              "13 NA               %22JIN+of+BTS+de+BTS%22                 NA      \n",
              "14 NA               FEDAL                                   NA      \n",
              "15 NA               %22Federer+x+Nadal%22                   NA      \n",
              "16 NA               %22Presidente+da+CBF%22                 NA      \n",
              "17 NA               %22Obrigada+Jin%22                      NA      \n",
              "18 NA               Jovic                               154588      \n",
              "19 NA               %22Moonchild+by+RM%22                35383      \n",
              "20 NA               %22VOCAL+DA+NA%C3%87%C3%83O%22          NA      \n",
              "21 NA               Transpetro                              NA      \n",
              "22 NA               Hypermarcas                             NA      \n",
              "23 NA               %22Romero+Juc%C3%A1%22                  NA      \n",
              "24 NA               %22Previd%C3%AAncia+de+Bolsonaro%22     NA      \n",
              "25 NA               %22tirei+tu%22                          NA      \n",
              "26 NA               %22Gr%C3%A9cia+Antiga%22                NA      \n",
              "27 NA               Skylab                                  NA      \n",
              "28 NA               %22Everton+Felipe%22                    NA      \n",
              "29 NA               Riascos                                 NA      \n",
              "30 NA               %23EuFiqueiSabendo                      NA      \n",
              "31 NA               %23NASAMoonTunes                     81210      \n",
              "32 NA               %23VergonhaCBF                          NA      \n",
              "33 NA               %23SenadoAprovePL3261                   NA      \n",
              "34 NA               %23TercaDetremuraSDV                 13574      \n",
              "35 NA               %23SelecaoSportv                        NA      \n",
              "36 NA               %23BBdebate                             NA      \n",
              "37 NA               %23tocomeboli                           NA      \n",
              "38 NA               %23fsradiobrasil                        NA      \n",
              "39 NA               %23ByJinIsHere                          NA      \n",
              "40 NA               %23JaEhMetadeDoAnoEEu                   NA      \n",
              "41 NA               %23StrangerThings                       NA      \n",
              "42 NA               %23lucamanobanday                    29611      \n",
              "43 NA               %23N%C3%BAmero1doFutebol%C3%89          NA      \n",
              "44 NA               %23ObrigadoSenadoBrasileiro             NA      \n",
              "45 NA               %23ThankYouJin                          NA      \n",
              "46 NA               %23ProgressistasXConservadores          NA      \n",
              "47 NA               %23ChoiceSummerMovie                    NA      \n",
              "48 NA               %23Apollo50th                        17974      \n",
              "49 NA               %23FLAxCOR                              NA      \n",
              "50 NA               %23PLN4AprojaJa                         NA      \n",
              "   place          woeid  as_of               created_at         \n",
              "1  Rio de Janeiro 455825 2019-06-04 17:30:47 2019-06-04 17:27:19\n",
              "2  Rio de Janeiro 455825 2019-06-04 17:30:47 2019-06-04 17:27:19\n",
              "3  Rio de Janeiro 455825 2019-06-04 17:30:47 2019-06-04 17:27:19\n",
              "4  Rio de Janeiro 455825 2019-06-04 17:30:47 2019-06-04 17:27:19\n",
              "5  Rio de Janeiro 455825 2019-06-04 17:30:47 2019-06-04 17:27:19\n",
              "6  Rio de Janeiro 455825 2019-06-04 17:30:47 2019-06-04 17:27:19\n",
              "7  Rio de Janeiro 455825 2019-06-04 17:30:47 2019-06-04 17:27:19\n",
              "8  Rio de Janeiro 455825 2019-06-04 17:30:47 2019-06-04 17:27:19\n",
              "9  Rio de Janeiro 455825 2019-06-04 17:30:47 2019-06-04 17:27:19\n",
              "10 Rio de Janeiro 455825 2019-06-04 17:30:47 2019-06-04 17:27:19\n",
              "11 Rio de Janeiro 455825 2019-06-04 17:30:47 2019-06-04 17:27:19\n",
              "12 Rio de Janeiro 455825 2019-06-04 17:30:47 2019-06-04 17:27:19\n",
              "13 Rio de Janeiro 455825 2019-06-04 17:30:47 2019-06-04 17:27:19\n",
              "14 Rio de Janeiro 455825 2019-06-04 17:30:47 2019-06-04 17:27:19\n",
              "15 Rio de Janeiro 455825 2019-06-04 17:30:47 2019-06-04 17:27:19\n",
              "16 Rio de Janeiro 455825 2019-06-04 17:30:47 2019-06-04 17:27:19\n",
              "17 Rio de Janeiro 455825 2019-06-04 17:30:47 2019-06-04 17:27:19\n",
              "18 Rio de Janeiro 455825 2019-06-04 17:30:47 2019-06-04 17:27:19\n",
              "19 Rio de Janeiro 455825 2019-06-04 17:30:47 2019-06-04 17:27:19\n",
              "20 Rio de Janeiro 455825 2019-06-04 17:30:47 2019-06-04 17:27:19\n",
              "21 Rio de Janeiro 455825 2019-06-04 17:30:47 2019-06-04 17:27:19\n",
              "22 Rio de Janeiro 455825 2019-06-04 17:30:47 2019-06-04 17:27:19\n",
              "23 Rio de Janeiro 455825 2019-06-04 17:30:47 2019-06-04 17:27:19\n",
              "24 Rio de Janeiro 455825 2019-06-04 17:30:47 2019-06-04 17:27:19\n",
              "25 Rio de Janeiro 455825 2019-06-04 17:30:47 2019-06-04 17:27:19\n",
              "26 Rio de Janeiro 455825 2019-06-04 17:30:47 2019-06-04 17:27:19\n",
              "27 Rio de Janeiro 455825 2019-06-04 17:30:47 2019-06-04 17:27:19\n",
              "28 Rio de Janeiro 455825 2019-06-04 17:30:47 2019-06-04 17:27:19\n",
              "29 Rio de Janeiro 455825 2019-06-04 17:30:47 2019-06-04 17:27:19\n",
              "30 Rio de Janeiro 455825 2019-06-04 17:30:47 2019-06-04 17:27:19\n",
              "31 Rio de Janeiro 455825 2019-06-04 17:30:47 2019-06-04 17:27:19\n",
              "32 Rio de Janeiro 455825 2019-06-04 17:30:47 2019-06-04 17:27:19\n",
              "33 Rio de Janeiro 455825 2019-06-04 17:30:47 2019-06-04 17:27:19\n",
              "34 Rio de Janeiro 455825 2019-06-04 17:30:47 2019-06-04 17:27:19\n",
              "35 Rio de Janeiro 455825 2019-06-04 17:30:47 2019-06-04 17:27:19\n",
              "36 Rio de Janeiro 455825 2019-06-04 17:30:47 2019-06-04 17:27:19\n",
              "37 Rio de Janeiro 455825 2019-06-04 17:30:47 2019-06-04 17:27:19\n",
              "38 Rio de Janeiro 455825 2019-06-04 17:30:47 2019-06-04 17:27:19\n",
              "39 Rio de Janeiro 455825 2019-06-04 17:30:47 2019-06-04 17:27:19\n",
              "40 Rio de Janeiro 455825 2019-06-04 17:30:47 2019-06-04 17:27:19\n",
              "41 Rio de Janeiro 455825 2019-06-04 17:30:47 2019-06-04 17:27:19\n",
              "42 Rio de Janeiro 455825 2019-06-04 17:30:47 2019-06-04 17:27:19\n",
              "43 Rio de Janeiro 455825 2019-06-04 17:30:47 2019-06-04 17:27:19\n",
              "44 Rio de Janeiro 455825 2019-06-04 17:30:47 2019-06-04 17:27:19\n",
              "45 Rio de Janeiro 455825 2019-06-04 17:30:47 2019-06-04 17:27:19\n",
              "46 Rio de Janeiro 455825 2019-06-04 17:30:47 2019-06-04 17:27:19\n",
              "47 Rio de Janeiro 455825 2019-06-04 17:30:47 2019-06-04 17:27:19\n",
              "48 Rio de Janeiro 455825 2019-06-04 17:30:47 2019-06-04 17:27:19\n",
              "49 Rio de Janeiro 455825 2019-06-04 17:30:47 2019-06-04 17:27:19\n",
              "50 Rio de Janeiro 455825 2019-06-04 17:30:47 2019-06-04 17:27:19"
            ],
            "text/latex": "A tibble: 50 × 9\n\\begin{tabular}{r|lllllllll}\n trend & url & promoted\\_content & query & tweet\\_volume & place & woeid & as\\_of & created\\_at\\\\\n <chr> & <chr> & <lgl> & <chr> & <int> & <chr> & <int> & <dttm> & <dttm>\\\\\n\\hline\n\t Neymar                       & http://twitter.com/search?q=Neymar                              & NA & Neymar                              & 499676 & Rio de Janeiro & 455825 & 2019-06-04 17:30:47 & 2019-06-04 17:27:19\\\\\n\t Flamengo                     & http://twitter.com/search?q=Flamengo                            & NA & Flamengo                            & 108117 & Rio de Janeiro & 455825 & 2019-06-04 17:30:47 & 2019-06-04 17:27:19\\\\\n\t \\#THISNIGHTbyJIN              & http://twitter.com/search?q=\\%23THISNIGHTbyJIN                   & NA & \\%23THISNIGHTbyJIN                   & 564352 & Rio de Janeiro & 455825 & 2019-06-04 17:30:47 & 2019-06-04 17:27:19\\\\\n\t \\#ByJinIsComing               & http://twitter.com/search?q=\\%23ByJinIsComing                    & NA & \\%23ByJinIsComing                    & 639061 & Rio de Janeiro & 455825 & 2019-06-04 17:30:47 & 2019-06-04 17:27:19\\\\\n\t \\#QueReformaÉEssa             & http://twitter.com/search?q=\\%23QueReforma\\%C3\\%89Essa             & NA & \\%23QueReforma\\%C3\\%89Essa             &  14525 & Rio de Janeiro & 455825 & 2019-06-04 17:30:47 & 2019-06-04 17:27:19\\\\\n\t \\#TonightByJinOutNow          & http://twitter.com/search?q=\\%23TonightByJinOutNow               & NA & \\%23TonightByJinOutNow               & 184774 & Rio de Janeiro & 455825 & 2019-06-04 17:30:47 & 2019-06-04 17:27:19\\\\\n\t CNN Brasil                   & http://twitter.com/search?q=\\%22CNN+Brasil\\%22                    & NA & \\%22CNN+Brasil\\%22                    &     NA & Rio de Janeiro & 455825 & 2019-06-04 17:30:47 & 2019-06-04 17:27:19\\\\\n\t \\#이밤ByJin                   & http://twitter.com/search?q=\\%23\\%EC\\%9D\\%B4\\%EB\\%B0\\%A4ByJin          & NA & \\%23\\%EC\\%9D\\%B4\\%EB\\%B0\\%A4ByJin          & 334830 & Rio de Janeiro & 455825 & 2019-06-04 17:30:47 & 2019-06-04 17:27:19\\\\\n\t Kratos                       & http://twitter.com/search?q=Kratos                              & NA & Kratos                              &     NA & Rio de Janeiro & 455825 & 2019-06-04 17:30:47 & 2019-06-04 17:27:19\\\\\n\t William Waack                & http://twitter.com/search?q=\\%22William+Waack\\%22                 & NA & \\%22William+Waack\\%22                 &     NA & Rio de Janeiro & 455825 & 2019-06-04 17:30:47 & 2019-06-04 17:27:19\\\\\n\t NOW UNITED                   & http://twitter.com/search?q=\\%22NOW+UNITED\\%22                    & NA & \\%22NOW+UNITED\\%22                    &  43714 & Rio de Janeiro & 455825 & 2019-06-04 17:30:47 & 2019-06-04 17:27:19\\\\\n\t Kim Seokjin                  & http://twitter.com/search?q=\\%22Kim+Seokjin\\%22                   & NA & \\%22Kim+Seokjin\\%22                   & 111934 & Rio de Janeiro & 455825 & 2019-06-04 17:30:47 & 2019-06-04 17:27:19\\\\\n\t JIN of BTS de BTS            & http://twitter.com/search?q=\\%22JIN+of+BTS+de+BTS\\%22             & NA & \\%22JIN+of+BTS+de+BTS\\%22             &     NA & Rio de Janeiro & 455825 & 2019-06-04 17:30:47 & 2019-06-04 17:27:19\\\\\n\t FEDAL                        & http://twitter.com/search?q=FEDAL                               & NA & FEDAL                               &     NA & Rio de Janeiro & 455825 & 2019-06-04 17:30:47 & 2019-06-04 17:27:19\\\\\n\t Federer x Nadal              & http://twitter.com/search?q=\\%22Federer+x+Nadal\\%22               & NA & \\%22Federer+x+Nadal\\%22               &     NA & Rio de Janeiro & 455825 & 2019-06-04 17:30:47 & 2019-06-04 17:27:19\\\\\n\t Presidente da CBF            & http://twitter.com/search?q=\\%22Presidente+da+CBF\\%22             & NA & \\%22Presidente+da+CBF\\%22             &     NA & Rio de Janeiro & 455825 & 2019-06-04 17:30:47 & 2019-06-04 17:27:19\\\\\n\t Obrigada Jin                 & http://twitter.com/search?q=\\%22Obrigada+Jin\\%22                  & NA & \\%22Obrigada+Jin\\%22                  &     NA & Rio de Janeiro & 455825 & 2019-06-04 17:30:47 & 2019-06-04 17:27:19\\\\\n\t Jovic                        & http://twitter.com/search?q=Jovic                               & NA & Jovic                               & 154588 & Rio de Janeiro & 455825 & 2019-06-04 17:30:47 & 2019-06-04 17:27:19\\\\\n\t Moonchild by RM              & http://twitter.com/search?q=\\%22Moonchild+by+RM\\%22               & NA & \\%22Moonchild+by+RM\\%22               &  35383 & Rio de Janeiro & 455825 & 2019-06-04 17:30:47 & 2019-06-04 17:27:19\\\\\n\t VOCAL DA NAÇÃO               & http://twitter.com/search?q=\\%22VOCAL+DA+NA\\%C3\\%87\\%C3\\%83O\\%22      & NA & \\%22VOCAL+DA+NA\\%C3\\%87\\%C3\\%83O\\%22      &     NA & Rio de Janeiro & 455825 & 2019-06-04 17:30:47 & 2019-06-04 17:27:19\\\\\n\t Transpetro                   & http://twitter.com/search?q=Transpetro                          & NA & Transpetro                          &     NA & Rio de Janeiro & 455825 & 2019-06-04 17:30:47 & 2019-06-04 17:27:19\\\\\n\t Hypermarcas                  & http://twitter.com/search?q=Hypermarcas                         & NA & Hypermarcas                         &     NA & Rio de Janeiro & 455825 & 2019-06-04 17:30:47 & 2019-06-04 17:27:19\\\\\n\t Romero Jucá                  & http://twitter.com/search?q=\\%22Romero+Juc\\%C3\\%A1\\%22              & NA & \\%22Romero+Juc\\%C3\\%A1\\%22              &     NA & Rio de Janeiro & 455825 & 2019-06-04 17:30:47 & 2019-06-04 17:27:19\\\\\n\t Previdência de Bolsonaro     & http://twitter.com/search?q=\\%22Previd\\%C3\\%AAncia+de+Bolsonaro\\%22 & NA & \\%22Previd\\%C3\\%AAncia+de+Bolsonaro\\%22 &     NA & Rio de Janeiro & 455825 & 2019-06-04 17:30:47 & 2019-06-04 17:27:19\\\\\n\t tirei tu                     & http://twitter.com/search?q=\\%22tirei+tu\\%22                      & NA & \\%22tirei+tu\\%22                      &     NA & Rio de Janeiro & 455825 & 2019-06-04 17:30:47 & 2019-06-04 17:27:19\\\\\n\t Grécia Antiga                & http://twitter.com/search?q=\\%22Gr\\%C3\\%A9cia+Antiga\\%22            & NA & \\%22Gr\\%C3\\%A9cia+Antiga\\%22            &     NA & Rio de Janeiro & 455825 & 2019-06-04 17:30:47 & 2019-06-04 17:27:19\\\\\n\t Skylab                       & http://twitter.com/search?q=Skylab                              & NA & Skylab                              &     NA & Rio de Janeiro & 455825 & 2019-06-04 17:30:47 & 2019-06-04 17:27:19\\\\\n\t Everton Felipe               & http://twitter.com/search?q=\\%22Everton+Felipe\\%22                & NA & \\%22Everton+Felipe\\%22                &     NA & Rio de Janeiro & 455825 & 2019-06-04 17:30:47 & 2019-06-04 17:27:19\\\\\n\t Riascos                      & http://twitter.com/search?q=Riascos                             & NA & Riascos                             &     NA & Rio de Janeiro & 455825 & 2019-06-04 17:30:47 & 2019-06-04 17:27:19\\\\\n\t \\#EuFiqueiSabendo             & http://twitter.com/search?q=\\%23EuFiqueiSabendo                  & NA & \\%23EuFiqueiSabendo                  &     NA & Rio de Janeiro & 455825 & 2019-06-04 17:30:47 & 2019-06-04 17:27:19\\\\\n\t \\#NASAMoonTunes               & http://twitter.com/search?q=\\%23NASAMoonTunes                    & NA & \\%23NASAMoonTunes                    &  81210 & Rio de Janeiro & 455825 & 2019-06-04 17:30:47 & 2019-06-04 17:27:19\\\\\n\t \\#VergonhaCBF                 & http://twitter.com/search?q=\\%23VergonhaCBF                      & NA & \\%23VergonhaCBF                      &     NA & Rio de Janeiro & 455825 & 2019-06-04 17:30:47 & 2019-06-04 17:27:19\\\\\n\t \\#SenadoAprovePL3261          & http://twitter.com/search?q=\\%23SenadoAprovePL3261               & NA & \\%23SenadoAprovePL3261               &     NA & Rio de Janeiro & 455825 & 2019-06-04 17:30:47 & 2019-06-04 17:27:19\\\\\n\t \\#TercaDetremuraSDV           & http://twitter.com/search?q=\\%23TercaDetremuraSDV                & NA & \\%23TercaDetremuraSDV                &  13574 & Rio de Janeiro & 455825 & 2019-06-04 17:30:47 & 2019-06-04 17:27:19\\\\\n\t \\#SelecaoSportv               & http://twitter.com/search?q=\\%23SelecaoSportv                    & NA & \\%23SelecaoSportv                    &     NA & Rio de Janeiro & 455825 & 2019-06-04 17:30:47 & 2019-06-04 17:27:19\\\\\n\t \\#BBdebate                    & http://twitter.com/search?q=\\%23BBdebate                         & NA & \\%23BBdebate                         &     NA & Rio de Janeiro & 455825 & 2019-06-04 17:30:47 & 2019-06-04 17:27:19\\\\\n\t \\#tocomeboli                  & http://twitter.com/search?q=\\%23tocomeboli                       & NA & \\%23tocomeboli                       &     NA & Rio de Janeiro & 455825 & 2019-06-04 17:30:47 & 2019-06-04 17:27:19\\\\\n\t \\#fsradiobrasil               & http://twitter.com/search?q=\\%23fsradiobrasil                    & NA & \\%23fsradiobrasil                    &     NA & Rio de Janeiro & 455825 & 2019-06-04 17:30:47 & 2019-06-04 17:27:19\\\\\n\t \\#ByJinIsHere                 & http://twitter.com/search?q=\\%23ByJinIsHere                      & NA & \\%23ByJinIsHere                      &     NA & Rio de Janeiro & 455825 & 2019-06-04 17:30:47 & 2019-06-04 17:27:19\\\\\n\t \\#JaEhMetadeDoAnoEEu          & http://twitter.com/search?q=\\%23JaEhMetadeDoAnoEEu               & NA & \\%23JaEhMetadeDoAnoEEu               &     NA & Rio de Janeiro & 455825 & 2019-06-04 17:30:47 & 2019-06-04 17:27:19\\\\\n\t \\#StrangerThings              & http://twitter.com/search?q=\\%23StrangerThings                   & NA & \\%23StrangerThings                   &     NA & Rio de Janeiro & 455825 & 2019-06-04 17:30:47 & 2019-06-04 17:27:19\\\\\n\t \\#lucamanobanday              & http://twitter.com/search?q=\\%23lucamanobanday                   & NA & \\%23lucamanobanday                   &  29611 & Rio de Janeiro & 455825 & 2019-06-04 17:30:47 & 2019-06-04 17:27:19\\\\\n\t \\#Número1doFutebolÉ           & http://twitter.com/search?q=\\%23N\\%C3\\%BAmero1doFutebol\\%C3\\%89      & NA & \\%23N\\%C3\\%BAmero1doFutebol\\%C3\\%89      &     NA & Rio de Janeiro & 455825 & 2019-06-04 17:30:47 & 2019-06-04 17:27:19\\\\\n\t \\#ObrigadoSenadoBrasileiro    & http://twitter.com/search?q=\\%23ObrigadoSenadoBrasileiro         & NA & \\%23ObrigadoSenadoBrasileiro         &     NA & Rio de Janeiro & 455825 & 2019-06-04 17:30:47 & 2019-06-04 17:27:19\\\\\n\t \\#ThankYouJin                 & http://twitter.com/search?q=\\%23ThankYouJin                      & NA & \\%23ThankYouJin                      &     NA & Rio de Janeiro & 455825 & 2019-06-04 17:30:47 & 2019-06-04 17:27:19\\\\\n\t \\#ProgressistasXConservadores & http://twitter.com/search?q=\\%23ProgressistasXConservadores      & NA & \\%23ProgressistasXConservadores      &     NA & Rio de Janeiro & 455825 & 2019-06-04 17:30:47 & 2019-06-04 17:27:19\\\\\n\t \\#ChoiceSummerMovie           & http://twitter.com/search?q=\\%23ChoiceSummerMovie                & NA & \\%23ChoiceSummerMovie                &     NA & Rio de Janeiro & 455825 & 2019-06-04 17:30:47 & 2019-06-04 17:27:19\\\\\n\t \\#Apollo50th                  & http://twitter.com/search?q=\\%23Apollo50th                       & NA & \\%23Apollo50th                       &  17974 & Rio de Janeiro & 455825 & 2019-06-04 17:30:47 & 2019-06-04 17:27:19\\\\\n\t \\#FLAxCOR                     & http://twitter.com/search?q=\\%23FLAxCOR                          & NA & \\%23FLAxCOR                          &     NA & Rio de Janeiro & 455825 & 2019-06-04 17:30:47 & 2019-06-04 17:27:19\\\\\n\t \\#PLN4AprojaJa                & http://twitter.com/search?q=\\%23PLN4AprojaJa                     & NA & \\%23PLN4AprojaJa                     &     NA & Rio de Janeiro & 455825 & 2019-06-04 17:30:47 & 2019-06-04 17:27:19\\\\\n\\end{tabular}\n",
            "text/markdown": "\nA tibble: 50 × 9\n\n| trend &lt;chr&gt; | url &lt;chr&gt; | promoted_content &lt;lgl&gt; | query &lt;chr&gt; | tweet_volume &lt;int&gt; | place &lt;chr&gt; | woeid &lt;int&gt; | as_of &lt;dttm&gt; | created_at &lt;dttm&gt; |\n|---|---|---|---|---|---|---|---|---|\n| Neymar                       | http://twitter.com/search?q=Neymar                              | NA | Neymar                              | 499676 | Rio de Janeiro | 455825 | 2019-06-04 17:30:47 | 2019-06-04 17:27:19 |\n| Flamengo                     | http://twitter.com/search?q=Flamengo                            | NA | Flamengo                            | 108117 | Rio de Janeiro | 455825 | 2019-06-04 17:30:47 | 2019-06-04 17:27:19 |\n| #THISNIGHTbyJIN              | http://twitter.com/search?q=%23THISNIGHTbyJIN                   | NA | %23THISNIGHTbyJIN                   | 564352 | Rio de Janeiro | 455825 | 2019-06-04 17:30:47 | 2019-06-04 17:27:19 |\n| #ByJinIsComing               | http://twitter.com/search?q=%23ByJinIsComing                    | NA | %23ByJinIsComing                    | 639061 | Rio de Janeiro | 455825 | 2019-06-04 17:30:47 | 2019-06-04 17:27:19 |\n| #QueReformaÉEssa             | http://twitter.com/search?q=%23QueReforma%C3%89Essa             | NA | %23QueReforma%C3%89Essa             |  14525 | Rio de Janeiro | 455825 | 2019-06-04 17:30:47 | 2019-06-04 17:27:19 |\n| #TonightByJinOutNow          | http://twitter.com/search?q=%23TonightByJinOutNow               | NA | %23TonightByJinOutNow               | 184774 | Rio de Janeiro | 455825 | 2019-06-04 17:30:47 | 2019-06-04 17:27:19 |\n| CNN Brasil                   | http://twitter.com/search?q=%22CNN+Brasil%22                    | NA | %22CNN+Brasil%22                    |     NA | Rio de Janeiro | 455825 | 2019-06-04 17:30:47 | 2019-06-04 17:27:19 |\n| #이밤ByJin                   | http://twitter.com/search?q=%23%EC%9D%B4%EB%B0%A4ByJin          | NA | %23%EC%9D%B4%EB%B0%A4ByJin          | 334830 | Rio de Janeiro | 455825 | 2019-06-04 17:30:47 | 2019-06-04 17:27:19 |\n| Kratos                       | http://twitter.com/search?q=Kratos                              | NA | Kratos                              |     NA | Rio de Janeiro | 455825 | 2019-06-04 17:30:47 | 2019-06-04 17:27:19 |\n| William Waack                | http://twitter.com/search?q=%22William+Waack%22                 | NA | %22William+Waack%22                 |     NA | Rio de Janeiro | 455825 | 2019-06-04 17:30:47 | 2019-06-04 17:27:19 |\n| NOW UNITED                   | http://twitter.com/search?q=%22NOW+UNITED%22                    | NA | %22NOW+UNITED%22                    |  43714 | Rio de Janeiro | 455825 | 2019-06-04 17:30:47 | 2019-06-04 17:27:19 |\n| Kim Seokjin                  | http://twitter.com/search?q=%22Kim+Seokjin%22                   | NA | %22Kim+Seokjin%22                   | 111934 | Rio de Janeiro | 455825 | 2019-06-04 17:30:47 | 2019-06-04 17:27:19 |\n| JIN of BTS de BTS            | http://twitter.com/search?q=%22JIN+of+BTS+de+BTS%22             | NA | %22JIN+of+BTS+de+BTS%22             |     NA | Rio de Janeiro | 455825 | 2019-06-04 17:30:47 | 2019-06-04 17:27:19 |\n| FEDAL                        | http://twitter.com/search?q=FEDAL                               | NA | FEDAL                               |     NA | Rio de Janeiro | 455825 | 2019-06-04 17:30:47 | 2019-06-04 17:27:19 |\n| Federer x Nadal              | http://twitter.com/search?q=%22Federer+x+Nadal%22               | NA | %22Federer+x+Nadal%22               |     NA | Rio de Janeiro | 455825 | 2019-06-04 17:30:47 | 2019-06-04 17:27:19 |\n| Presidente da CBF            | http://twitter.com/search?q=%22Presidente+da+CBF%22             | NA | %22Presidente+da+CBF%22             |     NA | Rio de Janeiro | 455825 | 2019-06-04 17:30:47 | 2019-06-04 17:27:19 |\n| Obrigada Jin                 | http://twitter.com/search?q=%22Obrigada+Jin%22                  | NA | %22Obrigada+Jin%22                  |     NA | Rio de Janeiro | 455825 | 2019-06-04 17:30:47 | 2019-06-04 17:27:19 |\n| Jovic                        | http://twitter.com/search?q=Jovic                               | NA | Jovic                               | 154588 | Rio de Janeiro | 455825 | 2019-06-04 17:30:47 | 2019-06-04 17:27:19 |\n| Moonchild by RM              | http://twitter.com/search?q=%22Moonchild+by+RM%22               | NA | %22Moonchild+by+RM%22               |  35383 | Rio de Janeiro | 455825 | 2019-06-04 17:30:47 | 2019-06-04 17:27:19 |\n| VOCAL DA NAÇÃO               | http://twitter.com/search?q=%22VOCAL+DA+NA%C3%87%C3%83O%22      | NA | %22VOCAL+DA+NA%C3%87%C3%83O%22      |     NA | Rio de Janeiro | 455825 | 2019-06-04 17:30:47 | 2019-06-04 17:27:19 |\n| Transpetro                   | http://twitter.com/search?q=Transpetro                          | NA | Transpetro                          |     NA | Rio de Janeiro | 455825 | 2019-06-04 17:30:47 | 2019-06-04 17:27:19 |\n| Hypermarcas                  | http://twitter.com/search?q=Hypermarcas                         | NA | Hypermarcas                         |     NA | Rio de Janeiro | 455825 | 2019-06-04 17:30:47 | 2019-06-04 17:27:19 |\n| Romero Jucá                  | http://twitter.com/search?q=%22Romero+Juc%C3%A1%22              | NA | %22Romero+Juc%C3%A1%22              |     NA | Rio de Janeiro | 455825 | 2019-06-04 17:30:47 | 2019-06-04 17:27:19 |\n| Previdência de Bolsonaro     | http://twitter.com/search?q=%22Previd%C3%AAncia+de+Bolsonaro%22 | NA | %22Previd%C3%AAncia+de+Bolsonaro%22 |     NA | Rio de Janeiro | 455825 | 2019-06-04 17:30:47 | 2019-06-04 17:27:19 |\n| tirei tu                     | http://twitter.com/search?q=%22tirei+tu%22                      | NA | %22tirei+tu%22                      |     NA | Rio de Janeiro | 455825 | 2019-06-04 17:30:47 | 2019-06-04 17:27:19 |\n| Grécia Antiga                | http://twitter.com/search?q=%22Gr%C3%A9cia+Antiga%22            | NA | %22Gr%C3%A9cia+Antiga%22            |     NA | Rio de Janeiro | 455825 | 2019-06-04 17:30:47 | 2019-06-04 17:27:19 |\n| Skylab                       | http://twitter.com/search?q=Skylab                              | NA | Skylab                              |     NA | Rio de Janeiro | 455825 | 2019-06-04 17:30:47 | 2019-06-04 17:27:19 |\n| Everton Felipe               | http://twitter.com/search?q=%22Everton+Felipe%22                | NA | %22Everton+Felipe%22                |     NA | Rio de Janeiro | 455825 | 2019-06-04 17:30:47 | 2019-06-04 17:27:19 |\n| Riascos                      | http://twitter.com/search?q=Riascos                             | NA | Riascos                             |     NA | Rio de Janeiro | 455825 | 2019-06-04 17:30:47 | 2019-06-04 17:27:19 |\n| #EuFiqueiSabendo             | http://twitter.com/search?q=%23EuFiqueiSabendo                  | NA | %23EuFiqueiSabendo                  |     NA | Rio de Janeiro | 455825 | 2019-06-04 17:30:47 | 2019-06-04 17:27:19 |\n| #NASAMoonTunes               | http://twitter.com/search?q=%23NASAMoonTunes                    | NA | %23NASAMoonTunes                    |  81210 | Rio de Janeiro | 455825 | 2019-06-04 17:30:47 | 2019-06-04 17:27:19 |\n| #VergonhaCBF                 | http://twitter.com/search?q=%23VergonhaCBF                      | NA | %23VergonhaCBF                      |     NA | Rio de Janeiro | 455825 | 2019-06-04 17:30:47 | 2019-06-04 17:27:19 |\n| #SenadoAprovePL3261          | http://twitter.com/search?q=%23SenadoAprovePL3261               | NA | %23SenadoAprovePL3261               |     NA | Rio de Janeiro | 455825 | 2019-06-04 17:30:47 | 2019-06-04 17:27:19 |\n| #TercaDetremuraSDV           | http://twitter.com/search?q=%23TercaDetremuraSDV                | NA | %23TercaDetremuraSDV                |  13574 | Rio de Janeiro | 455825 | 2019-06-04 17:30:47 | 2019-06-04 17:27:19 |\n| #SelecaoSportv               | http://twitter.com/search?q=%23SelecaoSportv                    | NA | %23SelecaoSportv                    |     NA | Rio de Janeiro | 455825 | 2019-06-04 17:30:47 | 2019-06-04 17:27:19 |\n| #BBdebate                    | http://twitter.com/search?q=%23BBdebate                         | NA | %23BBdebate                         |     NA | Rio de Janeiro | 455825 | 2019-06-04 17:30:47 | 2019-06-04 17:27:19 |\n| #tocomeboli                  | http://twitter.com/search?q=%23tocomeboli                       | NA | %23tocomeboli                       |     NA | Rio de Janeiro | 455825 | 2019-06-04 17:30:47 | 2019-06-04 17:27:19 |\n| #fsradiobrasil               | http://twitter.com/search?q=%23fsradiobrasil                    | NA | %23fsradiobrasil                    |     NA | Rio de Janeiro | 455825 | 2019-06-04 17:30:47 | 2019-06-04 17:27:19 |\n| #ByJinIsHere                 | http://twitter.com/search?q=%23ByJinIsHere                      | NA | %23ByJinIsHere                      |     NA | Rio de Janeiro | 455825 | 2019-06-04 17:30:47 | 2019-06-04 17:27:19 |\n| #JaEhMetadeDoAnoEEu          | http://twitter.com/search?q=%23JaEhMetadeDoAnoEEu               | NA | %23JaEhMetadeDoAnoEEu               |     NA | Rio de Janeiro | 455825 | 2019-06-04 17:30:47 | 2019-06-04 17:27:19 |\n| #StrangerThings              | http://twitter.com/search?q=%23StrangerThings                   | NA | %23StrangerThings                   |     NA | Rio de Janeiro | 455825 | 2019-06-04 17:30:47 | 2019-06-04 17:27:19 |\n| #lucamanobanday              | http://twitter.com/search?q=%23lucamanobanday                   | NA | %23lucamanobanday                   |  29611 | Rio de Janeiro | 455825 | 2019-06-04 17:30:47 | 2019-06-04 17:27:19 |\n| #Número1doFutebolÉ           | http://twitter.com/search?q=%23N%C3%BAmero1doFutebol%C3%89      | NA | %23N%C3%BAmero1doFutebol%C3%89      |     NA | Rio de Janeiro | 455825 | 2019-06-04 17:30:47 | 2019-06-04 17:27:19 |\n| #ObrigadoSenadoBrasileiro    | http://twitter.com/search?q=%23ObrigadoSenadoBrasileiro         | NA | %23ObrigadoSenadoBrasileiro         |     NA | Rio de Janeiro | 455825 | 2019-06-04 17:30:47 | 2019-06-04 17:27:19 |\n| #ThankYouJin                 | http://twitter.com/search?q=%23ThankYouJin                      | NA | %23ThankYouJin                      |     NA | Rio de Janeiro | 455825 | 2019-06-04 17:30:47 | 2019-06-04 17:27:19 |\n| #ProgressistasXConservadores | http://twitter.com/search?q=%23ProgressistasXConservadores      | NA | %23ProgressistasXConservadores      |     NA | Rio de Janeiro | 455825 | 2019-06-04 17:30:47 | 2019-06-04 17:27:19 |\n| #ChoiceSummerMovie           | http://twitter.com/search?q=%23ChoiceSummerMovie                | NA | %23ChoiceSummerMovie                |     NA | Rio de Janeiro | 455825 | 2019-06-04 17:30:47 | 2019-06-04 17:27:19 |\n| #Apollo50th                  | http://twitter.com/search?q=%23Apollo50th                       | NA | %23Apollo50th                       |  17974 | Rio de Janeiro | 455825 | 2019-06-04 17:30:47 | 2019-06-04 17:27:19 |\n| #FLAxCOR                     | http://twitter.com/search?q=%23FLAxCOR                          | NA | %23FLAxCOR                          |     NA | Rio de Janeiro | 455825 | 2019-06-04 17:30:47 | 2019-06-04 17:27:19 |\n| #PLN4AprojaJa                | http://twitter.com/search?q=%23PLN4AprojaJa                     | NA | %23PLN4AprojaJa                     |     NA | Rio de Janeiro | 455825 | 2019-06-04 17:30:47 | 2019-06-04 17:27:19 |\n\n",
            "text/html": [
              "<table>\n",
              "<caption>A tibble: 50 × 9</caption>\n",
              "<thead>\n",
              "\t<tr><th scope=col>trend</th><th scope=col>url</th><th scope=col>promoted_content</th><th scope=col>query</th><th scope=col>tweet_volume</th><th scope=col>place</th><th scope=col>woeid</th><th scope=col>as_of</th><th scope=col>created_at</th></tr>\n",
              "\t<tr><th scope=col>&lt;chr&gt;</th><th scope=col>&lt;chr&gt;</th><th scope=col>&lt;lgl&gt;</th><th scope=col>&lt;chr&gt;</th><th scope=col>&lt;int&gt;</th><th scope=col>&lt;chr&gt;</th><th scope=col>&lt;int&gt;</th><th scope=col>&lt;dttm&gt;</th><th scope=col>&lt;dttm&gt;</th></tr>\n",
              "</thead>\n",
              "<tbody>\n",
              "\t<tr><td>Neymar                      </td><td>http://twitter.com/search?q=Neymar                             </td><td>NA</td><td>Neymar                             </td><td>499676</td><td>Rio de Janeiro</td><td>455825</td><td>2019-06-04 17:30:47</td><td>2019-06-04 17:27:19</td></tr>\n",
              "\t<tr><td>Flamengo                    </td><td>http://twitter.com/search?q=Flamengo                           </td><td>NA</td><td>Flamengo                           </td><td>108117</td><td>Rio de Janeiro</td><td>455825</td><td>2019-06-04 17:30:47</td><td>2019-06-04 17:27:19</td></tr>\n",
              "\t<tr><td>#THISNIGHTbyJIN             </td><td>http://twitter.com/search?q=%23THISNIGHTbyJIN                  </td><td>NA</td><td>%23THISNIGHTbyJIN                  </td><td>564352</td><td>Rio de Janeiro</td><td>455825</td><td>2019-06-04 17:30:47</td><td>2019-06-04 17:27:19</td></tr>\n",
              "\t<tr><td>#ByJinIsComing              </td><td>http://twitter.com/search?q=%23ByJinIsComing                   </td><td>NA</td><td>%23ByJinIsComing                   </td><td>639061</td><td>Rio de Janeiro</td><td>455825</td><td>2019-06-04 17:30:47</td><td>2019-06-04 17:27:19</td></tr>\n",
              "\t<tr><td>#QueReformaÉEssa            </td><td>http://twitter.com/search?q=%23QueReforma%C3%89Essa            </td><td>NA</td><td>%23QueReforma%C3%89Essa            </td><td> 14525</td><td>Rio de Janeiro</td><td>455825</td><td>2019-06-04 17:30:47</td><td>2019-06-04 17:27:19</td></tr>\n",
              "\t<tr><td>#TonightByJinOutNow         </td><td>http://twitter.com/search?q=%23TonightByJinOutNow              </td><td>NA</td><td>%23TonightByJinOutNow              </td><td>184774</td><td>Rio de Janeiro</td><td>455825</td><td>2019-06-04 17:30:47</td><td>2019-06-04 17:27:19</td></tr>\n",
              "\t<tr><td>CNN Brasil                  </td><td>http://twitter.com/search?q=%22CNN+Brasil%22                   </td><td>NA</td><td>%22CNN+Brasil%22                   </td><td>    NA</td><td>Rio de Janeiro</td><td>455825</td><td>2019-06-04 17:30:47</td><td>2019-06-04 17:27:19</td></tr>\n",
              "\t<tr><td>#이밤ByJin                  </td><td>http://twitter.com/search?q=%23%EC%9D%B4%EB%B0%A4ByJin         </td><td>NA</td><td>%23%EC%9D%B4%EB%B0%A4ByJin         </td><td>334830</td><td>Rio de Janeiro</td><td>455825</td><td>2019-06-04 17:30:47</td><td>2019-06-04 17:27:19</td></tr>\n",
              "\t<tr><td>Kratos                      </td><td>http://twitter.com/search?q=Kratos                             </td><td>NA</td><td>Kratos                             </td><td>    NA</td><td>Rio de Janeiro</td><td>455825</td><td>2019-06-04 17:30:47</td><td>2019-06-04 17:27:19</td></tr>\n",
              "\t<tr><td>William Waack               </td><td>http://twitter.com/search?q=%22William+Waack%22                </td><td>NA</td><td>%22William+Waack%22                </td><td>    NA</td><td>Rio de Janeiro</td><td>455825</td><td>2019-06-04 17:30:47</td><td>2019-06-04 17:27:19</td></tr>\n",
              "\t<tr><td>NOW UNITED                  </td><td>http://twitter.com/search?q=%22NOW+UNITED%22                   </td><td>NA</td><td>%22NOW+UNITED%22                   </td><td> 43714</td><td>Rio de Janeiro</td><td>455825</td><td>2019-06-04 17:30:47</td><td>2019-06-04 17:27:19</td></tr>\n",
              "\t<tr><td>Kim Seokjin                 </td><td>http://twitter.com/search?q=%22Kim+Seokjin%22                  </td><td>NA</td><td>%22Kim+Seokjin%22                  </td><td>111934</td><td>Rio de Janeiro</td><td>455825</td><td>2019-06-04 17:30:47</td><td>2019-06-04 17:27:19</td></tr>\n",
              "\t<tr><td>JIN of BTS de BTS           </td><td>http://twitter.com/search?q=%22JIN+of+BTS+de+BTS%22            </td><td>NA</td><td>%22JIN+of+BTS+de+BTS%22            </td><td>    NA</td><td>Rio de Janeiro</td><td>455825</td><td>2019-06-04 17:30:47</td><td>2019-06-04 17:27:19</td></tr>\n",
              "\t<tr><td>FEDAL                       </td><td>http://twitter.com/search?q=FEDAL                              </td><td>NA</td><td>FEDAL                              </td><td>    NA</td><td>Rio de Janeiro</td><td>455825</td><td>2019-06-04 17:30:47</td><td>2019-06-04 17:27:19</td></tr>\n",
              "\t<tr><td>Federer x Nadal             </td><td>http://twitter.com/search?q=%22Federer+x+Nadal%22              </td><td>NA</td><td>%22Federer+x+Nadal%22              </td><td>    NA</td><td>Rio de Janeiro</td><td>455825</td><td>2019-06-04 17:30:47</td><td>2019-06-04 17:27:19</td></tr>\n",
              "\t<tr><td>Presidente da CBF           </td><td>http://twitter.com/search?q=%22Presidente+da+CBF%22            </td><td>NA</td><td>%22Presidente+da+CBF%22            </td><td>    NA</td><td>Rio de Janeiro</td><td>455825</td><td>2019-06-04 17:30:47</td><td>2019-06-04 17:27:19</td></tr>\n",
              "\t<tr><td>Obrigada Jin                </td><td>http://twitter.com/search?q=%22Obrigada+Jin%22                 </td><td>NA</td><td>%22Obrigada+Jin%22                 </td><td>    NA</td><td>Rio de Janeiro</td><td>455825</td><td>2019-06-04 17:30:47</td><td>2019-06-04 17:27:19</td></tr>\n",
              "\t<tr><td>Jovic                       </td><td>http://twitter.com/search?q=Jovic                              </td><td>NA</td><td>Jovic                              </td><td>154588</td><td>Rio de Janeiro</td><td>455825</td><td>2019-06-04 17:30:47</td><td>2019-06-04 17:27:19</td></tr>\n",
              "\t<tr><td>Moonchild by RM             </td><td>http://twitter.com/search?q=%22Moonchild+by+RM%22              </td><td>NA</td><td>%22Moonchild+by+RM%22              </td><td> 35383</td><td>Rio de Janeiro</td><td>455825</td><td>2019-06-04 17:30:47</td><td>2019-06-04 17:27:19</td></tr>\n",
              "\t<tr><td>VOCAL DA NAÇÃO              </td><td>http://twitter.com/search?q=%22VOCAL+DA+NA%C3%87%C3%83O%22     </td><td>NA</td><td>%22VOCAL+DA+NA%C3%87%C3%83O%22     </td><td>    NA</td><td>Rio de Janeiro</td><td>455825</td><td>2019-06-04 17:30:47</td><td>2019-06-04 17:27:19</td></tr>\n",
              "\t<tr><td>Transpetro                  </td><td>http://twitter.com/search?q=Transpetro                         </td><td>NA</td><td>Transpetro                         </td><td>    NA</td><td>Rio de Janeiro</td><td>455825</td><td>2019-06-04 17:30:47</td><td>2019-06-04 17:27:19</td></tr>\n",
              "\t<tr><td>Hypermarcas                 </td><td>http://twitter.com/search?q=Hypermarcas                        </td><td>NA</td><td>Hypermarcas                        </td><td>    NA</td><td>Rio de Janeiro</td><td>455825</td><td>2019-06-04 17:30:47</td><td>2019-06-04 17:27:19</td></tr>\n",
              "\t<tr><td>Romero Jucá                 </td><td>http://twitter.com/search?q=%22Romero+Juc%C3%A1%22             </td><td>NA</td><td>%22Romero+Juc%C3%A1%22             </td><td>    NA</td><td>Rio de Janeiro</td><td>455825</td><td>2019-06-04 17:30:47</td><td>2019-06-04 17:27:19</td></tr>\n",
              "\t<tr><td>Previdência de Bolsonaro    </td><td>http://twitter.com/search?q=%22Previd%C3%AAncia+de+Bolsonaro%22</td><td>NA</td><td>%22Previd%C3%AAncia+de+Bolsonaro%22</td><td>    NA</td><td>Rio de Janeiro</td><td>455825</td><td>2019-06-04 17:30:47</td><td>2019-06-04 17:27:19</td></tr>\n",
              "\t<tr><td>tirei tu                    </td><td>http://twitter.com/search?q=%22tirei+tu%22                     </td><td>NA</td><td>%22tirei+tu%22                     </td><td>    NA</td><td>Rio de Janeiro</td><td>455825</td><td>2019-06-04 17:30:47</td><td>2019-06-04 17:27:19</td></tr>\n",
              "\t<tr><td>Grécia Antiga               </td><td>http://twitter.com/search?q=%22Gr%C3%A9cia+Antiga%22           </td><td>NA</td><td>%22Gr%C3%A9cia+Antiga%22           </td><td>    NA</td><td>Rio de Janeiro</td><td>455825</td><td>2019-06-04 17:30:47</td><td>2019-06-04 17:27:19</td></tr>\n",
              "\t<tr><td>Skylab                      </td><td>http://twitter.com/search?q=Skylab                             </td><td>NA</td><td>Skylab                             </td><td>    NA</td><td>Rio de Janeiro</td><td>455825</td><td>2019-06-04 17:30:47</td><td>2019-06-04 17:27:19</td></tr>\n",
              "\t<tr><td>Everton Felipe              </td><td>http://twitter.com/search?q=%22Everton+Felipe%22               </td><td>NA</td><td>%22Everton+Felipe%22               </td><td>    NA</td><td>Rio de Janeiro</td><td>455825</td><td>2019-06-04 17:30:47</td><td>2019-06-04 17:27:19</td></tr>\n",
              "\t<tr><td>Riascos                     </td><td>http://twitter.com/search?q=Riascos                            </td><td>NA</td><td>Riascos                            </td><td>    NA</td><td>Rio de Janeiro</td><td>455825</td><td>2019-06-04 17:30:47</td><td>2019-06-04 17:27:19</td></tr>\n",
              "\t<tr><td>#EuFiqueiSabendo            </td><td>http://twitter.com/search?q=%23EuFiqueiSabendo                 </td><td>NA</td><td>%23EuFiqueiSabendo                 </td><td>    NA</td><td>Rio de Janeiro</td><td>455825</td><td>2019-06-04 17:30:47</td><td>2019-06-04 17:27:19</td></tr>\n",
              "\t<tr><td>#NASAMoonTunes              </td><td>http://twitter.com/search?q=%23NASAMoonTunes                   </td><td>NA</td><td>%23NASAMoonTunes                   </td><td> 81210</td><td>Rio de Janeiro</td><td>455825</td><td>2019-06-04 17:30:47</td><td>2019-06-04 17:27:19</td></tr>\n",
              "\t<tr><td>#VergonhaCBF                </td><td>http://twitter.com/search?q=%23VergonhaCBF                     </td><td>NA</td><td>%23VergonhaCBF                     </td><td>    NA</td><td>Rio de Janeiro</td><td>455825</td><td>2019-06-04 17:30:47</td><td>2019-06-04 17:27:19</td></tr>\n",
              "\t<tr><td>#SenadoAprovePL3261         </td><td>http://twitter.com/search?q=%23SenadoAprovePL3261              </td><td>NA</td><td>%23SenadoAprovePL3261              </td><td>    NA</td><td>Rio de Janeiro</td><td>455825</td><td>2019-06-04 17:30:47</td><td>2019-06-04 17:27:19</td></tr>\n",
              "\t<tr><td>#TercaDetremuraSDV          </td><td>http://twitter.com/search?q=%23TercaDetremuraSDV               </td><td>NA</td><td>%23TercaDetremuraSDV               </td><td> 13574</td><td>Rio de Janeiro</td><td>455825</td><td>2019-06-04 17:30:47</td><td>2019-06-04 17:27:19</td></tr>\n",
              "\t<tr><td>#SelecaoSportv              </td><td>http://twitter.com/search?q=%23SelecaoSportv                   </td><td>NA</td><td>%23SelecaoSportv                   </td><td>    NA</td><td>Rio de Janeiro</td><td>455825</td><td>2019-06-04 17:30:47</td><td>2019-06-04 17:27:19</td></tr>\n",
              "\t<tr><td>#BBdebate                   </td><td>http://twitter.com/search?q=%23BBdebate                        </td><td>NA</td><td>%23BBdebate                        </td><td>    NA</td><td>Rio de Janeiro</td><td>455825</td><td>2019-06-04 17:30:47</td><td>2019-06-04 17:27:19</td></tr>\n",
              "\t<tr><td>#tocomeboli                 </td><td>http://twitter.com/search?q=%23tocomeboli                      </td><td>NA</td><td>%23tocomeboli                      </td><td>    NA</td><td>Rio de Janeiro</td><td>455825</td><td>2019-06-04 17:30:47</td><td>2019-06-04 17:27:19</td></tr>\n",
              "\t<tr><td>#fsradiobrasil              </td><td>http://twitter.com/search?q=%23fsradiobrasil                   </td><td>NA</td><td>%23fsradiobrasil                   </td><td>    NA</td><td>Rio de Janeiro</td><td>455825</td><td>2019-06-04 17:30:47</td><td>2019-06-04 17:27:19</td></tr>\n",
              "\t<tr><td>#ByJinIsHere                </td><td>http://twitter.com/search?q=%23ByJinIsHere                     </td><td>NA</td><td>%23ByJinIsHere                     </td><td>    NA</td><td>Rio de Janeiro</td><td>455825</td><td>2019-06-04 17:30:47</td><td>2019-06-04 17:27:19</td></tr>\n",
              "\t<tr><td>#JaEhMetadeDoAnoEEu         </td><td>http://twitter.com/search?q=%23JaEhMetadeDoAnoEEu              </td><td>NA</td><td>%23JaEhMetadeDoAnoEEu              </td><td>    NA</td><td>Rio de Janeiro</td><td>455825</td><td>2019-06-04 17:30:47</td><td>2019-06-04 17:27:19</td></tr>\n",
              "\t<tr><td>#StrangerThings             </td><td>http://twitter.com/search?q=%23StrangerThings                  </td><td>NA</td><td>%23StrangerThings                  </td><td>    NA</td><td>Rio de Janeiro</td><td>455825</td><td>2019-06-04 17:30:47</td><td>2019-06-04 17:27:19</td></tr>\n",
              "\t<tr><td>#lucamanobanday             </td><td>http://twitter.com/search?q=%23lucamanobanday                  </td><td>NA</td><td>%23lucamanobanday                  </td><td> 29611</td><td>Rio de Janeiro</td><td>455825</td><td>2019-06-04 17:30:47</td><td>2019-06-04 17:27:19</td></tr>\n",
              "\t<tr><td>#Número1doFutebolÉ          </td><td>http://twitter.com/search?q=%23N%C3%BAmero1doFutebol%C3%89     </td><td>NA</td><td>%23N%C3%BAmero1doFutebol%C3%89     </td><td>    NA</td><td>Rio de Janeiro</td><td>455825</td><td>2019-06-04 17:30:47</td><td>2019-06-04 17:27:19</td></tr>\n",
              "\t<tr><td>#ObrigadoSenadoBrasileiro   </td><td>http://twitter.com/search?q=%23ObrigadoSenadoBrasileiro        </td><td>NA</td><td>%23ObrigadoSenadoBrasileiro        </td><td>    NA</td><td>Rio de Janeiro</td><td>455825</td><td>2019-06-04 17:30:47</td><td>2019-06-04 17:27:19</td></tr>\n",
              "\t<tr><td>#ThankYouJin                </td><td>http://twitter.com/search?q=%23ThankYouJin                     </td><td>NA</td><td>%23ThankYouJin                     </td><td>    NA</td><td>Rio de Janeiro</td><td>455825</td><td>2019-06-04 17:30:47</td><td>2019-06-04 17:27:19</td></tr>\n",
              "\t<tr><td>#ProgressistasXConservadores</td><td>http://twitter.com/search?q=%23ProgressistasXConservadores     </td><td>NA</td><td>%23ProgressistasXConservadores     </td><td>    NA</td><td>Rio de Janeiro</td><td>455825</td><td>2019-06-04 17:30:47</td><td>2019-06-04 17:27:19</td></tr>\n",
              "\t<tr><td>#ChoiceSummerMovie          </td><td>http://twitter.com/search?q=%23ChoiceSummerMovie               </td><td>NA</td><td>%23ChoiceSummerMovie               </td><td>    NA</td><td>Rio de Janeiro</td><td>455825</td><td>2019-06-04 17:30:47</td><td>2019-06-04 17:27:19</td></tr>\n",
              "\t<tr><td>#Apollo50th                 </td><td>http://twitter.com/search?q=%23Apollo50th                      </td><td>NA</td><td>%23Apollo50th                      </td><td> 17974</td><td>Rio de Janeiro</td><td>455825</td><td>2019-06-04 17:30:47</td><td>2019-06-04 17:27:19</td></tr>\n",
              "\t<tr><td>#FLAxCOR                    </td><td>http://twitter.com/search?q=%23FLAxCOR                         </td><td>NA</td><td>%23FLAxCOR                         </td><td>    NA</td><td>Rio de Janeiro</td><td>455825</td><td>2019-06-04 17:30:47</td><td>2019-06-04 17:27:19</td></tr>\n",
              "\t<tr><td>#PLN4AprojaJa               </td><td>http://twitter.com/search?q=%23PLN4AprojaJa                    </td><td>NA</td><td>%23PLN4AprojaJa                    </td><td>    NA</td><td>Rio de Janeiro</td><td>455825</td><td>2019-06-04 17:30:47</td><td>2019-06-04 17:27:19</td></tr>\n",
              "</tbody>\n",
              "</table>\n"
            ]
          },
          "metadata": {
            "tags": []
          }
        }
      ]
    },
    {
      "cell_type": "markdown",
      "metadata": {
        "id": "pWE7LZSzYvLV",
        "colab_type": "text"
      },
      "source": [
        "### Explorando a biblioteca\n",
        "Verifique quais outras funções existem na biblioteca. Recupere trends do Brasil, do Rio de Janeiro, recupere tweets procurando por hashtags, etc\n",
        "\n",
        "https://rtweet.info/reference/index.html"
      ]
    },
    {
      "cell_type": "code",
      "metadata": {
        "id": "auNA4OZiZCgO",
        "colab_type": "code",
        "colab": {}
      },
      "source": [
        "### Escreva o código aqui"
      ],
      "execution_count": 0,
      "outputs": []
    },
    {
      "cell_type": "markdown",
      "metadata": {
        "id": "K9ETcwivjH7Y",
        "colab_type": "text"
      },
      "source": [
        "### Salvando nossos tweets para mais tarde"
      ]
    },
    {
      "cell_type": "code",
      "metadata": {
        "id": "Hvmj_zI-jHFK",
        "colab_type": "code",
        "colab": {}
      },
      "source": [
        "save_as_csv(trends, 'trends.csv', prepend_ids = TRUE, na = \"\",\n",
        "  fileEncoding = \"UTF-8\")"
      ],
      "execution_count": 0,
      "outputs": []
    }
  ]
}