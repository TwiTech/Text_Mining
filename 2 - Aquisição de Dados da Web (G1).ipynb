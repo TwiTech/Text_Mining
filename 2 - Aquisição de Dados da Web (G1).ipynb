{
  "nbformat": 4,
  "nbformat_minor": 0,
  "metadata": {
    "colab": {
      "name": "2 - Aquisição de Dados da Web (G1)",
      "version": "0.3.2",
      "provenance": [],
      "toc_visible": true,
      "include_colab_link": true
    },
    "language_info": {
      "codemirror_mode": "r",
      "file_extension": ".r",
      "mimetype": "text/x-r-source",
      "name": "R",
      "pygments_lexer": "r",
      "version": "3.3.1"
    },
    "kernelspec": {
      "display_name": "R",
      "language": "R",
      "name": "ir"
    }
  },
  "cells": [
    {
      "cell_type": "markdown",
      "metadata": {
        "id": "view-in-github",
        "colab_type": "text"
      },
      "source": [
        "<a href=\"https://colab.research.google.com/github/lauramoraes/Text_Mining/blob/master/2%20-%20Aquisi%C3%A7%C3%A3o%20de%20Dados%20da%20Web%20(G1).ipynb\" target=\"_parent\"><img src=\"https://colab.research.google.com/assets/colab-badge.svg\" alt=\"Open In Colab\"/></a>"
      ]
    },
    {
      "cell_type": "markdown",
      "metadata": {
        "id": "wn9t4aUDQH2z",
        "colab_type": "text"
      },
      "source": [
        "# Aquisição de Dados\n",
        "\n",
        "O primeiro processo da Mineração de Texto, é garantir que temos os dados necessários para análise. A mineração de texto é muito dinâmica e provavelmente temos que montar um **fluxo contínuo** de aquisição dos dados necessário. Neste notebook vamos exemplificar como recuperar dados de uma página HTML e estruturá-los."
      ]
    },
    {
      "cell_type": "markdown",
      "metadata": {
        "id": "UixQ-Y9VKjwy",
        "colab_type": "text"
      },
      "source": [
        "### Importando bibliotecas a serem usadas"
      ]
    },
    {
      "cell_type": "code",
      "metadata": {
        "id": "SvGJ9AF0OH45",
        "colab_type": "code",
        "outputId": "9d6db8f2-b4ec-4015-ea84-da9cafc2b130",
        "colab": {
          "base_uri": "https://localhost:8080/",
          "height": 52
        }
      },
      "source": [
        "install.packages('rvest')"
      ],
      "execution_count": 0,
      "outputs": [
        {
          "output_type": "stream",
          "text": [
            "Installing package into ‘/usr/local/lib/R/site-library’\n",
            "(as ‘lib’ is unspecified)\n"
          ],
          "name": "stderr"
        }
      ]
    },
    {
      "cell_type": "code",
      "metadata": {
        "id": "Unsb8k4MKWgb",
        "colab_type": "code",
        "colab": {}
      },
      "source": [
        "suppressMessages(suppressWarnings(library(rvest)))\n",
        "suppressMessages(suppressWarnings(library(dplyr)))\n",
        "suppressMessages(suppressWarnings(library('ggplot2')))"
      ],
      "execution_count": 0,
      "outputs": []
    },
    {
      "cell_type": "markdown",
      "metadata": {
        "id": "J2pa0m1z05Om",
        "colab_type": "text"
      },
      "source": [
        "### Download dos dados\n",
        "\n",
        "### 1) Escolha uma URL para fazer download dos dados"
      ]
    },
    {
      "cell_type": "code",
      "metadata": {
        "id": "Hq3wcLq-axpx",
        "colab_type": "code",
        "colab": {}
      },
      "source": [
        "#Specifying the url for desired website to be scraped\n",
        "url <- 'https://g1.globo.com/'"
      ],
      "execution_count": 0,
      "outputs": []
    },
    {
      "cell_type": "code",
      "metadata": {
        "id": "Cnbxwzj6rESP",
        "colab_type": "code",
        "colab": {}
      },
      "source": [
        "#Reading the HTML code from the website\n",
        "webpage <- read_html(url)"
      ],
      "execution_count": 0,
      "outputs": []
    },
    {
      "cell_type": "markdown",
      "metadata": {
        "id": "DwNngnbNrT8k",
        "colab_type": "text"
      },
      "source": [
        "###  2) Escreva quais informações você gostaria de estruturar:"
      ]
    },
    {
      "cell_type": "markdown",
      "metadata": {
        "id": "LwwLw1OxwacO",
        "colab_type": "text"
      },
      "source": [
        "1. Título\n",
        "2. Subtítulo\n",
        "3. Link"
      ]
    },
    {
      "cell_type": "markdown",
      "metadata": {
        "id": "FHfHkw6cwlHE",
        "colab_type": "text"
      },
      "source": [
        "### 3) Escreva o código  para recuperar essas informações a partir da página especificada"
      ]
    },
    {
      "cell_type": "markdown",
      "metadata": {
        "id": "6_gykeJayWVX",
        "colab_type": "text"
      },
      "source": [
        "Título"
      ]
    },
    {
      "cell_type": "code",
      "metadata": {
        "id": "f_Tv9F8owqT0",
        "colab_type": "code",
        "outputId": "8e6da886-3a61-4037-d2a6-4f8693fefe06",
        "colab": {
          "base_uri": "https://localhost:8080/",
          "height": 219
        }
      },
      "source": [
        "#Using CSS selectors to scrap the rankings section\n",
        "title_data_html <- html_nodes(webpage,'.feed-post-link')\n",
        "\n",
        "#Converting the title data to text\n",
        "title_data <- html_text(title_data_html)\n",
        "\n",
        "title_data"
      ],
      "execution_count": 0,
      "outputs": [
        {
          "output_type": "display_data",
          "data": {
            "text/plain": [
              " [1] \"Projeto de Bolsonaro eleva de 20 para 40 o limite de pontos na carteira de motorista\"\n",
              " [2] \"Entenda como será o pente-fino no INSS aprovado pelo Congresso\"                      \n",
              " [3] \"Governo envia a Alemanha e Noruega proposta para mudar Fundo Amazônia \"              \n",
              " [4] \"Ministro diz que Minha Casa Minha Vida será dividido em 2 programas\"                 \n",
              " [5] \"Governo tira do ar site com dados sobre uso de drogas no Brasil\"                     \n",
              " [6] \"Ex-advogado de mulher que acusa Neymar nega tentativa de extorsão\"                   \n",
              " [7] \"Presidente da CBF garante Neymar na Copa América: 'Total confiança'\"                 \n",
              " [8] \"Maioria no STJ vota para mandar João de Deus de volta à cadeia\"                      \n",
              " [9] \"Cidade de Contagem tem 21 casos suspeitos de febre maculosa\"                         \n",
              "[10] \"Pernambuco registra surto de doença de Chagas com 27 casos\"                          "
            ],
            "text/latex": "\\begin{enumerate*}\n\\item 'Projeto de Bolsonaro eleva de 20 para 40 o limite de pontos na carteira de motorista'\n\\item 'Entenda como será o pente-fino no INSS aprovado pelo Congresso'\n\\item 'Governo envia a Alemanha e Noruega proposta para mudar Fundo Amazônia '\n\\item 'Ministro diz que Minha Casa Minha Vida será dividido em 2 programas'\n\\item 'Governo tira do ar site com dados sobre uso de drogas no Brasil'\n\\item 'Ex-advogado de mulher que acusa Neymar nega tentativa de extorsão'\n\\item 'Presidente da CBF garante Neymar na Copa América: \\textbackslash{}'Total confiança\\textbackslash{}''\n\\item 'Maioria no STJ vota para mandar João de Deus de volta à cadeia'\n\\item 'Cidade de Contagem tem 21 casos suspeitos de febre maculosa'\n\\item 'Pernambuco registra surto de doença de Chagas com 27 casos'\n\\end{enumerate*}\n",
            "text/markdown": "1. 'Projeto de Bolsonaro eleva de 20 para 40 o limite de pontos na carteira de motorista'\n2. 'Entenda como será o pente-fino no INSS aprovado pelo Congresso'\n3. 'Governo envia a Alemanha e Noruega proposta para mudar Fundo Amazônia '\n4. 'Ministro diz que Minha Casa Minha Vida será dividido em 2 programas'\n5. 'Governo tira do ar site com dados sobre uso de drogas no Brasil'\n6. 'Ex-advogado de mulher que acusa Neymar nega tentativa de extorsão'\n7. 'Presidente da CBF garante Neymar na Copa América: \\'Total confiança\\''\n8. 'Maioria no STJ vota para mandar João de Deus de volta à cadeia'\n9. 'Cidade de Contagem tem 21 casos suspeitos de febre maculosa'\n10. 'Pernambuco registra surto de doença de Chagas com 27 casos'\n\n\n",
            "text/html": [
              "<ol class=list-inline>\n",
              "\t<li>'Projeto de Bolsonaro eleva de 20 para 40 o limite de pontos na carteira de motorista'</li>\n",
              "\t<li>'Entenda como será o pente-fino no INSS aprovado pelo Congresso'</li>\n",
              "\t<li>'Governo envia a Alemanha e Noruega proposta para mudar Fundo Amazônia '</li>\n",
              "\t<li>'Ministro diz que Minha Casa Minha Vida será dividido em 2 programas'</li>\n",
              "\t<li>'Governo tira do ar site com dados sobre uso de drogas no Brasil'</li>\n",
              "\t<li>'Ex-advogado de mulher que acusa Neymar nega tentativa de extorsão'</li>\n",
              "\t<li>'Presidente da CBF garante Neymar na Copa América: \\'Total confiança\\''</li>\n",
              "\t<li>'Maioria no STJ vota para mandar João de Deus de volta à cadeia'</li>\n",
              "\t<li>'Cidade de Contagem tem 21 casos suspeitos de febre maculosa'</li>\n",
              "\t<li>'Pernambuco registra surto de doença de Chagas com 27 casos'</li>\n",
              "</ol>\n"
            ]
          },
          "metadata": {
            "tags": []
          }
        }
      ]
    },
    {
      "cell_type": "markdown",
      "metadata": {
        "id": "fA3qyv4FyX2A",
        "colab_type": "text"
      },
      "source": [
        "Subtitulo"
      ]
    },
    {
      "cell_type": "code",
      "metadata": {
        "id": "EVZDCXuOyZvk",
        "colab_type": "code",
        "outputId": "6e0a1773-6ba1-40eb-e469-8a34bdea4cc7",
        "colab": {
          "base_uri": "https://localhost:8080/",
          "height": 184
        }
      },
      "source": [
        "#Using CSS selectors to scrap the rankings section\n",
        "subtitle_data_html <- html_nodes(webpage,'.feed-post-body-resumo')\n",
        "\n",
        "#Converting the title data to text\n",
        "subtitle_data <- html_text(subtitle_data_html)\n",
        "\n",
        "subtitle_data"
      ],
      "execution_count": 0,
      "outputs": [
        {
          "output_type": "display_data",
          "data": {
            "text/plain": [
              "[1] \"Presidente foi à Câmara entregar proposta. Outras mudanças são: tempo maior de validade da CNH e fim da exigência de exame toxicológico para motoristas profissionais.\"\n",
              "[2] \"Medida vai estabelecer novas regras para benefícios como aposentadoria rural e salários-maternidade. \"                                                                 \n",
              "[3] \"Maior parte das doações vem dos 2 países. Ministério quer usar fundo para indenizar proprietários rurais.\"                                                             \n",
              "[4] \"Um deles será para famílias de baixíssima renda, com 100% de financiamento.\"                                                                                           \n",
              "[5] \"Ministério da Cidadania diz que página está sendo 'migrada e atualizada'.\"                                                                                             \n",
              "[6] \"Defesa do jogador relatou pedido de um 'cala boca' durante reunião em SP.\"                                                                                             \n",
              "[7] \"Réu por crimes sexuais, médium está internado e pedia para ficar preso em casa.\"                                                                                       \n",
              "[8] \"Todos os pacientes fazem parte de grupo que esteve em retiro religioso.\"                                                                                               "
            ],
            "text/latex": "\\begin{enumerate*}\n\\item 'Presidente foi à Câmara entregar proposta. Outras mudanças são: tempo maior de validade da CNH e fim da exigência de exame toxicológico para motoristas profissionais.'\n\\item 'Medida vai estabelecer novas regras para benefícios como aposentadoria rural e salários-maternidade. '\n\\item 'Maior parte das doações vem dos 2 países. Ministério quer usar fundo para indenizar proprietários rurais.'\n\\item 'Um deles será para famílias de baixíssima renda, com 100\\% de financiamento.'\n\\item 'Ministério da Cidadania diz que página está sendo \\textbackslash{}'migrada e atualizada\\textbackslash{}'.'\n\\item 'Defesa do jogador relatou pedido de um \\textbackslash{}'cala boca\\textbackslash{}' durante reunião em SP.'\n\\item 'Réu por crimes sexuais, médium está internado e pedia para ficar preso em casa.'\n\\item 'Todos os pacientes fazem parte de grupo que esteve em retiro religioso.'\n\\end{enumerate*}\n",
            "text/markdown": "1. 'Presidente foi à Câmara entregar proposta. Outras mudanças são: tempo maior de validade da CNH e fim da exigência de exame toxicológico para motoristas profissionais.'\n2. 'Medida vai estabelecer novas regras para benefícios como aposentadoria rural e salários-maternidade. '\n3. 'Maior parte das doações vem dos 2 países. Ministério quer usar fundo para indenizar proprietários rurais.'\n4. 'Um deles será para famílias de baixíssima renda, com 100% de financiamento.'\n5. 'Ministério da Cidadania diz que página está sendo \\'migrada e atualizada\\'.'\n6. 'Defesa do jogador relatou pedido de um \\'cala boca\\' durante reunião em SP.'\n7. 'Réu por crimes sexuais, médium está internado e pedia para ficar preso em casa.'\n8. 'Todos os pacientes fazem parte de grupo que esteve em retiro religioso.'\n\n\n",
            "text/html": [
              "<ol class=list-inline>\n",
              "\t<li>'Presidente foi à Câmara entregar proposta. Outras mudanças são: tempo maior de validade da CNH e fim da exigência de exame toxicológico para motoristas profissionais.'</li>\n",
              "\t<li>'Medida vai estabelecer novas regras para benefícios como aposentadoria rural e salários-maternidade. '</li>\n",
              "\t<li>'Maior parte das doações vem dos 2 países. Ministério quer usar fundo para indenizar proprietários rurais.'</li>\n",
              "\t<li>'Um deles será para famílias de baixíssima renda, com 100% de financiamento.'</li>\n",
              "\t<li>'Ministério da Cidadania diz que página está sendo \\'migrada e atualizada\\'.'</li>\n",
              "\t<li>'Defesa do jogador relatou pedido de um \\'cala boca\\' durante reunião em SP.'</li>\n",
              "\t<li>'Réu por crimes sexuais, médium está internado e pedia para ficar preso em casa.'</li>\n",
              "\t<li>'Todos os pacientes fazem parte de grupo que esteve em retiro religioso.'</li>\n",
              "</ol>\n"
            ]
          },
          "metadata": {
            "tags": []
          }
        }
      ]
    },
    {
      "cell_type": "markdown",
      "metadata": {
        "id": "icyiQmzT04RM",
        "colab_type": "text"
      },
      "source": [
        "Oh oh! Algumas notícias não possuem subtitulo. Vamos verificar e adicionar vazio nelas."
      ]
    },
    {
      "cell_type": "code",
      "metadata": {
        "id": "JY5sNTtm1AQt",
        "colab_type": "code",
        "outputId": "0af727a2-bfe0-4fc3-a490-06952420094f",
        "colab": {
          "base_uri": "https://localhost:8080/",
          "height": 219
        }
      },
      "source": [
        "for (i in c(7,9)){\n",
        "  a<-subtitle_data[1:(i-1)]\n",
        "  b<-subtitle_data[i:length(subtitle_data)]\n",
        "  subtitle_data<-append(a,list(\"NA\"))\n",
        "  subtitle_data<-append(subtitle_data,b)\n",
        "}\n",
        "\n",
        "subtitle_data <- as.character(subtitle_data)\n",
        "subtitle_data"
      ],
      "execution_count": 0,
      "outputs": [
        {
          "output_type": "display_data",
          "data": {
            "text/plain": [
              " [1] \"Presidente foi à Câmara entregar proposta. Outras mudanças são: tempo maior de validade da CNH e fim da exigência de exame toxicológico para motoristas profissionais.\"\n",
              " [2] \"Medida vai estabelecer novas regras para benefícios como aposentadoria rural e salários-maternidade. \"                                                                 \n",
              " [3] \"Maior parte das doações vem dos 2 países. Ministério quer usar fundo para indenizar proprietários rurais.\"                                                             \n",
              " [4] \"Um deles será para famílias de baixíssima renda, com 100% de financiamento.\"                                                                                           \n",
              " [5] \"Ministério da Cidadania diz que página está sendo 'migrada e atualizada'.\"                                                                                             \n",
              " [6] \"Defesa do jogador relatou pedido de um 'cala boca' durante reunião em SP.\"                                                                                             \n",
              " [7] \"NA\"                                                                                                                                                                    \n",
              " [8] \"Réu por crimes sexuais, médium está internado e pedia para ficar preso em casa.\"                                                                                       \n",
              " [9] \"NA\"                                                                                                                                                                    \n",
              "[10] \"Todos os pacientes fazem parte de grupo que esteve em retiro religioso.\"                                                                                               "
            ],
            "text/latex": "\\begin{enumerate*}\n\\item 'Presidente foi à Câmara entregar proposta. Outras mudanças são: tempo maior de validade da CNH e fim da exigência de exame toxicológico para motoristas profissionais.'\n\\item 'Medida vai estabelecer novas regras para benefícios como aposentadoria rural e salários-maternidade. '\n\\item 'Maior parte das doações vem dos 2 países. Ministério quer usar fundo para indenizar proprietários rurais.'\n\\item 'Um deles será para famílias de baixíssima renda, com 100\\% de financiamento.'\n\\item 'Ministério da Cidadania diz que página está sendo \\textbackslash{}'migrada e atualizada\\textbackslash{}'.'\n\\item 'Defesa do jogador relatou pedido de um \\textbackslash{}'cala boca\\textbackslash{}' durante reunião em SP.'\n\\item 'NA'\n\\item 'Réu por crimes sexuais, médium está internado e pedia para ficar preso em casa.'\n\\item 'NA'\n\\item 'Todos os pacientes fazem parte de grupo que esteve em retiro religioso.'\n\\end{enumerate*}\n",
            "text/markdown": "1. 'Presidente foi à Câmara entregar proposta. Outras mudanças são: tempo maior de validade da CNH e fim da exigência de exame toxicológico para motoristas profissionais.'\n2. 'Medida vai estabelecer novas regras para benefícios como aposentadoria rural e salários-maternidade. '\n3. 'Maior parte das doações vem dos 2 países. Ministério quer usar fundo para indenizar proprietários rurais.'\n4. 'Um deles será para famílias de baixíssima renda, com 100% de financiamento.'\n5. 'Ministério da Cidadania diz que página está sendo \\'migrada e atualizada\\'.'\n6. 'Defesa do jogador relatou pedido de um \\'cala boca\\' durante reunião em SP.'\n7. 'NA'\n8. 'Réu por crimes sexuais, médium está internado e pedia para ficar preso em casa.'\n9. 'NA'\n10. 'Todos os pacientes fazem parte de grupo que esteve em retiro religioso.'\n\n\n",
            "text/html": [
              "<ol class=list-inline>\n",
              "\t<li>'Presidente foi à Câmara entregar proposta. Outras mudanças são: tempo maior de validade da CNH e fim da exigência de exame toxicológico para motoristas profissionais.'</li>\n",
              "\t<li>'Medida vai estabelecer novas regras para benefícios como aposentadoria rural e salários-maternidade. '</li>\n",
              "\t<li>'Maior parte das doações vem dos 2 países. Ministério quer usar fundo para indenizar proprietários rurais.'</li>\n",
              "\t<li>'Um deles será para famílias de baixíssima renda, com 100% de financiamento.'</li>\n",
              "\t<li>'Ministério da Cidadania diz que página está sendo \\'migrada e atualizada\\'.'</li>\n",
              "\t<li>'Defesa do jogador relatou pedido de um \\'cala boca\\' durante reunião em SP.'</li>\n",
              "\t<li>'NA'</li>\n",
              "\t<li>'Réu por crimes sexuais, médium está internado e pedia para ficar preso em casa.'</li>\n",
              "\t<li>'NA'</li>\n",
              "\t<li>'Todos os pacientes fazem parte de grupo que esteve em retiro religioso.'</li>\n",
              "</ol>\n"
            ]
          },
          "metadata": {
            "tags": []
          }
        }
      ]
    },
    {
      "cell_type": "markdown",
      "metadata": {
        "id": "1Nwo9g24zM6U",
        "colab_type": "text"
      },
      "source": [
        "Links"
      ]
    },
    {
      "cell_type": "code",
      "metadata": {
        "id": "rCZoFKcHzOZa",
        "colab_type": "code",
        "outputId": "6de33f45-10f2-41d6-cc78-a5958152b06a",
        "colab": {
          "base_uri": "https://localhost:8080/",
          "height": 219
        }
      },
      "source": [
        "link_data <- html_attr(title_data_html, 'href')\n",
        "link_data"
      ],
      "execution_count": 0,
      "outputs": [
        {
          "output_type": "display_data",
          "data": {
            "text/plain": [
              " [1] \"https://g1.globo.com/politica/noticia/2019/06/04/bolsonaro-chega-a-camara-para-entregar-projeto-que-muda-regras-da-cnh.ghtml\"                                 \n",
              " [2] \"https://g1.globo.com/economia/noticia/2019/06/04/entenda-como-sera-o-pente-fino-no-inss-aprovado-pelo-congresso.ghtml\"                                        \n",
              " [3] \"https://g1.globo.com/natureza/noticia/2019/06/04/governo-envia-para-embaixadas-da-alemanha-e-noruega-proposta-de-alteracao-do-fundo-amazonia.ghtml\"           \n",
              " [4] \"https://g1.globo.com/economia/noticia/2019/06/04/minha-casa-minha-vida-sera-dividido-em-dois-programas-habitacionais-diz-ministro.ghtml\"                      \n",
              " [5] \"https://g1.globo.com/ciencia-e-saude/noticia/2019/06/04/governo-tira-do-ar-site-com-levantamentos-nacionais-sobre-o-uso-de-drogas-no-brasil.ghtml\"            \n",
              " [6] \"https://g1.globo.com/sp/sao-paulo/noticia/2019/06/04/ex-advogado-de-mulher-que-acusa-neymar-nega-tentativa-de-extorsao-em-reuniao-com-defesa-do-jogador.ghtml\"\n",
              " [7] \"https://globoesporte.globo.com/futebol/selecao-brasileira/noticia/presidente-da-cbf-garante-neymar-na-copa-america-e-resume-temos-total-confianca-nele.ghtml\" \n",
              " [8] \"https://g1.globo.com/go/goias/noticia/2019/06/04/maioria-do-stj-vota-a-favor-de-mandar-joao-de-deus-de-volta-para-a-cadeia.ghtml\"                             \n",
              " [9] \"https://g1.globo.com/mg/minas-gerais/noticia/2019/06/04/sobe-para-21-o-numero-de-casos-suspeitos-de-febre-maculosa-em-contagem.ghtml\"                         \n",
              "[10] \"https://g1.globo.com/pe/pernambuco/noticia/2019/06/04/sobe-para-27-numero-de-pacientes-em-tratamento-devido-a-surto-agudo-de-doenca-de-chagas.ghtml\"          "
            ],
            "text/latex": "\\begin{enumerate*}\n\\item 'https://g1.globo.com/politica/noticia/2019/06/04/bolsonaro-chega-a-camara-para-entregar-projeto-que-muda-regras-da-cnh.ghtml'\n\\item 'https://g1.globo.com/economia/noticia/2019/06/04/entenda-como-sera-o-pente-fino-no-inss-aprovado-pelo-congresso.ghtml'\n\\item 'https://g1.globo.com/natureza/noticia/2019/06/04/governo-envia-para-embaixadas-da-alemanha-e-noruega-proposta-de-alteracao-do-fundo-amazonia.ghtml'\n\\item 'https://g1.globo.com/economia/noticia/2019/06/04/minha-casa-minha-vida-sera-dividido-em-dois-programas-habitacionais-diz-ministro.ghtml'\n\\item 'https://g1.globo.com/ciencia-e-saude/noticia/2019/06/04/governo-tira-do-ar-site-com-levantamentos-nacionais-sobre-o-uso-de-drogas-no-brasil.ghtml'\n\\item 'https://g1.globo.com/sp/sao-paulo/noticia/2019/06/04/ex-advogado-de-mulher-que-acusa-neymar-nega-tentativa-de-extorsao-em-reuniao-com-defesa-do-jogador.ghtml'\n\\item 'https://globoesporte.globo.com/futebol/selecao-brasileira/noticia/presidente-da-cbf-garante-neymar-na-copa-america-e-resume-temos-total-confianca-nele.ghtml'\n\\item 'https://g1.globo.com/go/goias/noticia/2019/06/04/maioria-do-stj-vota-a-favor-de-mandar-joao-de-deus-de-volta-para-a-cadeia.ghtml'\n\\item 'https://g1.globo.com/mg/minas-gerais/noticia/2019/06/04/sobe-para-21-o-numero-de-casos-suspeitos-de-febre-maculosa-em-contagem.ghtml'\n\\item 'https://g1.globo.com/pe/pernambuco/noticia/2019/06/04/sobe-para-27-numero-de-pacientes-em-tratamento-devido-a-surto-agudo-de-doenca-de-chagas.ghtml'\n\\end{enumerate*}\n",
            "text/markdown": "1. 'https://g1.globo.com/politica/noticia/2019/06/04/bolsonaro-chega-a-camara-para-entregar-projeto-que-muda-regras-da-cnh.ghtml'\n2. 'https://g1.globo.com/economia/noticia/2019/06/04/entenda-como-sera-o-pente-fino-no-inss-aprovado-pelo-congresso.ghtml'\n3. 'https://g1.globo.com/natureza/noticia/2019/06/04/governo-envia-para-embaixadas-da-alemanha-e-noruega-proposta-de-alteracao-do-fundo-amazonia.ghtml'\n4. 'https://g1.globo.com/economia/noticia/2019/06/04/minha-casa-minha-vida-sera-dividido-em-dois-programas-habitacionais-diz-ministro.ghtml'\n5. 'https://g1.globo.com/ciencia-e-saude/noticia/2019/06/04/governo-tira-do-ar-site-com-levantamentos-nacionais-sobre-o-uso-de-drogas-no-brasil.ghtml'\n6. 'https://g1.globo.com/sp/sao-paulo/noticia/2019/06/04/ex-advogado-de-mulher-que-acusa-neymar-nega-tentativa-de-extorsao-em-reuniao-com-defesa-do-jogador.ghtml'\n7. 'https://globoesporte.globo.com/futebol/selecao-brasileira/noticia/presidente-da-cbf-garante-neymar-na-copa-america-e-resume-temos-total-confianca-nele.ghtml'\n8. 'https://g1.globo.com/go/goias/noticia/2019/06/04/maioria-do-stj-vota-a-favor-de-mandar-joao-de-deus-de-volta-para-a-cadeia.ghtml'\n9. 'https://g1.globo.com/mg/minas-gerais/noticia/2019/06/04/sobe-para-21-o-numero-de-casos-suspeitos-de-febre-maculosa-em-contagem.ghtml'\n10. 'https://g1.globo.com/pe/pernambuco/noticia/2019/06/04/sobe-para-27-numero-de-pacientes-em-tratamento-devido-a-surto-agudo-de-doenca-de-chagas.ghtml'\n\n\n",
            "text/html": [
              "<ol class=list-inline>\n",
              "\t<li>'https://g1.globo.com/politica/noticia/2019/06/04/bolsonaro-chega-a-camara-para-entregar-projeto-que-muda-regras-da-cnh.ghtml'</li>\n",
              "\t<li>'https://g1.globo.com/economia/noticia/2019/06/04/entenda-como-sera-o-pente-fino-no-inss-aprovado-pelo-congresso.ghtml'</li>\n",
              "\t<li>'https://g1.globo.com/natureza/noticia/2019/06/04/governo-envia-para-embaixadas-da-alemanha-e-noruega-proposta-de-alteracao-do-fundo-amazonia.ghtml'</li>\n",
              "\t<li>'https://g1.globo.com/economia/noticia/2019/06/04/minha-casa-minha-vida-sera-dividido-em-dois-programas-habitacionais-diz-ministro.ghtml'</li>\n",
              "\t<li>'https://g1.globo.com/ciencia-e-saude/noticia/2019/06/04/governo-tira-do-ar-site-com-levantamentos-nacionais-sobre-o-uso-de-drogas-no-brasil.ghtml'</li>\n",
              "\t<li>'https://g1.globo.com/sp/sao-paulo/noticia/2019/06/04/ex-advogado-de-mulher-que-acusa-neymar-nega-tentativa-de-extorsao-em-reuniao-com-defesa-do-jogador.ghtml'</li>\n",
              "\t<li>'https://globoesporte.globo.com/futebol/selecao-brasileira/noticia/presidente-da-cbf-garante-neymar-na-copa-america-e-resume-temos-total-confianca-nele.ghtml'</li>\n",
              "\t<li>'https://g1.globo.com/go/goias/noticia/2019/06/04/maioria-do-stj-vota-a-favor-de-mandar-joao-de-deus-de-volta-para-a-cadeia.ghtml'</li>\n",
              "\t<li>'https://g1.globo.com/mg/minas-gerais/noticia/2019/06/04/sobe-para-21-o-numero-de-casos-suspeitos-de-febre-maculosa-em-contagem.ghtml'</li>\n",
              "\t<li>'https://g1.globo.com/pe/pernambuco/noticia/2019/06/04/sobe-para-27-numero-de-pacientes-em-tratamento-devido-a-surto-agudo-de-doenca-de-chagas.ghtml'</li>\n",
              "</ol>\n"
            ]
          },
          "metadata": {
            "tags": []
          }
        }
      ]
    },
    {
      "cell_type": "markdown",
      "metadata": {
        "colab_type": "text",
        "id": "BHBVVBv7wjfB"
      },
      "source": [
        "## Estruturando os dados\n",
        "\n",
        "#### 4) Coloque seus dados em um dataframe e salve em CSV para recuperarmos mais tarde"
      ]
    },
    {
      "cell_type": "code",
      "metadata": {
        "id": "9SBhnmGdu2oL",
        "colab_type": "code",
        "outputId": "d0aea8a1-7520-4a42-8411-f058f8d54f87",
        "colab": {
          "base_uri": "https://localhost:8080/",
          "height": 484
        }
      },
      "source": [
        "#Combining all the lists to form a data frame\n",
        "g1_df <- data.frame(Titulo=title_data,\n",
        "                   Legenda=subtitle_data,\n",
        "                   Link=link_data)\n",
        "\n",
        "g1_df\n",
        "write.csv(file='g1.csv', x=g1_df)"
      ],
      "execution_count": 0,
      "outputs": [
        {
          "output_type": "display_data",
          "data": {
            "text/plain": [
              "   Titulo                                                                              \n",
              "1  Projeto de Bolsonaro eleva de 20 para 40 o limite de pontos na carteira de motorista\n",
              "2  Entenda como será o pente-fino no INSS aprovado pelo Congresso                      \n",
              "3  Governo envia a Alemanha e Noruega proposta para mudar Fundo Amazônia               \n",
              "4  Ministro diz que Minha Casa Minha Vida será dividido em 2 programas                 \n",
              "5  Governo tira do ar site com dados sobre uso de drogas no Brasil                     \n",
              "6  Ex-advogado de mulher que acusa Neymar nega tentativa de extorsão                   \n",
              "7  Presidente da CBF garante Neymar na Copa América: 'Total confiança'                 \n",
              "8  Maioria no STJ vota para mandar João de Deus de volta à cadeia                      \n",
              "9  Cidade de Contagem tem 21 casos suspeitos de febre maculosa                         \n",
              "10 Pernambuco registra surto de doença de Chagas com 27 casos                          \n",
              "   Legenda                                                                                                                                                               \n",
              "1  Presidente foi à Câmara entregar proposta. Outras mudanças são: tempo maior de validade da CNH e fim da exigência de exame toxicológico para motoristas profissionais.\n",
              "2  Medida vai estabelecer novas regras para benefícios como aposentadoria rural e salários-maternidade.                                                                  \n",
              "3  Maior parte das doações vem dos 2 países. Ministério quer usar fundo para indenizar proprietários rurais.                                                             \n",
              "4  Um deles será para famílias de baixíssima renda, com 100% de financiamento.                                                                                           \n",
              "5  Ministério da Cidadania diz que página está sendo 'migrada e atualizada'.                                                                                             \n",
              "6  Defesa do jogador relatou pedido de um 'cala boca' durante reunião em SP.                                                                                             \n",
              "7  NA                                                                                                                                                                    \n",
              "8  Réu por crimes sexuais, médium está internado e pedia para ficar preso em casa.                                                                                       \n",
              "9  NA                                                                                                                                                                    \n",
              "10 Todos os pacientes fazem parte de grupo que esteve em retiro religioso.                                                                                               \n",
              "   Link                                                                                                                                                         \n",
              "1  https://g1.globo.com/politica/noticia/2019/06/04/bolsonaro-chega-a-camara-para-entregar-projeto-que-muda-regras-da-cnh.ghtml                                 \n",
              "2  https://g1.globo.com/economia/noticia/2019/06/04/entenda-como-sera-o-pente-fino-no-inss-aprovado-pelo-congresso.ghtml                                        \n",
              "3  https://g1.globo.com/natureza/noticia/2019/06/04/governo-envia-para-embaixadas-da-alemanha-e-noruega-proposta-de-alteracao-do-fundo-amazonia.ghtml           \n",
              "4  https://g1.globo.com/economia/noticia/2019/06/04/minha-casa-minha-vida-sera-dividido-em-dois-programas-habitacionais-diz-ministro.ghtml                      \n",
              "5  https://g1.globo.com/ciencia-e-saude/noticia/2019/06/04/governo-tira-do-ar-site-com-levantamentos-nacionais-sobre-o-uso-de-drogas-no-brasil.ghtml            \n",
              "6  https://g1.globo.com/sp/sao-paulo/noticia/2019/06/04/ex-advogado-de-mulher-que-acusa-neymar-nega-tentativa-de-extorsao-em-reuniao-com-defesa-do-jogador.ghtml\n",
              "7  https://globoesporte.globo.com/futebol/selecao-brasileira/noticia/presidente-da-cbf-garante-neymar-na-copa-america-e-resume-temos-total-confianca-nele.ghtml \n",
              "8  https://g1.globo.com/go/goias/noticia/2019/06/04/maioria-do-stj-vota-a-favor-de-mandar-joao-de-deus-de-volta-para-a-cadeia.ghtml                             \n",
              "9  https://g1.globo.com/mg/minas-gerais/noticia/2019/06/04/sobe-para-21-o-numero-de-casos-suspeitos-de-febre-maculosa-em-contagem.ghtml                         \n",
              "10 https://g1.globo.com/pe/pernambuco/noticia/2019/06/04/sobe-para-27-numero-de-pacientes-em-tratamento-devido-a-surto-agudo-de-doenca-de-chagas.ghtml          "
            ],
            "text/latex": "A data.frame: 10 × 3\n\\begin{tabular}{r|lll}\n Titulo & Legenda & Link\\\\\n <fct> & <fct> & <fct>\\\\\n\\hline\n\t Projeto de Bolsonaro eleva de 20 para 40 o limite de pontos na carteira de motorista & Presidente foi à Câmara entregar proposta. Outras mudanças são: tempo maior de validade da CNH e fim da exigência de exame toxicológico para motoristas profissionais. & https://g1.globo.com/politica/noticia/2019/06/04/bolsonaro-chega-a-camara-para-entregar-projeto-que-muda-regras-da-cnh.ghtml                                 \\\\\n\t Entenda como será o pente-fino no INSS aprovado pelo Congresso                       & Medida vai estabelecer novas regras para benefícios como aposentadoria rural e salários-maternidade.                                                                   & https://g1.globo.com/economia/noticia/2019/06/04/entenda-como-sera-o-pente-fino-no-inss-aprovado-pelo-congresso.ghtml                                        \\\\\n\t Governo envia a Alemanha e Noruega proposta para mudar Fundo Amazônia                & Maior parte das doações vem dos 2 países. Ministério quer usar fundo para indenizar proprietários rurais.                                                              & https://g1.globo.com/natureza/noticia/2019/06/04/governo-envia-para-embaixadas-da-alemanha-e-noruega-proposta-de-alteracao-do-fundo-amazonia.ghtml           \\\\\n\t Ministro diz que Minha Casa Minha Vida será dividido em 2 programas                  & Um deles será para famílias de baixíssima renda, com 100\\% de financiamento.                                                                                            & https://g1.globo.com/economia/noticia/2019/06/04/minha-casa-minha-vida-sera-dividido-em-dois-programas-habitacionais-diz-ministro.ghtml                      \\\\\n\t Governo tira do ar site com dados sobre uso de drogas no Brasil                      & Ministério da Cidadania diz que página está sendo 'migrada e atualizada'.                                                                                              & https://g1.globo.com/ciencia-e-saude/noticia/2019/06/04/governo-tira-do-ar-site-com-levantamentos-nacionais-sobre-o-uso-de-drogas-no-brasil.ghtml            \\\\\n\t Ex-advogado de mulher que acusa Neymar nega tentativa de extorsão                    & Defesa do jogador relatou pedido de um 'cala boca' durante reunião em SP.                                                                                              & https://g1.globo.com/sp/sao-paulo/noticia/2019/06/04/ex-advogado-de-mulher-que-acusa-neymar-nega-tentativa-de-extorsao-em-reuniao-com-defesa-do-jogador.ghtml\\\\\n\t Presidente da CBF garante Neymar na Copa América: 'Total confiança'                  & NA                                                                                                                                                                     & https://globoesporte.globo.com/futebol/selecao-brasileira/noticia/presidente-da-cbf-garante-neymar-na-copa-america-e-resume-temos-total-confianca-nele.ghtml \\\\\n\t Maioria no STJ vota para mandar João de Deus de volta à cadeia                       & Réu por crimes sexuais, médium está internado e pedia para ficar preso em casa.                                                                                        & https://g1.globo.com/go/goias/noticia/2019/06/04/maioria-do-stj-vota-a-favor-de-mandar-joao-de-deus-de-volta-para-a-cadeia.ghtml                             \\\\\n\t Cidade de Contagem tem 21 casos suspeitos de febre maculosa                          & NA                                                                                                                                                                     & https://g1.globo.com/mg/minas-gerais/noticia/2019/06/04/sobe-para-21-o-numero-de-casos-suspeitos-de-febre-maculosa-em-contagem.ghtml                         \\\\\n\t Pernambuco registra surto de doença de Chagas com 27 casos                           & Todos os pacientes fazem parte de grupo que esteve em retiro religioso.                                                                                                & https://g1.globo.com/pe/pernambuco/noticia/2019/06/04/sobe-para-27-numero-de-pacientes-em-tratamento-devido-a-surto-agudo-de-doenca-de-chagas.ghtml          \\\\\n\\end{tabular}\n",
            "text/markdown": "\nA data.frame: 10 × 3\n\n| Titulo &lt;fct&gt; | Legenda &lt;fct&gt; | Link &lt;fct&gt; |\n|---|---|---|\n| Projeto de Bolsonaro eleva de 20 para 40 o limite de pontos na carteira de motorista | Presidente foi à Câmara entregar proposta. Outras mudanças são: tempo maior de validade da CNH e fim da exigência de exame toxicológico para motoristas profissionais. | https://g1.globo.com/politica/noticia/2019/06/04/bolsonaro-chega-a-camara-para-entregar-projeto-que-muda-regras-da-cnh.ghtml                                  |\n| Entenda como será o pente-fino no INSS aprovado pelo Congresso                       | Medida vai estabelecer novas regras para benefícios como aposentadoria rural e salários-maternidade.                                                                   | https://g1.globo.com/economia/noticia/2019/06/04/entenda-como-sera-o-pente-fino-no-inss-aprovado-pelo-congresso.ghtml                                         |\n| Governo envia a Alemanha e Noruega proposta para mudar Fundo Amazônia                | Maior parte das doações vem dos 2 países. Ministério quer usar fundo para indenizar proprietários rurais.                                                              | https://g1.globo.com/natureza/noticia/2019/06/04/governo-envia-para-embaixadas-da-alemanha-e-noruega-proposta-de-alteracao-do-fundo-amazonia.ghtml            |\n| Ministro diz que Minha Casa Minha Vida será dividido em 2 programas                  | Um deles será para famílias de baixíssima renda, com 100% de financiamento.                                                                                            | https://g1.globo.com/economia/noticia/2019/06/04/minha-casa-minha-vida-sera-dividido-em-dois-programas-habitacionais-diz-ministro.ghtml                       |\n| Governo tira do ar site com dados sobre uso de drogas no Brasil                      | Ministério da Cidadania diz que página está sendo 'migrada e atualizada'.                                                                                              | https://g1.globo.com/ciencia-e-saude/noticia/2019/06/04/governo-tira-do-ar-site-com-levantamentos-nacionais-sobre-o-uso-de-drogas-no-brasil.ghtml             |\n| Ex-advogado de mulher que acusa Neymar nega tentativa de extorsão                    | Defesa do jogador relatou pedido de um 'cala boca' durante reunião em SP.                                                                                              | https://g1.globo.com/sp/sao-paulo/noticia/2019/06/04/ex-advogado-de-mulher-que-acusa-neymar-nega-tentativa-de-extorsao-em-reuniao-com-defesa-do-jogador.ghtml |\n| Presidente da CBF garante Neymar na Copa América: 'Total confiança'                  | NA                                                                                                                                                                     | https://globoesporte.globo.com/futebol/selecao-brasileira/noticia/presidente-da-cbf-garante-neymar-na-copa-america-e-resume-temos-total-confianca-nele.ghtml  |\n| Maioria no STJ vota para mandar João de Deus de volta à cadeia                       | Réu por crimes sexuais, médium está internado e pedia para ficar preso em casa.                                                                                        | https://g1.globo.com/go/goias/noticia/2019/06/04/maioria-do-stj-vota-a-favor-de-mandar-joao-de-deus-de-volta-para-a-cadeia.ghtml                              |\n| Cidade de Contagem tem 21 casos suspeitos de febre maculosa                          | NA                                                                                                                                                                     | https://g1.globo.com/mg/minas-gerais/noticia/2019/06/04/sobe-para-21-o-numero-de-casos-suspeitos-de-febre-maculosa-em-contagem.ghtml                          |\n| Pernambuco registra surto de doença de Chagas com 27 casos                           | Todos os pacientes fazem parte de grupo que esteve em retiro religioso.                                                                                                | https://g1.globo.com/pe/pernambuco/noticia/2019/06/04/sobe-para-27-numero-de-pacientes-em-tratamento-devido-a-surto-agudo-de-doenca-de-chagas.ghtml           |\n\n",
            "text/html": [
              "<table>\n",
              "<caption>A data.frame: 10 × 3</caption>\n",
              "<thead>\n",
              "\t<tr><th scope=col>Titulo</th><th scope=col>Legenda</th><th scope=col>Link</th></tr>\n",
              "\t<tr><th scope=col>&lt;fct&gt;</th><th scope=col>&lt;fct&gt;</th><th scope=col>&lt;fct&gt;</th></tr>\n",
              "</thead>\n",
              "<tbody>\n",
              "\t<tr><td>Projeto de Bolsonaro eleva de 20 para 40 o limite de pontos na carteira de motorista</td><td>Presidente foi à Câmara entregar proposta. Outras mudanças são: tempo maior de validade da CNH e fim da exigência de exame toxicológico para motoristas profissionais.</td><td>https://g1.globo.com/politica/noticia/2019/06/04/bolsonaro-chega-a-camara-para-entregar-projeto-que-muda-regras-da-cnh.ghtml                                 </td></tr>\n",
              "\t<tr><td>Entenda como será o pente-fino no INSS aprovado pelo Congresso                      </td><td>Medida vai estabelecer novas regras para benefícios como aposentadoria rural e salários-maternidade.                                                                  </td><td>https://g1.globo.com/economia/noticia/2019/06/04/entenda-como-sera-o-pente-fino-no-inss-aprovado-pelo-congresso.ghtml                                        </td></tr>\n",
              "\t<tr><td>Governo envia a Alemanha e Noruega proposta para mudar Fundo Amazônia               </td><td>Maior parte das doações vem dos 2 países. Ministério quer usar fundo para indenizar proprietários rurais.                                                             </td><td>https://g1.globo.com/natureza/noticia/2019/06/04/governo-envia-para-embaixadas-da-alemanha-e-noruega-proposta-de-alteracao-do-fundo-amazonia.ghtml           </td></tr>\n",
              "\t<tr><td>Ministro diz que Minha Casa Minha Vida será dividido em 2 programas                 </td><td>Um deles será para famílias de baixíssima renda, com 100% de financiamento.                                                                                           </td><td>https://g1.globo.com/economia/noticia/2019/06/04/minha-casa-minha-vida-sera-dividido-em-dois-programas-habitacionais-diz-ministro.ghtml                      </td></tr>\n",
              "\t<tr><td>Governo tira do ar site com dados sobre uso de drogas no Brasil                     </td><td>Ministério da Cidadania diz que página está sendo 'migrada e atualizada'.                                                                                             </td><td>https://g1.globo.com/ciencia-e-saude/noticia/2019/06/04/governo-tira-do-ar-site-com-levantamentos-nacionais-sobre-o-uso-de-drogas-no-brasil.ghtml            </td></tr>\n",
              "\t<tr><td>Ex-advogado de mulher que acusa Neymar nega tentativa de extorsão                   </td><td>Defesa do jogador relatou pedido de um 'cala boca' durante reunião em SP.                                                                                             </td><td>https://g1.globo.com/sp/sao-paulo/noticia/2019/06/04/ex-advogado-de-mulher-que-acusa-neymar-nega-tentativa-de-extorsao-em-reuniao-com-defesa-do-jogador.ghtml</td></tr>\n",
              "\t<tr><td>Presidente da CBF garante Neymar na Copa América: 'Total confiança'                 </td><td>NA                                                                                                                                                                    </td><td>https://globoesporte.globo.com/futebol/selecao-brasileira/noticia/presidente-da-cbf-garante-neymar-na-copa-america-e-resume-temos-total-confianca-nele.ghtml </td></tr>\n",
              "\t<tr><td>Maioria no STJ vota para mandar João de Deus de volta à cadeia                      </td><td>Réu por crimes sexuais, médium está internado e pedia para ficar preso em casa.                                                                                       </td><td>https://g1.globo.com/go/goias/noticia/2019/06/04/maioria-do-stj-vota-a-favor-de-mandar-joao-de-deus-de-volta-para-a-cadeia.ghtml                             </td></tr>\n",
              "\t<tr><td>Cidade de Contagem tem 21 casos suspeitos de febre maculosa                         </td><td>NA                                                                                                                                                                    </td><td>https://g1.globo.com/mg/minas-gerais/noticia/2019/06/04/sobe-para-21-o-numero-de-casos-suspeitos-de-febre-maculosa-em-contagem.ghtml                         </td></tr>\n",
              "\t<tr><td>Pernambuco registra surto de doença de Chagas com 27 casos                          </td><td>Todos os pacientes fazem parte de grupo que esteve em retiro religioso.                                                                                               </td><td>https://g1.globo.com/pe/pernambuco/noticia/2019/06/04/sobe-para-27-numero-de-pacientes-em-tratamento-devido-a-surto-agudo-de-doenca-de-chagas.ghtml          </td></tr>\n",
              "</tbody>\n",
              "</table>\n"
            ]
          },
          "metadata": {
            "tags": []
          }
        }
      ]
    }
  ]
}