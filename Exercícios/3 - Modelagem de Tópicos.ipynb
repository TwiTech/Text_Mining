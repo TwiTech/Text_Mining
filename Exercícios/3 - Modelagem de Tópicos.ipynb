{
  "nbformat": 4,
  "nbformat_minor": 0,
  "metadata": {
    "colab": {
      "name": "3 - Modelagem de Tópicos",
      "version": "0.3.2",
      "provenance": [],
      "collapsed_sections": [],
      "include_colab_link": true
    },
    "language_info": {
      "codemirror_mode": "r",
      "file_extension": ".r",
      "mimetype": "text/x-r-source",
      "name": "R",
      "pygments_lexer": "r",
      "version": "3.3.1"
    },
    "kernelspec": {
      "display_name": "R",
      "language": "R",
      "name": "ir"
    },
    "accelerator": "GPU"
  },
  "cells": [
    {
      "cell_type": "markdown",
      "metadata": {
        "id": "view-in-github",
        "colab_type": "text"
      },
      "source": [
        "<a href=\"https://colab.research.google.com/github/lauramoraes/Text_Mining/blob/master/Exerc%C3%ADcios/3%20-%20Modelagem%20de%20T%C3%B3picos.ipynb\" target=\"_parent\"><img src=\"https://colab.research.google.com/assets/colab-badge.svg\" alt=\"Open In Colab\"/></a>"
      ]
    },
    {
      "cell_type": "markdown",
      "metadata": {
        "id": "wn9t4aUDQH2z",
        "colab_type": "text"
      },
      "source": [
        "# Modelagem de Tópicos\n",
        "\n",
        "### Bibliotecas importantes:\n",
        "\n",
        "1. tm: https://cran.r-project.org/web/packages/tm/tm.pdf\n",
        "2. topicmodels: https://cran.r-project.org/web/packages/topicmodels/topicmodels.pdf"
      ]
    },
    {
      "cell_type": "markdown",
      "metadata": {
        "id": "UixQ-Y9VKjwy",
        "colab_type": "text"
      },
      "source": [
        "### Importando bibliotecas a serem usadas"
      ]
    },
    {
      "cell_type": "code",
      "metadata": {
        "id": "SvGJ9AF0OH45",
        "colab_type": "code",
        "outputId": "1ebc8a34-821b-4f9b-d38b-29b987fc8bcd",
        "colab": {
          "base_uri": "https://localhost:8080/",
          "height": 314
        }
      },
      "source": [
        "install.packages(\"topicmodels\")\n",
        "install.packages(\"gutenbergr\")\n",
        "install.packages('SnowballC')\n",
        "install.packages('tidytext')\n",
        "install.packages(\"LDAvis\")\n",
        "install.packages(\"tsne\")"
      ],
      "execution_count": 0,
      "outputs": [
        {
          "output_type": "stream",
          "text": [
            "Installing package into ‘/usr/local/lib/R/site-library’\n",
            "(as ‘lib’ is unspecified)\n",
            "Installing package into ‘/usr/local/lib/R/site-library’\n",
            "(as ‘lib’ is unspecified)\n",
            "Installing package into ‘/usr/local/lib/R/site-library’\n",
            "(as ‘lib’ is unspecified)\n",
            "Installing package into ‘/usr/local/lib/R/site-library’\n",
            "(as ‘lib’ is unspecified)\n",
            "Installing package into ‘/usr/local/lib/R/site-library’\n",
            "(as ‘lib’ is unspecified)\n",
            "Installing package into ‘/usr/local/lib/R/site-library’\n",
            "(as ‘lib’ is unspecified)\n",
            "Installing package into ‘/usr/local/lib/R/site-library’\n",
            "(as ‘lib’ is unspecified)\n",
            "Warning message:\n",
            "“package ‘SpeedReader’ is not available (for R version 3.6.0)”"
          ],
          "name": "stderr"
        }
      ]
    },
    {
      "cell_type": "code",
      "metadata": {
        "id": "Unsb8k4MKWgb",
        "colab_type": "code",
        "colab": {}
      },
      "source": [
        "suppressMessages(suppressWarnings(library(topicmodels)))\n",
        "suppressMessages(suppressWarnings(library(tm)))\n",
        "suppressMessages(suppressWarnings(library(gutenbergr)))\n",
        "suppressMessages(suppressWarnings(library(dplyr)))\n",
        "suppressMessages(suppressWarnings(library(SnowballC)))\n",
        "suppressMessages(suppressWarnings(library(stringr)))\n",
        "suppressMessages(suppressWarnings(library(tidyr)))\n",
        "suppressMessages(suppressWarnings(library(plyr)))\n",
        "suppressMessages(suppressWarnings(library(reshape2)))\n",
        "suppressMessages(suppressWarnings(library(ggplot2)))\n",
        "suppressMessages(suppressWarnings(library(tidytext)))\n",
        "suppressMessages(suppressWarnings(library(LDAvis)))"
      ],
      "execution_count": 0,
      "outputs": []
    },
    {
      "cell_type": "markdown",
      "metadata": {
        "id": "me356USlWBlT",
        "colab_type": "text"
      },
      "source": [
        "### Download dos dados\n",
        "Importe aqui seu dataset de texto."
      ]
    },
    {
      "cell_type": "code",
      "metadata": {
        "id": "xbdkk5TeWvhx",
        "colab_type": "code",
        "colab": {}
      },
      "source": [
        "# Escreva seu código aqui"
      ],
      "execution_count": 0,
      "outputs": []
    },
    {
      "cell_type": "markdown",
      "metadata": {
        "id": "0D0-B7Q_rm7x",
        "colab_type": "text"
      },
      "source": [
        "### Transforme seus dados em um corpus\n",
        "Corpus é um conjunto de textos. Nesse contexto, corpus é o objeto da biblioteca tm criado para tratar os textos. "
      ]
    },
    {
      "cell_type": "code",
      "metadata": {
        "id": "tmlQhBvHsBrM",
        "colab_type": "code",
        "colab": {}
      },
      "source": [
        "# Escreva seu código aqui"
      ],
      "execution_count": 0,
      "outputs": []
    },
    {
      "cell_type": "markdown",
      "metadata": {
        "id": "PDrhdItfr_Mp",
        "colab_type": "text"
      },
      "source": [
        "### Qual a quantidade de documentos no seu corpus?"
      ]
    },
    {
      "cell_type": "markdown",
      "metadata": {
        "id": "Qrqs5e_zsDUz",
        "colab_type": "text"
      },
      "source": [
        "Escreva sua resposta aqui"
      ]
    },
    {
      "cell_type": "markdown",
      "metadata": {
        "id": "GxdMJ8adHZbe",
        "colab_type": "text"
      },
      "source": [
        "### Preprocessando os dados\n",
        "Realize aqui os pré-processamentos que você julgar necessário nesse corpus. **Explique suas escolhas.**"
      ]
    },
    {
      "cell_type": "code",
      "metadata": {
        "id": "7vwBJ-AqsRyj",
        "colab_type": "code",
        "colab": {}
      },
      "source": [
        "# Escreva seu código aqui"
      ],
      "execution_count": 0,
      "outputs": []
    },
    {
      "cell_type": "markdown",
      "metadata": {
        "id": "H8SeKEORscnE",
        "colab_type": "text"
      },
      "source": [
        "### Crie sua matriz termo-documento. Quantos termos você possui no seu vocabulário?"
      ]
    },
    {
      "cell_type": "code",
      "metadata": {
        "id": "_5m3G5-3smUK",
        "colab_type": "code",
        "colab": {}
      },
      "source": [
        "# Escreva seu código aqui"
      ],
      "execution_count": 0,
      "outputs": []
    },
    {
      "cell_type": "markdown",
      "metadata": {
        "id": "TO07HKH-slWF",
        "colab_type": "text"
      },
      "source": [
        "Escreva sua resposta aqui"
      ]
    },
    {
      "cell_type": "markdown",
      "metadata": {
        "id": "SoqBoJmRszUM",
        "colab_type": "text"
      },
      "source": [
        "### Descubra o número de tópicos no seu documento. Justifique cada passa e a sua escolha."
      ]
    },
    {
      "cell_type": "code",
      "metadata": {
        "id": "BrrNCHaIsxbb",
        "colab_type": "code",
        "colab": {}
      },
      "source": [
        "# Escreva seu código aqui"
      ],
      "execution_count": 0,
      "outputs": []
    },
    {
      "cell_type": "markdown",
      "metadata": {
        "id": "P_oihUD-s7dN",
        "colab_type": "text"
      },
      "source": [
        "Escreva sua resposta aqui"
      ]
    },
    {
      "cell_type": "markdown",
      "metadata": {
        "id": "n45MMobWZjg1",
        "colab_type": "text"
      },
      "source": [
        "### Faça a análise dos tópicos criados com o número escolhido acima. Na sua análise apresente os termos mais importantes para cada tópico, nomeie cada tópico e apresente exemplos de documentos que se encaixem muito bem no tópico e outros que nem tanto. Pode adicionar outras informações que achar relevante para que o leitor entenda o que está acontecendo nos seus tópicos.\n",
        "\n"
      ]
    },
    {
      "cell_type": "code",
      "metadata": {
        "id": "6nfRGWDLZ151",
        "colab_type": "code",
        "colab": {}
      },
      "source": [
        "# Escreva seu código aqui"
      ],
      "execution_count": 0,
      "outputs": []
    },
    {
      "cell_type": "markdown",
      "metadata": {
        "id": "xPmcpENftnPN",
        "colab_type": "text"
      },
      "source": [
        "Escreva sua resposta aqui"
      ]
    },
    {
      "cell_type": "markdown",
      "metadata": {
        "id": "urHOeQrwdtmx",
        "colab_type": "text"
      },
      "source": [
        "## Referências\n",
        "\n",
        "1. https://rstudio-pubs-static.s3.amazonaws.com/163802_0f005a14bcfb4c4b8ee17ac8a8e6c3e9.html\n",
        "2. https://www.tidytextmining.com/topicmodeling.html#lda-on-chapters\n",
        "3. http://freerangestats.info/blog/2017/01/05/topic-model-cv\n"
      ]
    }
  ]
}