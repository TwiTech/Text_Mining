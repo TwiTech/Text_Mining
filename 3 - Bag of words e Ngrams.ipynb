{
  "nbformat": 4,
  "nbformat_minor": 0,
  "metadata": {
    "colab": {
      "name": "3 - Bag of words e N-grams",
      "version": "0.3.2",
      "provenance": [],
      "toc_visible": true,
      "include_colab_link": true
    },
    "language_info": {
      "codemirror_mode": "r",
      "file_extension": ".r",
      "mimetype": "text/x-r-source",
      "name": "R",
      "pygments_lexer": "r",
      "version": "3.3.1"
    },
    "kernelspec": {
      "display_name": "R",
      "language": "R",
      "name": "ir"
    }
  },
  "cells": [
    {
      "cell_type": "markdown",
      "metadata": {
        "id": "view-in-github",
        "colab_type": "text"
      },
      "source": [
        "<a href=\"https://colab.research.google.com/github/lauramoraes/Text_Mining/blob/master/3%20-%20Bag%20of%20words%20e%20Ngrams.ipynb\" target=\"_parent\"><img src=\"https://colab.research.google.com/assets/colab-badge.svg\" alt=\"Open In Colab\"/></a>"
      ]
    },
    {
      "cell_type": "markdown",
      "metadata": {
        "id": "wn9t4aUDQH2z",
        "colab_type": "text"
      },
      "source": [
        "# Transformação de texto para número (document-term matrix)\n",
        "Uma vez que temos os textos de forma estruturada, queremos poder processá-los com as mesmas técnicas de Regressão, Classificação e Clusterização que aprendemos anteriormente. Algumas dessas técnicas requerem que os dados estejam configurados em forma de matriz. Como podemos fazer isso?"
      ]
    },
    {
      "cell_type": "markdown",
      "metadata": {
        "id": "UixQ-Y9VKjwy",
        "colab_type": "text"
      },
      "source": [
        "### Importando bibliotecas a serem usadas"
      ]
    },
    {
      "cell_type": "code",
      "metadata": {
        "id": "SvGJ9AF0OH45",
        "colab_type": "code",
        "outputId": "a1acd769-e5a2-4f1f-af34-662c75822289",
        "colab": {
          "base_uri": "https://localhost:8080/",
          "height": 86
        }
      },
      "source": [
        "install.packages(\"reticulate\")\n",
        "install.packages('cleanNLP')"
      ],
      "execution_count": 0,
      "outputs": [
        {
          "output_type": "stream",
          "text": [
            "Installing package into ‘/usr/local/lib/R/site-library’\n",
            "(as ‘lib’ is unspecified)\n",
            "Installing package into ‘/usr/local/lib/R/site-library’\n",
            "(as ‘lib’ is unspecified)\n"
          ],
          "name": "stderr"
        }
      ]
    },
    {
      "cell_type": "code",
      "metadata": {
        "id": "Unsb8k4MKWgb",
        "colab_type": "code",
        "colab": {}
      },
      "source": [
        "library(cleanNLP)\n",
        "library(reticulate)"
      ],
      "execution_count": 0,
      "outputs": []
    },
    {
      "cell_type": "markdown",
      "metadata": {
        "id": "IqiNKVtvp58v",
        "colab_type": "text"
      },
      "source": [
        "Vamos utilizar como backend o SpaCy, uma biblioteca originalmente para Python para processamento de linguagem natural\n",
        "https://spacy.io/"
      ]
    },
    {
      "cell_type": "code",
      "metadata": {
        "id": "352vhd-a6-bj",
        "colab_type": "code",
        "colab": {}
      },
      "source": [
        "# cnlp_init_spacy()\n",
        "cnlp_init_spacy(\"pt_core_news_sm\")"
      ],
      "execution_count": 0,
      "outputs": []
    },
    {
      "cell_type": "markdown",
      "metadata": {
        "id": "ryxs4Cgd3uqF",
        "colab_type": "text"
      },
      "source": [
        "### Tokenização"
      ]
    },
    {
      "cell_type": "code",
      "metadata": {
        "id": "ES217wOu7wCS",
        "colab_type": "code",
        "colab": {}
      },
      "source": [
        "sIn <- \"Mother died today. Or, maybe, yesterday; I can’t be sure.\"\n",
        "strsplit(sIn, split=\" \")"
      ],
      "execution_count": 0,
      "outputs": []
    },
    {
      "cell_type": "markdown",
      "metadata": {
        "id": "JykslUxH5jm8",
        "colab_type": "text"
      },
      "source": [
        "### Carregando os dados anteriores"
      ]
    },
    {
      "cell_type": "code",
      "metadata": {
        "id": "a_04N5tu5laj",
        "colab_type": "code",
        "colab": {
          "base_uri": "https://localhost:8080/",
          "height": 553
        },
        "outputId": "27cc9146-5030-4f69-db9d-ebbdf1e8368c"
      },
      "source": [
        "g1 <- read.csv(\"g1.csv\", stringsAsFactors=FALSE)\n",
        "g1"
      ],
      "execution_count": 10,
      "outputs": [
        {
          "output_type": "display_data",
          "data": {
            "text/plain": [
              "   X \n",
              "1   1\n",
              "2   2\n",
              "3   3\n",
              "4   4\n",
              "5   5\n",
              "6   6\n",
              "7   7\n",
              "8   8\n",
              "9   9\n",
              "10 10\n",
              "   Titulo                                                                              \n",
              "1  Projeto de Bolsonaro eleva de 20 para 40 o limite de pontos na carteira de motorista\n",
              "2  Entenda como será o pente-fino no INSS aprovado pelo Congresso                      \n",
              "3  Governo envia a Alemanha e Noruega proposta para mudar Fundo Amazônia               \n",
              "4  Ministro diz que Minha Casa Minha Vida será dividido em 2 programas                 \n",
              "5  Governo tira do ar site com dados sobre uso de drogas no Brasil                     \n",
              "6  Ex-advogado de mulher que acusa Neymar nega tentativa de extorsão                   \n",
              "7  Presidente da CBF garante Neymar na Copa América: 'Total confiança'                 \n",
              "8  Maioria no STJ vota para mandar João de Deus de volta à cadeia                      \n",
              "9  Cidade de Contagem tem 21 casos suspeitos de febre maculosa                         \n",
              "10 Pernambuco registra surto de doença de Chagas com 27 casos                          \n",
              "   Legenda                                                                                                                                                               \n",
              "1  Presidente foi à Câmara entregar proposta. Outras mudanças são: tempo maior de validade da CNH e fim da exigência de exame toxicológico para motoristas profissionais.\n",
              "2  Medida vai estabelecer novas regras para benefícios como aposentadoria rural e salários-maternidade.                                                                  \n",
              "3  Maior parte das doações vem dos 2 países. Ministério quer usar fundo para indenizar proprietários rurais.                                                             \n",
              "4  Um deles será para famílias de baixíssima renda, com 100% de financiamento.                                                                                           \n",
              "5  Ministério da Cidadania diz que página está sendo 'migrada e atualizada'.                                                                                             \n",
              "6  Defesa do jogador relatou pedido de um 'cala boca' durante reunião em SP.                                                                                             \n",
              "7  NA                                                                                                                                                                    \n",
              "8  Réu por crimes sexuais, médium está internado e pedia para ficar preso em casa.                                                                                       \n",
              "9  NA                                                                                                                                                                    \n",
              "10 Todos os pacientes fazem parte de grupo que esteve em retiro religioso.                                                                                               \n",
              "   Link                                                                                                                                                         \n",
              "1  https://g1.globo.com/politica/noticia/2019/06/04/bolsonaro-chega-a-camara-para-entregar-projeto-que-muda-regras-da-cnh.ghtml                                 \n",
              "2  https://g1.globo.com/economia/noticia/2019/06/04/entenda-como-sera-o-pente-fino-no-inss-aprovado-pelo-congresso.ghtml                                        \n",
              "3  https://g1.globo.com/natureza/noticia/2019/06/04/governo-envia-para-embaixadas-da-alemanha-e-noruega-proposta-de-alteracao-do-fundo-amazonia.ghtml           \n",
              "4  https://g1.globo.com/economia/noticia/2019/06/04/minha-casa-minha-vida-sera-dividido-em-dois-programas-habitacionais-diz-ministro.ghtml                      \n",
              "5  https://g1.globo.com/ciencia-e-saude/noticia/2019/06/04/governo-tira-do-ar-site-com-levantamentos-nacionais-sobre-o-uso-de-drogas-no-brasil.ghtml            \n",
              "6  https://g1.globo.com/sp/sao-paulo/noticia/2019/06/04/ex-advogado-de-mulher-que-acusa-neymar-nega-tentativa-de-extorsao-em-reuniao-com-defesa-do-jogador.ghtml\n",
              "7  https://globoesporte.globo.com/futebol/selecao-brasileira/noticia/presidente-da-cbf-garante-neymar-na-copa-america-e-resume-temos-total-confianca-nele.ghtml \n",
              "8  https://g1.globo.com/go/goias/noticia/2019/06/04/maioria-do-stj-vota-a-favor-de-mandar-joao-de-deus-de-volta-para-a-cadeia.ghtml                             \n",
              "9  https://g1.globo.com/mg/minas-gerais/noticia/2019/06/04/sobe-para-21-o-numero-de-casos-suspeitos-de-febre-maculosa-em-contagem.ghtml                         \n",
              "10 https://g1.globo.com/pe/pernambuco/noticia/2019/06/04/sobe-para-27-numero-de-pacientes-em-tratamento-devido-a-surto-agudo-de-doenca-de-chagas.ghtml          "
            ],
            "text/latex": "A data.frame: 10 × 4\n\\begin{tabular}{r|llll}\n X & Titulo & Legenda & Link\\\\\n <int> & <chr> & <chr> & <chr>\\\\\n\\hline\n\t  1 & Projeto de Bolsonaro eleva de 20 para 40 o limite de pontos na carteira de motorista & Presidente foi à Câmara entregar proposta. Outras mudanças são: tempo maior de validade da CNH e fim da exigência de exame toxicológico para motoristas profissionais. & https://g1.globo.com/politica/noticia/2019/06/04/bolsonaro-chega-a-camara-para-entregar-projeto-que-muda-regras-da-cnh.ghtml                                 \\\\\n\t  2 & Entenda como será o pente-fino no INSS aprovado pelo Congresso                       & Medida vai estabelecer novas regras para benefícios como aposentadoria rural e salários-maternidade.                                                                   & https://g1.globo.com/economia/noticia/2019/06/04/entenda-como-sera-o-pente-fino-no-inss-aprovado-pelo-congresso.ghtml                                        \\\\\n\t  3 & Governo envia a Alemanha e Noruega proposta para mudar Fundo Amazônia                & Maior parte das doações vem dos 2 países. Ministério quer usar fundo para indenizar proprietários rurais.                                                              & https://g1.globo.com/natureza/noticia/2019/06/04/governo-envia-para-embaixadas-da-alemanha-e-noruega-proposta-de-alteracao-do-fundo-amazonia.ghtml           \\\\\n\t  4 & Ministro diz que Minha Casa Minha Vida será dividido em 2 programas                  & Um deles será para famílias de baixíssima renda, com 100\\% de financiamento.                                                                                            & https://g1.globo.com/economia/noticia/2019/06/04/minha-casa-minha-vida-sera-dividido-em-dois-programas-habitacionais-diz-ministro.ghtml                      \\\\\n\t  5 & Governo tira do ar site com dados sobre uso de drogas no Brasil                      & Ministério da Cidadania diz que página está sendo 'migrada e atualizada'.                                                                                              & https://g1.globo.com/ciencia-e-saude/noticia/2019/06/04/governo-tira-do-ar-site-com-levantamentos-nacionais-sobre-o-uso-de-drogas-no-brasil.ghtml            \\\\\n\t  6 & Ex-advogado de mulher que acusa Neymar nega tentativa de extorsão                    & Defesa do jogador relatou pedido de um 'cala boca' durante reunião em SP.                                                                                              & https://g1.globo.com/sp/sao-paulo/noticia/2019/06/04/ex-advogado-de-mulher-que-acusa-neymar-nega-tentativa-de-extorsao-em-reuniao-com-defesa-do-jogador.ghtml\\\\\n\t  7 & Presidente da CBF garante Neymar na Copa América: 'Total confiança'                  & NA                                                                                                                                                                     & https://globoesporte.globo.com/futebol/selecao-brasileira/noticia/presidente-da-cbf-garante-neymar-na-copa-america-e-resume-temos-total-confianca-nele.ghtml \\\\\n\t  8 & Maioria no STJ vota para mandar João de Deus de volta à cadeia                       & Réu por crimes sexuais, médium está internado e pedia para ficar preso em casa.                                                                                        & https://g1.globo.com/go/goias/noticia/2019/06/04/maioria-do-stj-vota-a-favor-de-mandar-joao-de-deus-de-volta-para-a-cadeia.ghtml                             \\\\\n\t  9 & Cidade de Contagem tem 21 casos suspeitos de febre maculosa                          & NA                                                                                                                                                                     & https://g1.globo.com/mg/minas-gerais/noticia/2019/06/04/sobe-para-21-o-numero-de-casos-suspeitos-de-febre-maculosa-em-contagem.ghtml                         \\\\\n\t 10 & Pernambuco registra surto de doença de Chagas com 27 casos                           & Todos os pacientes fazem parte de grupo que esteve em retiro religioso.                                                                                                & https://g1.globo.com/pe/pernambuco/noticia/2019/06/04/sobe-para-27-numero-de-pacientes-em-tratamento-devido-a-surto-agudo-de-doenca-de-chagas.ghtml          \\\\\n\\end{tabular}\n",
            "text/markdown": "\nA data.frame: 10 × 4\n\n| X &lt;int&gt; | Titulo &lt;chr&gt; | Legenda &lt;chr&gt; | Link &lt;chr&gt; |\n|---|---|---|---|\n|  1 | Projeto de Bolsonaro eleva de 20 para 40 o limite de pontos na carteira de motorista | Presidente foi à Câmara entregar proposta. Outras mudanças são: tempo maior de validade da CNH e fim da exigência de exame toxicológico para motoristas profissionais. | https://g1.globo.com/politica/noticia/2019/06/04/bolsonaro-chega-a-camara-para-entregar-projeto-que-muda-regras-da-cnh.ghtml                                  |\n|  2 | Entenda como será o pente-fino no INSS aprovado pelo Congresso                       | Medida vai estabelecer novas regras para benefícios como aposentadoria rural e salários-maternidade.                                                                   | https://g1.globo.com/economia/noticia/2019/06/04/entenda-como-sera-o-pente-fino-no-inss-aprovado-pelo-congresso.ghtml                                         |\n|  3 | Governo envia a Alemanha e Noruega proposta para mudar Fundo Amazônia                | Maior parte das doações vem dos 2 países. Ministério quer usar fundo para indenizar proprietários rurais.                                                              | https://g1.globo.com/natureza/noticia/2019/06/04/governo-envia-para-embaixadas-da-alemanha-e-noruega-proposta-de-alteracao-do-fundo-amazonia.ghtml            |\n|  4 | Ministro diz que Minha Casa Minha Vida será dividido em 2 programas                  | Um deles será para famílias de baixíssima renda, com 100% de financiamento.                                                                                            | https://g1.globo.com/economia/noticia/2019/06/04/minha-casa-minha-vida-sera-dividido-em-dois-programas-habitacionais-diz-ministro.ghtml                       |\n|  5 | Governo tira do ar site com dados sobre uso de drogas no Brasil                      | Ministério da Cidadania diz que página está sendo 'migrada e atualizada'.                                                                                              | https://g1.globo.com/ciencia-e-saude/noticia/2019/06/04/governo-tira-do-ar-site-com-levantamentos-nacionais-sobre-o-uso-de-drogas-no-brasil.ghtml             |\n|  6 | Ex-advogado de mulher que acusa Neymar nega tentativa de extorsão                    | Defesa do jogador relatou pedido de um 'cala boca' durante reunião em SP.                                                                                              | https://g1.globo.com/sp/sao-paulo/noticia/2019/06/04/ex-advogado-de-mulher-que-acusa-neymar-nega-tentativa-de-extorsao-em-reuniao-com-defesa-do-jogador.ghtml |\n|  7 | Presidente da CBF garante Neymar na Copa América: 'Total confiança'                  | NA                                                                                                                                                                     | https://globoesporte.globo.com/futebol/selecao-brasileira/noticia/presidente-da-cbf-garante-neymar-na-copa-america-e-resume-temos-total-confianca-nele.ghtml  |\n|  8 | Maioria no STJ vota para mandar João de Deus de volta à cadeia                       | Réu por crimes sexuais, médium está internado e pedia para ficar preso em casa.                                                                                        | https://g1.globo.com/go/goias/noticia/2019/06/04/maioria-do-stj-vota-a-favor-de-mandar-joao-de-deus-de-volta-para-a-cadeia.ghtml                              |\n|  9 | Cidade de Contagem tem 21 casos suspeitos de febre maculosa                          | NA                                                                                                                                                                     | https://g1.globo.com/mg/minas-gerais/noticia/2019/06/04/sobe-para-21-o-numero-de-casos-suspeitos-de-febre-maculosa-em-contagem.ghtml                          |\n| 10 | Pernambuco registra surto de doença de Chagas com 27 casos                           | Todos os pacientes fazem parte de grupo que esteve em retiro religioso.                                                                                                | https://g1.globo.com/pe/pernambuco/noticia/2019/06/04/sobe-para-27-numero-de-pacientes-em-tratamento-devido-a-surto-agudo-de-doenca-de-chagas.ghtml           |\n\n",
            "text/html": [
              "<table>\n",
              "<caption>A data.frame: 10 × 4</caption>\n",
              "<thead>\n",
              "\t<tr><th scope=col>X</th><th scope=col>Titulo</th><th scope=col>Legenda</th><th scope=col>Link</th></tr>\n",
              "\t<tr><th scope=col>&lt;int&gt;</th><th scope=col>&lt;chr&gt;</th><th scope=col>&lt;chr&gt;</th><th scope=col>&lt;chr&gt;</th></tr>\n",
              "</thead>\n",
              "<tbody>\n",
              "\t<tr><td> 1</td><td>Projeto de Bolsonaro eleva de 20 para 40 o limite de pontos na carteira de motorista</td><td>Presidente foi à Câmara entregar proposta. Outras mudanças são: tempo maior de validade da CNH e fim da exigência de exame toxicológico para motoristas profissionais.</td><td>https://g1.globo.com/politica/noticia/2019/06/04/bolsonaro-chega-a-camara-para-entregar-projeto-que-muda-regras-da-cnh.ghtml                                 </td></tr>\n",
              "\t<tr><td> 2</td><td>Entenda como será o pente-fino no INSS aprovado pelo Congresso                      </td><td>Medida vai estabelecer novas regras para benefícios como aposentadoria rural e salários-maternidade.                                                                  </td><td>https://g1.globo.com/economia/noticia/2019/06/04/entenda-como-sera-o-pente-fino-no-inss-aprovado-pelo-congresso.ghtml                                        </td></tr>\n",
              "\t<tr><td> 3</td><td>Governo envia a Alemanha e Noruega proposta para mudar Fundo Amazônia               </td><td>Maior parte das doações vem dos 2 países. Ministério quer usar fundo para indenizar proprietários rurais.                                                             </td><td>https://g1.globo.com/natureza/noticia/2019/06/04/governo-envia-para-embaixadas-da-alemanha-e-noruega-proposta-de-alteracao-do-fundo-amazonia.ghtml           </td></tr>\n",
              "\t<tr><td> 4</td><td>Ministro diz que Minha Casa Minha Vida será dividido em 2 programas                 </td><td>Um deles será para famílias de baixíssima renda, com 100% de financiamento.                                                                                           </td><td>https://g1.globo.com/economia/noticia/2019/06/04/minha-casa-minha-vida-sera-dividido-em-dois-programas-habitacionais-diz-ministro.ghtml                      </td></tr>\n",
              "\t<tr><td> 5</td><td>Governo tira do ar site com dados sobre uso de drogas no Brasil                     </td><td>Ministério da Cidadania diz que página está sendo 'migrada e atualizada'.                                                                                             </td><td>https://g1.globo.com/ciencia-e-saude/noticia/2019/06/04/governo-tira-do-ar-site-com-levantamentos-nacionais-sobre-o-uso-de-drogas-no-brasil.ghtml            </td></tr>\n",
              "\t<tr><td> 6</td><td>Ex-advogado de mulher que acusa Neymar nega tentativa de extorsão                   </td><td>Defesa do jogador relatou pedido de um 'cala boca' durante reunião em SP.                                                                                             </td><td>https://g1.globo.com/sp/sao-paulo/noticia/2019/06/04/ex-advogado-de-mulher-que-acusa-neymar-nega-tentativa-de-extorsao-em-reuniao-com-defesa-do-jogador.ghtml</td></tr>\n",
              "\t<tr><td> 7</td><td>Presidente da CBF garante Neymar na Copa América: 'Total confiança'                 </td><td>NA                                                                                                                                                                    </td><td>https://globoesporte.globo.com/futebol/selecao-brasileira/noticia/presidente-da-cbf-garante-neymar-na-copa-america-e-resume-temos-total-confianca-nele.ghtml </td></tr>\n",
              "\t<tr><td> 8</td><td>Maioria no STJ vota para mandar João de Deus de volta à cadeia                      </td><td>Réu por crimes sexuais, médium está internado e pedia para ficar preso em casa.                                                                                       </td><td>https://g1.globo.com/go/goias/noticia/2019/06/04/maioria-do-stj-vota-a-favor-de-mandar-joao-de-deus-de-volta-para-a-cadeia.ghtml                             </td></tr>\n",
              "\t<tr><td> 9</td><td>Cidade de Contagem tem 21 casos suspeitos de febre maculosa                         </td><td>NA                                                                                                                                                                    </td><td>https://g1.globo.com/mg/minas-gerais/noticia/2019/06/04/sobe-para-21-o-numero-de-casos-suspeitos-de-febre-maculosa-em-contagem.ghtml                         </td></tr>\n",
              "\t<tr><td>10</td><td>Pernambuco registra surto de doença de Chagas com 27 casos                          </td><td>Todos os pacientes fazem parte de grupo que esteve em retiro religioso.                                                                                               </td><td>https://g1.globo.com/pe/pernambuco/noticia/2019/06/04/sobe-para-27-numero-de-pacientes-em-tratamento-devido-a-surto-agudo-de-doenca-de-chagas.ghtml          </td></tr>\n",
              "</tbody>\n",
              "</table>\n"
            ]
          },
          "metadata": {
            "tags": []
          }
        }
      ]
    },
    {
      "cell_type": "code",
      "metadata": {
        "id": "b9kdIBu575LT",
        "colab_type": "code",
        "colab": {
          "base_uri": "https://localhost:8080/",
          "height": 243
        },
        "outputId": "5a63c8e9-87ae-4f90-d21e-6b51b0eb410c"
      },
      "source": [
        "annotation <- cnlp_annotate(g1, text_var=\"Titulo\")\n",
        "tf <- cnlp_utils_tfidf(annotation, type='tf')\n",
        "tf"
      ],
      "execution_count": 11,
      "outputs": [
        {
          "output_type": "stream",
          "text": [
            "   [[ suppressing 10 column names ‘de’, ‘o’, ‘parir’ ... ]]\n"
          ],
          "name": "stderr"
        },
        {
          "output_type": "display_data",
          "data": {
            "text/plain": [
              "10 x 10 sparse Matrix of class \"dgTMatrix\"\n",
              "                         \n",
              "doc1  3 2 1 . . . . . . .\n",
              "doc2  . 2 . 1 . . . . . 1\n",
              "doc3  . 1 1 . . . 1 . . .\n",
              "doc4  . . . . . . . . 1 1\n",
              "doc5  1 1 . . . 1 1 . . .\n",
              "doc6  2 . . 1 . . . 1 1 .\n",
              "doc7  . 1 . . . . . 1 . .\n",
              "doc8  2 1 1 . . . . . . .\n",
              "doc9  2 . . . 1 . . . . .\n",
              "doc10 2 . . . 1 1 . . . ."
            ]
          },
          "metadata": {
            "tags": []
          }
        }
      ]
    },
    {
      "cell_type": "code",
      "metadata": {
        "id": "WHbUnuY99cYQ",
        "colab_type": "code",
        "colab": {
          "base_uri": "https://localhost:8080/",
          "height": 219
        },
        "outputId": "590bfffa-2375-4344-e84e-6f18bbf20497"
      },
      "source": [
        "colnames(tf)"
      ],
      "execution_count": 12,
      "outputs": [
        {
          "output_type": "display_data",
          "data": {
            "text/plain": [
              " [1] \"de\"      \"o\"       \"parir\"   \"-\"       \"caso\"    \"com\"     \"Governo\"\n",
              " [8] \"Neymar\"  \"que\"     \"ser\"    "
            ],
            "text/latex": "\\begin{enumerate*}\n\\item 'de'\n\\item 'o'\n\\item 'parir'\n\\item '-'\n\\item 'caso'\n\\item 'com'\n\\item 'Governo'\n\\item 'Neymar'\n\\item 'que'\n\\item 'ser'\n\\end{enumerate*}\n",
            "text/markdown": "1. 'de'\n2. 'o'\n3. 'parir'\n4. '-'\n5. 'caso'\n6. 'com'\n7. 'Governo'\n8. 'Neymar'\n9. 'que'\n10. 'ser'\n\n\n",
            "text/html": [
              "<ol class=list-inline>\n",
              "\t<li>'de'</li>\n",
              "\t<li>'o'</li>\n",
              "\t<li>'parir'</li>\n",
              "\t<li>'-'</li>\n",
              "\t<li>'caso'</li>\n",
              "\t<li>'com'</li>\n",
              "\t<li>'Governo'</li>\n",
              "\t<li>'Neymar'</li>\n",
              "\t<li>'que'</li>\n",
              "\t<li>'ser'</li>\n",
              "</ol>\n"
            ]
          },
          "metadata": {
            "tags": []
          }
        }
      ]
    },
    {
      "cell_type": "markdown",
      "metadata": {
        "id": "9s0i8Xrr9q7K",
        "colab_type": "text"
      },
      "source": [
        "### Stopwords em Português"
      ]
    },
    {
      "cell_type": "code",
      "metadata": {
        "id": "X8uSxjUxDmlR",
        "colab_type": "code",
        "colab": {}
      },
      "source": [
        ""
      ],
      "execution_count": 0,
      "outputs": []
    },
    {
      "cell_type": "code",
      "metadata": {
        "id": "YWC5M_AdDea0",
        "colab_type": "code",
        "colab": {}
      },
      "source": [
        ""
      ],
      "execution_count": 0,
      "outputs": []
    },
    {
      "cell_type": "markdown",
      "metadata": {
        "id": "hj7hTqnCDnWY",
        "colab_type": "text"
      },
      "source": [
        "### Ngramas"
      ]
    },
    {
      "cell_type": "code",
      "metadata": {
        "id": "Ai8flkQHDpQR",
        "colab_type": "code",
        "colab": {}
      },
      "source": [
        ""
      ],
      "execution_count": 0,
      "outputs": []
    }
  ]
}